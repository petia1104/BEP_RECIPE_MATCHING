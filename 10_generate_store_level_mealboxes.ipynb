{
 "cells": [
  {
   "cell_type": "markdown",
   "id": "f6b90fb2",
   "metadata": {},
   "source": [
    "# Notebook 10 - Generate Store-Level Meal Boxes\n",
    "\n",
    "This notebook integrates product availability and waste-aware prioritization to select **fully matched recipe plans per store**. It ensures that:\n",
    "\n",
    "- All required ingredients for a recipe are available in the same store.\n",
    "- At least one ingredient is flagged as **wasted or markdown**, based on recent snapshot data.\n",
    "- Recipes are ranked using the average priority score of the ingredients they require.\n",
    "\n",
    "Inputs:\n",
    "- `products_with_priority.csv`: Product metadata with waste/markdown flags\n",
    "- `store_recipe_matches.csv`: Ingredient–store matching results\n",
    "- `recipes_with_ontology.csv`: Recipe–ingredient–concept mappings\n",
    "\n",
    "Output:\n",
    "- `store_mealbox_candidates.csv`: Ranked recipe candidates per store with complete and relevant ingredient matches\n"
   ]
  },
  {
   "cell_type": "code",
   "execution_count": 11,
   "id": "d8d1283c",
   "metadata": {},
   "outputs": [
    {
     "name": "stderr",
     "output_type": "stream",
     "text": [
      "C:\\Users\\User\\anaconda3\\lib\\site-packages\\IPython\\core\\interactiveshell.py:3165: DtypeWarning: Columns (1,3,5,31) have mixed types.Specify dtype option on import or set low_memory=False.\n",
      "  has_raised = await self.run_ast_nodes(code_ast.body, cell_name,\n"
     ]
    },
    {
     "name": "stdout",
     "output_type": "stream",
     "text": [
      "Available ingredient-store matches: (9, 5)\n"
     ]
    }
   ],
   "source": [
    "import pandas as pd\n",
    "import os\n",
    "\n",
    "# Paths\n",
    "input_folder = \"cleaned_data\"\n",
    "output_folder = \"cleaned_data\"\n",
    "\n",
    "# Load datasets\n",
    "df_products = pd.read_csv(os.path.join(input_folder, \"products_with_priority.csv\"))\n",
    "df_matches = pd.read_csv(os.path.join(input_folder, \"store_recipe_matches.csv\"))\n",
    "df_recipes = pd.read_csv(os.path.join(input_folder, \"recipes_with_ontology.csv\"))\n",
    "\n",
    "# Patch: Add recipe column to df_matches if missing\n",
    "if \"recipe\" not in df_matches.columns:\n",
    "    df_matches = df_matches.merge(df_recipes[[\"ingredient\", \"recipe\"]], on=\"ingredient\", how=\"left\")\n",
    "\n",
    "# Filter to ingredients available in store\n",
    "df_available = df_matches[df_matches[\"match_available\"] == True].copy()\n",
    "print(\"Available ingredient-store matches:\", df_available.shape)\n"
   ]
  },
  {
   "cell_type": "code",
   "execution_count": 12,
   "id": "dfb972b3",
   "metadata": {},
   "outputs": [
    {
     "name": "stdout",
     "output_type": "stream",
     "text": [
      "Complete and concept-flagged matches: (10, 14)\n"
     ]
    }
   ],
   "source": [
    "# Step 1 – Compute which recipes are fully matched\n",
    "ingredients_per_recipe = df_matches.groupby(\"recipe\")[\"ingredient\"].nunique().to_dict()\n",
    "grouped = df_available.groupby([\"store\", \"recipe\"])[\"ingredient\"].nunique().reset_index()\n",
    "grouped[\"total_required\"] = grouped[\"recipe\"].map(ingredients_per_recipe)\n",
    "grouped[\"complete\"] = grouped[\"ingredient\"] == grouped[\"total_required\"]\n",
    "df_complete = grouped[grouped[\"complete\"]].copy()\n",
    "\n",
    "# Step 2 – Merge ingredients + priority info\n",
    "df_products_subset = df_products[[\"store\", \"article\", \"product_concept\", \"priority_score\", \"waste_flag\", \"markdown_flag\"]].dropna()\n",
    "df_enriched = df_complete.merge(df_matches, on=[\"store\", \"recipe\"], how=\"left\")\n",
    "\n",
    "df_enriched = df_enriched.merge(\n",
    "    df_products_subset,\n",
    "    left_on=[\"store\", \"ingredient_concept\"],\n",
    "    right_on=[\"store\", \"product_concept\"],\n",
    "    how=\"left\"\n",
    ")\n",
    "\n",
    "# Step 3 – Keep only recipes with at least one ingredient flagged\n",
    "df_enriched[\"flagged\"] = df_enriched[[\"waste_flag\", \"markdown_flag\"]].sum(axis=1)\n",
    "df_enriched = df_enriched[df_enriched[\"flagged\"] > 0]\n",
    "print(\"Complete and concept-flagged matches:\", df_enriched.shape)\n"
   ]
  },
  {
   "cell_type": "code",
   "execution_count": 13,
   "id": "5a9addf5",
   "metadata": {},
   "outputs": [
    {
     "data": {
      "text/html": [
       "<div>\n",
       "<style scoped>\n",
       "    .dataframe tbody tr th:only-of-type {\n",
       "        vertical-align: middle;\n",
       "    }\n",
       "\n",
       "    .dataframe tbody tr th {\n",
       "        vertical-align: top;\n",
       "    }\n",
       "\n",
       "    .dataframe thead th {\n",
       "        text-align: right;\n",
       "    }\n",
       "</style>\n",
       "<table border=\"1\" class=\"dataframe\">\n",
       "  <thead>\n",
       "    <tr style=\"text-align: right;\">\n",
       "      <th></th>\n",
       "      <th>store</th>\n",
       "      <th>recipe</th>\n",
       "      <th>avg_priority</th>\n",
       "    </tr>\n",
       "  </thead>\n",
       "  <tbody>\n",
       "    <tr>\n",
       "      <th>0</th>\n",
       "      <td>1024</td>\n",
       "      <td>Greek Yogurt &amp; Honey</td>\n",
       "      <td>1</td>\n",
       "    </tr>\n",
       "    <tr>\n",
       "      <th>1</th>\n",
       "      <td>1058</td>\n",
       "      <td>Greek Yogurt &amp; Honey</td>\n",
       "      <td>1</td>\n",
       "    </tr>\n",
       "    <tr>\n",
       "      <th>2</th>\n",
       "      <td>1160</td>\n",
       "      <td>Greek Yogurt &amp; Honey</td>\n",
       "      <td>1</td>\n",
       "    </tr>\n",
       "    <tr>\n",
       "      <th>3</th>\n",
       "      <td>3298</td>\n",
       "      <td>Greek Yogurt &amp; Honey</td>\n",
       "      <td>1</td>\n",
       "    </tr>\n",
       "    <tr>\n",
       "      <th>4</th>\n",
       "      <td>3345</td>\n",
       "      <td>Greek Yogurt &amp; Honey</td>\n",
       "      <td>1</td>\n",
       "    </tr>\n",
       "  </tbody>\n",
       "</table>\n",
       "</div>"
      ],
      "text/plain": [
       "   store                recipe  avg_priority\n",
       "0   1024  Greek Yogurt & Honey             1\n",
       "1   1058  Greek Yogurt & Honey             1\n",
       "2   1160  Greek Yogurt & Honey             1\n",
       "3   3298  Greek Yogurt & Honey             1\n",
       "4   3345  Greek Yogurt & Honey             1"
      ]
     },
     "metadata": {},
     "output_type": "display_data"
    },
    {
     "name": "stdout",
     "output_type": "stream",
     "text": [
      "-> Saved store meal box candidates to: cleaned_data\\store_mealbox_candidates.csv\n"
     ]
    }
   ],
   "source": [
    "# Compute average priority per meal box (store–recipe)\n",
    "box_priority = (\n",
    "    df_enriched.groupby([\"store\", \"recipe\"])\n",
    "    .agg(avg_priority=(\"priority_score\", \"mean\"))\n",
    "    .reset_index()\n",
    ")\n",
    "\n",
    "# Sort for top-ranked recipes per store\n",
    "box_priority = box_priority.sort_values([\"store\", \"avg_priority\"], ascending=[True, False])\n",
    "display(box_priority.head())\n",
    "\n",
    "# Save output\n",
    "output_path = os.path.join(output_folder, \"store_mealbox_candidates.csv\")\n",
    "box_priority.to_csv(output_path, index=False)\n",
    "print(\"-> Saved store meal box candidates to:\", output_path)\n"
   ]
  },
  {
   "cell_type": "markdown",
   "id": "d8a40372",
   "metadata": {},
   "source": [
    "### Summary\n",
    "\n",
    "This notebook implements a robust meal box planning step by:\n",
    "\n",
    "- Identifying which recipes can be fully constructed from available store inventory.\n",
    "- Filtering out recipes that don't use any waste- or markdown-prioritized products.\n",
    "- Ranking remaining recipe-store pairs by average **priority_score**, enabling targeted interventions at high-waste locations.\n",
    "\n",
    "This strategy ensures both **completeness** and **waste-reduction relevance**, aligning with the project goal of minimizing retail and consumer food waste using intelligent meal planning.\n",
    "\n",
    "-> Output written to: `cleaned_data/store_mealbox_candidates.csv`\n",
    "\n"
   ]
  },
  {
   "cell_type": "code",
   "execution_count": null,
   "id": "eb6b28b2",
   "metadata": {},
   "outputs": [],
   "source": []
  }
 ],
 "metadata": {
  "kernelspec": {
   "display_name": "Python 3",
   "language": "python",
   "name": "python3"
  },
  "language_info": {
   "codemirror_mode": {
    "name": "ipython",
    "version": 3
   },
   "file_extension": ".py",
   "mimetype": "text/x-python",
   "name": "python",
   "nbconvert_exporter": "python",
   "pygments_lexer": "ipython3",
   "version": "3.8.8"
  }
 },
 "nbformat": 4,
 "nbformat_minor": 5
}
