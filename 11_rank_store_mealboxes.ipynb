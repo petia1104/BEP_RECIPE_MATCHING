{
 "cells": [
  {
   "cell_type": "markdown",
   "id": "9ac160f7",
   "metadata": {},
   "source": [
    "# Notebook 11 - Select and Filter Meal Box Plans per Store\n",
    "\n",
    "This notebook filters and ranks store-level meal box candidates by combining:\n",
    "\n",
    "- Semantic recipe matches from earlier stages\n",
    "- Store-specific product availability\n",
    "- Waste-aware prioritization (waste and markdown signals)\n",
    "\n",
    "We select only **fully matched recipes** where all required ingredients are available in a given store. The selected meal boxes are then enriched with ingredient lists to prepare them for final visualization or deployment.\n",
    "\n",
    "Inputs:\n",
    "- `store_mealbox_candidates.csv`: Candidate recipe–store pairs with average priority scores\n",
    "- `store_recipe_matches.csv`: Store-ingredient availability matrix\n",
    "- `recipes_with_ontology.csv`: Mapping from ingredients to recipes and concepts\n",
    "\n",
    "Output:\n",
    "- `store_mealbox_ranked.csv`: Final enriched meal box plan per store\n"
   ]
  },
  {
   "cell_type": "code",
   "execution_count": 1,
   "id": "71941c78",
   "metadata": {},
   "outputs": [
    {
     "name": "stdout",
     "output_type": "stream",
     "text": [
      "Candidates: (9, 3)\n",
      "Matches: (54, 4)\n",
      "Recipes: (6, 6)\n"
     ]
    }
   ],
   "source": [
    "import pandas as pd\n",
    "import os\n",
    "\n",
    "# Paths\n",
    "input_folder = \"cleaned_data\"\n",
    "output_folder = \"cleaned_data\"\n",
    "\n",
    "# Load candidate boxes, store–ingredient matches, and recipe definitions\n",
    "df_candidates = pd.read_csv(os.path.join(input_folder, \"store_mealbox_candidates.csv\"))\n",
    "df_matches = pd.read_csv(os.path.join(input_folder, \"store_recipe_matches.csv\"))\n",
    "df_recipes = pd.read_csv(os.path.join(input_folder, \"recipes_with_ontology.csv\"))\n",
    "\n",
    "print(\"Candidates:\", df_candidates.shape)\n",
    "print(\"Matches:\", df_matches.shape)\n",
    "print(\"Recipes:\", df_recipes.shape)\n"
   ]
  },
  {
   "cell_type": "code",
   "execution_count": 3,
   "id": "1801a571",
   "metadata": {},
   "outputs": [
    {
     "data": {
      "text/html": [
       "<div>\n",
       "<style scoped>\n",
       "    .dataframe tbody tr th:only-of-type {\n",
       "        vertical-align: middle;\n",
       "    }\n",
       "\n",
       "    .dataframe tbody tr th {\n",
       "        vertical-align: top;\n",
       "    }\n",
       "\n",
       "    .dataframe thead th {\n",
       "        text-align: right;\n",
       "    }\n",
       "</style>\n",
       "<table border=\"1\" class=\"dataframe\">\n",
       "  <thead>\n",
       "    <tr style=\"text-align: right;\">\n",
       "      <th></th>\n",
       "      <th>store</th>\n",
       "      <th>recipe</th>\n",
       "      <th>avg_priority</th>\n",
       "      <th>ingredients</th>\n",
       "    </tr>\n",
       "  </thead>\n",
       "  <tbody>\n",
       "    <tr>\n",
       "      <th>0</th>\n",
       "      <td>1024</td>\n",
       "      <td>Greek Yogurt &amp; Honey</td>\n",
       "      <td>1</td>\n",
       "      <td>[yogurt]</td>\n",
       "    </tr>\n",
       "    <tr>\n",
       "      <th>1</th>\n",
       "      <td>1058</td>\n",
       "      <td>Greek Yogurt &amp; Honey</td>\n",
       "      <td>1</td>\n",
       "      <td>[yogurt]</td>\n",
       "    </tr>\n",
       "    <tr>\n",
       "      <th>2</th>\n",
       "      <td>1160</td>\n",
       "      <td>Greek Yogurt &amp; Honey</td>\n",
       "      <td>1</td>\n",
       "      <td>[yogurt]</td>\n",
       "    </tr>\n",
       "    <tr>\n",
       "      <th>3</th>\n",
       "      <td>3298</td>\n",
       "      <td>Greek Yogurt &amp; Honey</td>\n",
       "      <td>1</td>\n",
       "      <td>[yogurt]</td>\n",
       "    </tr>\n",
       "    <tr>\n",
       "      <th>4</th>\n",
       "      <td>3345</td>\n",
       "      <td>Greek Yogurt &amp; Honey</td>\n",
       "      <td>1</td>\n",
       "      <td>[yogurt]</td>\n",
       "    </tr>\n",
       "  </tbody>\n",
       "</table>\n",
       "</div>"
      ],
      "text/plain": [
       "   store                recipe  avg_priority ingredients\n",
       "0   1024  Greek Yogurt & Honey             1    [yogurt]\n",
       "1   1058  Greek Yogurt & Honey             1    [yogurt]\n",
       "2   1160  Greek Yogurt & Honey             1    [yogurt]\n",
       "3   3298  Greek Yogurt & Honey             1    [yogurt]\n",
       "4   3345  Greek Yogurt & Honey             1    [yogurt]"
      ]
     },
     "metadata": {},
     "output_type": "display_data"
    }
   ],
   "source": [
    "# Patch: Add recipe column to matches if missing\n",
    "if \"recipe\" not in df_available.columns:\n",
    "    df_available = df_available.merge(df_recipes[[\"ingredient\", \"recipe\"]], on=\"ingredient\", how=\"left\")\n",
    "\n",
    "# Group ingredients per recipe per store\n",
    "ingredient_lists = (\n",
    "    df_available.groupby([\"store\", \"recipe\"])[\"ingredient\"]\n",
    "    .apply(list)\n",
    "    .reset_index()\n",
    ")\n",
    "\n",
    "# Merge back into candidate ranking\n",
    "df_ranked = df_candidates.merge(ingredient_lists, on=[\"store\", \"recipe\"], how=\"left\")\n",
    "\n",
    "# Drop rows with missing ingredients\n",
    "df_ranked = df_ranked[df_ranked[\"ingredient\"].notna()]\n",
    "\n",
    "# Rename for clarity\n",
    "df_ranked.rename(columns={\"ingredient\": \"ingredients\"}, inplace=True)\n",
    "\n",
    "# Preview result\n",
    "display(df_ranked.head())\n"
   ]
  },
  {
   "cell_type": "code",
   "execution_count": 4,
   "id": "344f1b21",
   "metadata": {},
   "outputs": [
    {
     "name": "stdout",
     "output_type": "stream",
     "text": [
      "-> Saved ranked store-level meal boxes to: cleaned_data\\store_mealbox_ranked.csv\n"
     ]
    }
   ],
   "source": [
    "# Final export\n",
    "output_file = os.path.join(output_folder, \"store_mealbox_ranked.csv\")\n",
    "df_ranked.to_csv(output_file, index=False)\n",
    "\n",
    "print(\"-> Saved ranked store-level meal boxes to:\", output_file)\n"
   ]
  },
  {
   "cell_type": "markdown",
   "id": "0eb60742",
   "metadata": {},
   "source": [
    "### Summary\n",
    "\n",
    "This notebook finalizes the store-specific meal box recommendation output by:\n",
    "\n",
    "- Reconstructing per-store ingredient lists for each complete recipe\n",
    "- Filtering out incomplete or untraceable matches\n",
    "- Renaming and formatting fields for clarity\n",
    "- Exporting the enriched meal box structure for operational use\n",
    "\n",
    "This ranked output supports **inventory planning** and **meal kit creation** across store branches and will be used for final visualization and evaluation in Notebook 12.\n"
   ]
  },
  {
   "cell_type": "code",
   "execution_count": null,
   "id": "3c999a47",
   "metadata": {},
   "outputs": [],
   "source": []
  }
 ],
 "metadata": {
  "kernelspec": {
   "display_name": "Python 3",
   "language": "python",
   "name": "python3"
  },
  "language_info": {
   "codemirror_mode": {
    "name": "ipython",
    "version": 3
   },
   "file_extension": ".py",
   "mimetype": "text/x-python",
   "name": "python",
   "nbconvert_exporter": "python",
   "pygments_lexer": "ipython3",
   "version": "3.8.8"
  }
 },
 "nbformat": 4,
 "nbformat_minor": 5
}
