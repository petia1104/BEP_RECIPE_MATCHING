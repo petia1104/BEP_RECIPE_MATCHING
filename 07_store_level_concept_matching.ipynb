{
 "cells": [
  {
   "cell_type": "markdown",
   "id": "af71f206",
   "metadata": {},
   "source": [
    "# Notebook 07 - Store-Level Concept Matching\n",
    "\n",
    "This notebook matches recipe ingredients to store-specific product availability using ontology-aligned food concepts.\n",
    "\n",
    "Key steps:\n",
    "- Load products with delivery data and ontology concepts\n",
    "- Load recipes with normalized ingredient concepts\n",
    "- Group store availability by `product_concept`\n",
    "- Match ingredients to available store products using `ingredient_concept`\n",
    "\n",
    "Inputs:\n",
    "- `products_with_ontology.csv`\n",
    "- `recipes_with_ontology.csv`\n",
    "\n",
    "Output:\n",
    "- `store_recipe_matches.csv` - recipe-to-product mappings per store (by concept)\n"
   ]
  },
  {
   "cell_type": "code",
   "execution_count": 6,
   "id": "b65cf0b8",
   "metadata": {},
   "outputs": [
    {
     "name": "stderr",
     "output_type": "stream",
     "text": [
      "C:\\Users\\User\\anaconda3\\lib\\site-packages\\IPython\\core\\interactiveshell.py:3165: DtypeWarning: Columns (1,3,5,31) have mixed types.Specify dtype option on import or set low_memory=False.\n",
      "  has_raised = await self.run_ast_nodes(code_ast.body, cell_name,\n"
     ]
    },
    {
     "name": "stdout",
     "output_type": "stream",
     "text": [
      "Products: (126919, 32)\n",
      "Recipes: (6, 6)\n"
     ]
    }
   ],
   "source": [
    "import pandas as pd\n",
    "import os\n",
    "\n",
    "input_folder = \"cleaned_data\"\n",
    "\n",
    "# Load enriched datasets\n",
    "df_products = pd.read_csv(os.path.join(input_folder, \"products_with_ontology.csv\"))\n",
    "df_recipes = pd.read_csv(os.path.join(input_folder, \"recipes_with_ontology.csv\"))\n",
    "\n",
    "print(\"Products:\", df_products.shape)\n",
    "print(\"Recipes:\", df_recipes.shape)\n"
   ]
  },
  {
   "cell_type": "code",
   "execution_count": 7,
   "id": "b29e5743",
   "metadata": {},
   "outputs": [
    {
     "name": "stdout",
     "output_type": "stream",
     "text": [
      "Filtered products: (10, 32)\n"
     ]
    },
    {
     "data": {
      "text/html": [
       "<div>\n",
       "<style scoped>\n",
       "    .dataframe tbody tr th:only-of-type {\n",
       "        vertical-align: middle;\n",
       "    }\n",
       "\n",
       "    .dataframe tbody tr th {\n",
       "        vertical-align: top;\n",
       "    }\n",
       "\n",
       "    .dataframe thead th {\n",
       "        text-align: right;\n",
       "    }\n",
       "</style>\n",
       "<table border=\"1\" class=\"dataframe\">\n",
       "  <thead>\n",
       "    <tr style=\"text-align: right;\">\n",
       "      <th></th>\n",
       "      <th>store</th>\n",
       "      <th>product_concept</th>\n",
       "      <th>delivered_quantity</th>\n",
       "    </tr>\n",
       "  </thead>\n",
       "  <tbody>\n",
       "    <tr>\n",
       "      <th>8058</th>\n",
       "      <td>1024</td>\n",
       "      <td>yogurt</td>\n",
       "      <td>12.0</td>\n",
       "    </tr>\n",
       "    <tr>\n",
       "      <th>22210</th>\n",
       "      <td>1058</td>\n",
       "      <td>yogurt</td>\n",
       "      <td>18.0</td>\n",
       "    </tr>\n",
       "    <tr>\n",
       "      <th>66841</th>\n",
       "      <td>1160</td>\n",
       "      <td>yogurt</td>\n",
       "      <td>6.0</td>\n",
       "    </tr>\n",
       "    <tr>\n",
       "      <th>112267</th>\n",
       "      <td>3298</td>\n",
       "      <td>yogurt</td>\n",
       "      <td>6.0</td>\n",
       "    </tr>\n",
       "    <tr>\n",
       "      <th>112268</th>\n",
       "      <td>3298</td>\n",
       "      <td>yogurt</td>\n",
       "      <td>6.0</td>\n",
       "    </tr>\n",
       "  </tbody>\n",
       "</table>\n",
       "</div>"
      ],
      "text/plain": [
       "        store product_concept  delivered_quantity\n",
       "8058     1024          yogurt                12.0\n",
       "22210    1058          yogurt                18.0\n",
       "66841    1160          yogurt                 6.0\n",
       "112267   3298          yogurt                 6.0\n",
       "112268   3298          yogurt                 6.0"
      ]
     },
     "metadata": {},
     "output_type": "display_data"
    }
   ],
   "source": [
    "# Keep only rows with known ontology mapping and nonzero delivery\n",
    "df_filtered = df_products[\n",
    "    df_products[\"product_concept\"].notna() &\n",
    "    df_products[\"delivered_quantity\"].fillna(0).astype(float) > 0\n",
    "].copy()\n",
    "\n",
    "# Drop any missing delivery info or store IDs\n",
    "df_filtered = df_filtered.dropna(subset=[\"store\", \"article\", \"product_concept\"])\n",
    "\n",
    "print(\"Filtered products:\", df_filtered.shape)\n",
    "display(df_filtered[[\"store\", \"product_concept\", \"delivered_quantity\"]].head())\n"
   ]
  },
  {
   "cell_type": "code",
   "execution_count": 8,
   "id": "5cc90b39",
   "metadata": {},
   "outputs": [
    {
     "name": "stdout",
     "output_type": "stream",
     "text": [
      "Total stores with concept-level availability: 9\n"
     ]
    }
   ],
   "source": [
    "# Group available concepts per store\n",
    "store_concept_lookup = (\n",
    "    df_filtered.groupby(\"store\")[\"product_concept\"]\n",
    "    .apply(lambda x: set(x.dropna().unique()))\n",
    "    .to_dict()\n",
    ")\n",
    "\n",
    "print(f\"Total stores with concept-level availability: {len(store_concept_lookup)}\")\n"
   ]
  },
  {
   "cell_type": "code",
   "execution_count": 9,
   "id": "dca75a07",
   "metadata": {},
   "outputs": [
    {
     "data": {
      "text/html": [
       "<div>\n",
       "<style scoped>\n",
       "    .dataframe tbody tr th:only-of-type {\n",
       "        vertical-align: middle;\n",
       "    }\n",
       "\n",
       "    .dataframe tbody tr th {\n",
       "        vertical-align: top;\n",
       "    }\n",
       "\n",
       "    .dataframe thead th {\n",
       "        text-align: right;\n",
       "    }\n",
       "</style>\n",
       "<table border=\"1\" class=\"dataframe\">\n",
       "  <thead>\n",
       "    <tr style=\"text-align: right;\">\n",
       "      <th></th>\n",
       "      <th>store</th>\n",
       "      <th>ingredient</th>\n",
       "      <th>ingredient_concept</th>\n",
       "      <th>match_available</th>\n",
       "    </tr>\n",
       "  </thead>\n",
       "  <tbody>\n",
       "    <tr>\n",
       "      <th>0</th>\n",
       "      <td>1024</td>\n",
       "      <td>strawberries</td>\n",
       "      <td>strawberries</td>\n",
       "      <td>False</td>\n",
       "    </tr>\n",
       "    <tr>\n",
       "      <th>1</th>\n",
       "      <td>1058</td>\n",
       "      <td>strawberries</td>\n",
       "      <td>strawberries</td>\n",
       "      <td>False</td>\n",
       "    </tr>\n",
       "    <tr>\n",
       "      <th>2</th>\n",
       "      <td>1160</td>\n",
       "      <td>strawberries</td>\n",
       "      <td>strawberries</td>\n",
       "      <td>False</td>\n",
       "    </tr>\n",
       "    <tr>\n",
       "      <th>3</th>\n",
       "      <td>3298</td>\n",
       "      <td>strawberries</td>\n",
       "      <td>strawberries</td>\n",
       "      <td>False</td>\n",
       "    </tr>\n",
       "    <tr>\n",
       "      <th>4</th>\n",
       "      <td>3345</td>\n",
       "      <td>strawberries</td>\n",
       "      <td>strawberries</td>\n",
       "      <td>False</td>\n",
       "    </tr>\n",
       "  </tbody>\n",
       "</table>\n",
       "</div>"
      ],
      "text/plain": [
       "   store    ingredient ingredient_concept  match_available\n",
       "0   1024  strawberries       strawberries            False\n",
       "1   1058  strawberries       strawberries            False\n",
       "2   1160  strawberries       strawberries            False\n",
       "3   3298  strawberries       strawberries            False\n",
       "4   3345  strawberries       strawberries            False"
      ]
     },
     "execution_count": 9,
     "metadata": {},
     "output_type": "execute_result"
    }
   ],
   "source": [
    "results = []\n",
    "\n",
    "for _, row in df_recipes.iterrows():\n",
    "    ingr = row[\"ingredient\"]\n",
    "    ingr_concept = row[\"ingredient_concept\"]\n",
    "\n",
    "    if not ingr_concept:\n",
    "        continue  # skip if no ontology match\n",
    "\n",
    "    for store, concepts in store_concept_lookup.items():\n",
    "        if ingr_concept in concepts:\n",
    "            results.append({\n",
    "                \"store\": store,\n",
    "                \"ingredient\": ingr,\n",
    "                \"ingredient_concept\": ingr_concept,\n",
    "                \"match_available\": True\n",
    "            })\n",
    "        else:\n",
    "            results.append({\n",
    "                \"store\": store,\n",
    "                \"ingredient\": ingr,\n",
    "                \"ingredient_concept\": ingr_concept,\n",
    "                \"match_available\": False\n",
    "            })\n",
    "\n",
    "# Convert to DataFrame\n",
    "df_matches = pd.DataFrame(results)\n",
    "df_matches.head()\n"
   ]
  },
  {
   "cell_type": "code",
   "execution_count": 10,
   "id": "52d3a12f",
   "metadata": {},
   "outputs": [
    {
     "name": "stdout",
     "output_type": "stream",
     "text": [
      "-> Saved store-level recipe matches to: cleaned_data\\store_recipe_matches.csv\n"
     ]
    }
   ],
   "source": [
    "output_path = os.path.join(input_folder, \"store_recipe_matches.csv\")\n",
    "df_matches.to_csv(output_path, index=False)\n",
    "print(\"-> Saved store-level recipe matches to:\", output_path)\n"
   ]
  },
  {
   "cell_type": "code",
   "execution_count": null,
   "id": "64c5c66b",
   "metadata": {},
   "outputs": [],
   "source": []
  }
 ],
 "metadata": {
  "kernelspec": {
   "display_name": "Python 3",
   "language": "python",
   "name": "python3"
  },
  "language_info": {
   "codemirror_mode": {
    "name": "ipython",
    "version": 3
   },
   "file_extension": ".py",
   "mimetype": "text/x-python",
   "name": "python",
   "nbconvert_exporter": "python",
   "pygments_lexer": "ipython3",
   "version": "3.8.8"
  }
 },
 "nbformat": 4,
 "nbformat_minor": 5
}
