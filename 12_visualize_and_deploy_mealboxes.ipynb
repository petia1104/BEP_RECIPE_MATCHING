{
 "cells": [
  {
   "cell_type": "markdown",
   "id": "23353c1e",
   "metadata": {},
   "source": [
    "# Notebook 12 - Visualize and Deploy Meal Box Plans\n",
    "\n",
    "This notebook provides a high-level summary and deployment output for meal box plans. We:\n",
    "\n",
    "- Visualize how meal boxes are distributed across stores.\n",
    "- Rank stores by number of recipes matched.\n",
    "- Merge store names and addresses.\n",
    "- Optionally export store-specific inventory plans.\n",
    "\n",
    "Inputs:\n",
    "- `store_mealbox_ranked.csv`\n",
    "- `recipes_with_ontology.csv`\n",
    "- `NAW filialen.xlsx` (store metadata)\n",
    "\n",
    "Outputs:\n",
    "- `store_summary_mealbox_counts.csv`\n",
    "- (Optional) Per-store meal box CSVs in `store_exports/`\n"
   ]
  },
  {
   "cell_type": "code",
   "execution_count": 5,
   "id": "f687c8d7",
   "metadata": {},
   "outputs": [
    {
     "name": "stdout",
     "output_type": "stream",
     "text": [
      "Meal boxes: (9, 4)\n",
      "Recipes: (6, 6)\n",
      "Stores: (135, 5)\n"
     ]
    }
   ],
   "source": [
    "import pandas as pd\n",
    "import os\n",
    "import matplotlib.pyplot as plt\n",
    "\n",
    "# Paths\n",
    "input_folder = \"cleaned_data\"\n",
    "deployment_folder = \"store_exports\"\n",
    "os.makedirs(deployment_folder, exist_ok=True)\n",
    "\n",
    "# Load input files\n",
    "df_ranked = pd.read_csv(os.path.join(input_folder, \"store_mealbox_ranked.csv\"))\n",
    "df_recipes = pd.read_csv(os.path.join(input_folder, \"recipes_with_ontology.csv\"))\n",
    "df_stores = pd.read_excel(\"C:/Users/User/Desktop/University/BEP/Data/Dirk data/NAW filialen.xlsx\")\n",
    "\n",
    "# Normalize column names\n",
    "df_stores.columns = df_stores.columns.str.strip().str.lower()\n",
    "df_stores.rename(columns={\"fil. nr.\": \"store\"}, inplace=True)\n",
    "\n",
    "print(\"Meal boxes:\", df_ranked.shape)\n",
    "print(\"Recipes:\", df_recipes.shape)\n",
    "print(\"Stores:\", df_stores.shape)\n"
   ]
  },
  {
   "cell_type": "code",
   "execution_count": 6,
   "id": "38264d37",
   "metadata": {},
   "outputs": [
    {
     "data": {
      "text/html": [
       "<div>\n",
       "<style scoped>\n",
       "    .dataframe tbody tr th:only-of-type {\n",
       "        vertical-align: middle;\n",
       "    }\n",
       "\n",
       "    .dataframe tbody tr th {\n",
       "        vertical-align: top;\n",
       "    }\n",
       "\n",
       "    .dataframe thead th {\n",
       "        text-align: right;\n",
       "    }\n",
       "</style>\n",
       "<table border=\"1\" class=\"dataframe\">\n",
       "  <thead>\n",
       "    <tr style=\"text-align: right;\">\n",
       "      <th></th>\n",
       "      <th>store</th>\n",
       "      <th>mealbox_count</th>\n",
       "      <th>filiaal</th>\n",
       "      <th>adres</th>\n",
       "      <th>postcode</th>\n",
       "      <th>plaatsnaam</th>\n",
       "    </tr>\n",
       "  </thead>\n",
       "  <tbody>\n",
       "    <tr>\n",
       "      <th>0</th>\n",
       "      <td>1024</td>\n",
       "      <td>1</td>\n",
       "      <td>Sassenheim Wasbeekerlaan</td>\n",
       "      <td>Wasbeekerlaan 63</td>\n",
       "      <td>2171 AE</td>\n",
       "      <td>Sassenheim</td>\n",
       "    </tr>\n",
       "    <tr>\n",
       "      <th>1</th>\n",
       "      <td>1058</td>\n",
       "      <td>1</td>\n",
       "      <td>Leiden Langegracht</td>\n",
       "      <td>Langegracht 3</td>\n",
       "      <td>2312 NV</td>\n",
       "      <td>Leiden</td>\n",
       "    </tr>\n",
       "    <tr>\n",
       "      <th>2</th>\n",
       "      <td>1160</td>\n",
       "      <td>1</td>\n",
       "      <td>Zandvoort Burg. Engelbertsstraat</td>\n",
       "      <td>Burg. Engelbertsstraat 21</td>\n",
       "      <td>2042 KM</td>\n",
       "      <td>Zandvoort</td>\n",
       "    </tr>\n",
       "    <tr>\n",
       "      <th>3</th>\n",
       "      <td>3298</td>\n",
       "      <td>1</td>\n",
       "      <td>Utrecht Vasco Da Gamalaan</td>\n",
       "      <td>Vasco Da Gamalaan 1-5</td>\n",
       "      <td>3526 ER</td>\n",
       "      <td>Utrecht</td>\n",
       "    </tr>\n",
       "    <tr>\n",
       "      <th>4</th>\n",
       "      <td>3345</td>\n",
       "      <td>1</td>\n",
       "      <td>Maarssen Bisonspoor - 2.0</td>\n",
       "      <td>Bisonspoor 1116</td>\n",
       "      <td>3605 KN</td>\n",
       "      <td>Maarssen</td>\n",
       "    </tr>\n",
       "    <tr>\n",
       "      <th>5</th>\n",
       "      <td>4243</td>\n",
       "      <td>1</td>\n",
       "      <td>Hardinxveld-Giessendam Den Bogerd</td>\n",
       "      <td>Den Bogerd 24</td>\n",
       "      <td>3371 AM</td>\n",
       "      <td>Hardinxveld-Giessendam</td>\n",
       "    </tr>\n",
       "    <tr>\n",
       "      <th>6</th>\n",
       "      <td>4260</td>\n",
       "      <td>1</td>\n",
       "      <td>Barendrecht Muziekplein</td>\n",
       "      <td>Muziekplein 5</td>\n",
       "      <td>2992 GH</td>\n",
       "      <td>Barendrecht</td>\n",
       "    </tr>\n",
       "    <tr>\n",
       "      <th>7</th>\n",
       "      <td>4278</td>\n",
       "      <td>1</td>\n",
       "      <td>Sliedrecht Fazantplein</td>\n",
       "      <td>Fazantplein 3</td>\n",
       "      <td>3362 BA</td>\n",
       "      <td>Sliedrecht</td>\n",
       "    </tr>\n",
       "    <tr>\n",
       "      <th>8</th>\n",
       "      <td>5070</td>\n",
       "      <td>1</td>\n",
       "      <td>Goes Beukenhof</td>\n",
       "      <td>Beukenhof 1</td>\n",
       "      <td>4462 EN</td>\n",
       "      <td>Goes</td>\n",
       "    </tr>\n",
       "  </tbody>\n",
       "</table>\n",
       "</div>"
      ],
      "text/plain": [
       "   store  mealbox_count                            filiaal  \\\n",
       "0   1024              1           Sassenheim Wasbeekerlaan   \n",
       "1   1058              1                 Leiden Langegracht   \n",
       "2   1160              1   Zandvoort Burg. Engelbertsstraat   \n",
       "3   3298              1          Utrecht Vasco Da Gamalaan   \n",
       "4   3345              1          Maarssen Bisonspoor - 2.0   \n",
       "5   4243              1  Hardinxveld-Giessendam Den Bogerd   \n",
       "6   4260              1            Barendrecht Muziekplein   \n",
       "7   4278              1             Sliedrecht Fazantplein   \n",
       "8   5070              1                     Goes Beukenhof   \n",
       "\n",
       "                       adres postcode              plaatsnaam  \n",
       "0           Wasbeekerlaan 63  2171 AE              Sassenheim  \n",
       "1              Langegracht 3  2312 NV                  Leiden  \n",
       "2  Burg. Engelbertsstraat 21  2042 KM               Zandvoort  \n",
       "3      Vasco Da Gamalaan 1-5  3526 ER                 Utrecht  \n",
       "4            Bisonspoor 1116  3605 KN                Maarssen  \n",
       "5              Den Bogerd 24  3371 AM  Hardinxveld-Giessendam  \n",
       "6              Muziekplein 5  2992 GH             Barendrecht  \n",
       "7              Fazantplein 3  3362 BA              Sliedrecht  \n",
       "8                Beukenhof 1  4462 EN                    Goes  "
      ]
     },
     "metadata": {},
     "output_type": "display_data"
    }
   ],
   "source": [
    "# Count number of meal boxes per store\n",
    "store_summary = df_ranked.groupby(\"store\")[\"recipe\"].count().reset_index()\n",
    "store_summary.columns = [\"store\", \"mealbox_count\"]\n",
    "\n",
    "# Merge with store metadata\n",
    "store_summary = store_summary.merge(df_stores, on=\"store\", how=\"left\")\n",
    "\n",
    "# Sort by count\n",
    "store_summary_sorted = store_summary.sort_values(\"mealbox_count\", ascending=False)\n",
    "display(store_summary_sorted.head(10))\n"
   ]
  },
  {
   "cell_type": "code",
   "execution_count": 7,
   "id": "789fde76",
   "metadata": {},
   "outputs": [
    {
     "data": {
      "image/png": "[encoded data removed]",
      "text/plain": [
       "<Figure size 864x432 with 1 Axes>"
      ]
     },
     "metadata": {
      "needs_background": "light"
     },
     "output_type": "display_data"
    }
   ],
   "source": [
    "plt.figure(figsize=(12, 6))\n",
    "top_n = store_summary_sorted.head(15)\n",
    "plt.bar(top_n[\"filiaal\"], top_n[\"mealbox_count\"])\n",
    "plt.xticks(rotation=45, ha=\"right\")\n",
    "plt.ylabel(\"Meal Boxes Assigned\")\n",
    "plt.title(\"Top 15 Stores by Meal Box Count\")\n",
    "plt.tight_layout()\n",
    "plt.show()\n"
   ]
  },
  {
   "cell_type": "code",
   "execution_count": 8,
   "id": "588349ad",
   "metadata": {},
   "outputs": [
    {
     "name": "stdout",
     "output_type": "stream",
     "text": [
      "Store summary saved to: cleaned_data\\store_summary_mealbox_counts.csv\n"
     ]
    }
   ],
   "source": [
    "summary_output_path = os.path.join(input_folder, \"store_summary_mealbox_counts.csv\")\n",
    "store_summary_sorted.to_csv(summary_output_path, index=False)\n",
    "print(\"Store summary saved to:\", summary_output_path)\n"
   ]
  },
  {
   "cell_type": "code",
   "execution_count": 9,
   "id": "a6ae99d5",
   "metadata": {},
   "outputs": [],
   "source": [
    "# Optional: export one CSV per store with recipe names and ingredients\n",
    "grouped = df_ranked.explode(\"ingredients\").groupby(\"store\")\n",
    "\n",
    "for store_id, df_store in grouped:\n",
    "    export_path = os.path.join(deployment_folder, f\"mealbox_plan_store_{store_id}.csv\")\n",
    "    df_export = df_store[[\"recipe\", \"ingredients\"]]\n",
    "    df_export.to_csv(export_path, index=False)\n"
   ]
  },
  {
   "cell_type": "markdown",
   "id": "3ab093bd",
   "metadata": {},
   "source": [
    "## Summary\n",
    "\n",
    "This notebook finalized the deployment layer for waste-aware meal boxes:\n",
    "\n",
    "- Merged meal box plans with store metadata.\n",
    "- Ranked stores by readiness (number of complete recipes).\n",
    "- Visualized distribution of meal kits across top locations.\n",
    "- (Optional) Generated CSVs per store for deployment.\n",
    "\n",
    "This enables targeted interventions at the store level, helping reduce food waste while aligning operational strategy with data-driven insights.\n"
   ]
  },
  {
   "cell_type": "code",
   "execution_count": null,
   "id": "fa4dec69",
   "metadata": {},
   "outputs": [],
   "source": []
  }
 ],
 "metadata": {
  "kernelspec": {
   "display_name": "Python 3",
   "language": "python",
   "name": "python3"
  },
  "language_info": {
   "codemirror_mode": {
    "name": "ipython",
    "version": 3
   },
   "file_extension": ".py",
   "mimetype": "text/x-python",
   "name": "python",
   "nbconvert_exporter": "python",
   "pygments_lexer": "ipython3",
   "version": "3.8.8"
  }
 },
 "nbformat": 4,
 "nbformat_minor": 5
}
