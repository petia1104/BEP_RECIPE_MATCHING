{
 "cells": [
  {
   "cell_type": "markdown",
   "id": "08a9711f",
   "metadata": {},
   "source": [
    "# Notebook 09 - Prioritize Waste-Aware Matching\n",
    "\n",
    "This notebook integrates waste and markdown data—enriched with product concepts—into the product dataset. Each product is flagged with a `waste_flag` or `markdown_flag` if it appears in recent waste or discount files, using a shared food ontology.\n",
    "\n",
    "Input files:\n",
    "- `products_semantic_ready.csv`\n",
    "- `waste_with_concept.csv`\n",
    "- `markdown_with_concept.csv`\n",
    "\n",
    "Output:\n",
    "- `products_with_priority.csv`\n"
   ]
  },
  {
   "cell_type": "code",
   "execution_count": 1,
   "id": "7a656c2b",
   "metadata": {},
   "outputs": [],
   "source": [
    "import pandas as pd\n",
    "import os\n",
    "\n",
    "# Paths\n",
    "input_folder = \"cleaned_data\"\n",
    "output_folder = \"cleaned_data\"\n",
    "\n",
    "products_file = os.path.join(input_folder, \"products_semantic_ready.csv\")\n",
    "waste_file = os.path.join(input_folder, \"waste_with_concept.csv\")\n",
    "markdown_file = os.path.join(input_folder, \"markdown_with_concept.csv\")\n"
   ]
  },
  {
   "cell_type": "code",
   "execution_count": 8,
   "id": "52c53129",
   "metadata": {},
   "outputs": [
    {
     "name": "stdout",
     "output_type": "stream",
     "text": [
      "Products: (126919, 32)\n",
      "Waste: (18382, 16)\n",
      "Markdown: (5605, 9)\n"
     ]
    },
    {
     "name": "stderr",
     "output_type": "stream",
     "text": [
      "C:\\Users\\User\\anaconda3\\lib\\site-packages\\IPython\\core\\interactiveshell.py:3165: DtypeWarning: Columns (1,3,5,31) have mixed types.Specify dtype option on import or set low_memory=False.\n",
      "  has_raised = await self.run_ast_nodes(code_ast.body, cell_name,\n"
     ]
    }
   ],
   "source": [
    "df_products = pd.read_csv(os.path.join(input_folder, \"products_with_ontology.csv\"))\n",
    "df_waste = pd.read_csv(os.path.join(input_folder, \"waste_with_concept.csv\"))\n",
    "df_markdown = pd.read_csv(os.path.join(input_folder, \"markdown_with_concept.csv\"))\n",
    "\n",
    "print(\"Products:\", df_products.shape)\n",
    "print(\"Waste:\", df_waste.shape)\n",
    "print(\"Markdown:\", df_markdown.shape)\n"
   ]
  },
  {
   "cell_type": "code",
   "execution_count": 9,
   "id": "323268d9",
   "metadata": {},
   "outputs": [],
   "source": [
    "# Extract product name from column 'Unnamed: 4'\n",
    "df_markdown[\"product_name_clean\"] = df_markdown[\"Unnamed: 4\"].astype(str).str.strip().str.lower()\n"
   ]
  },
  {
   "cell_type": "code",
   "execution_count": 10,
   "id": "38e1ebbc",
   "metadata": {},
   "outputs": [],
   "source": [
    "# Canonical mapping shared with other notebooks\n",
    "ontology = {\n",
    "    \"aardbeien\": \"strawberries\", \"strawberries\": \"strawberries\",\n",
    "    \"bananen\": \"banana\", \"banana\": \"banana\",\n",
    "    \"volle yoghurt\": \"yogurt\", \"magere yoghurt\": \"yogurt\",\n",
    "    \"roeryoghurt\": \"yogurt\", \"kwark aardbei\": \"yogurt\", \"yogurt\": \"yogurt\",\n",
    "    \"bloemenhoning\": \"honey\", \"mosterd honing\": \"honey\", \"honey\": \"honey\",\n",
    "    \"tomaten\": \"tomato\", \"tomatengroentesoep\": \"tomato\", \"tomato\": \"tomato\",\n",
    "    \"tonijn\": \"tuna\", \"tuna\": \"tuna\",\n",
    "    \"wolkentoetje banaan\": \"banana\"\n",
    "}\n",
    "\n",
    "def map_to_ontology(text, mapping):\n",
    "    if isinstance(text, str):\n",
    "        return mapping.get(text.lower().strip(), None)\n",
    "    return None\n"
   ]
  },
  {
   "cell_type": "code",
   "execution_count": 11,
   "id": "d773d13b",
   "metadata": {},
   "outputs": [],
   "source": [
    "df_markdown[\"product_concept\"] = df_markdown[\"product_name_clean\"].apply(lambda x: map_to_ontology(x, ontology))\n"
   ]
  },
  {
   "cell_type": "code",
   "execution_count": 12,
   "id": "eba5ae86",
   "metadata": {},
   "outputs": [],
   "source": [
    "# Drop NAs in concept columns\n",
    "waste_concepts = df_waste[\"product_concept\"].dropna().unique()\n",
    "markdown_concepts = df_markdown[\"product_concept\"].dropna().unique()\n"
   ]
  },
  {
   "cell_type": "code",
   "execution_count": 13,
   "id": "e6d2d4d8",
   "metadata": {},
   "outputs": [
    {
     "data": {
      "text/html": [
       "<div>\n",
       "<style scoped>\n",
       "    .dataframe tbody tr th:only-of-type {\n",
       "        vertical-align: middle;\n",
       "    }\n",
       "\n",
       "    .dataframe tbody tr th {\n",
       "        vertical-align: top;\n",
       "    }\n",
       "\n",
       "    .dataframe thead th {\n",
       "        text-align: right;\n",
       "    }\n",
       "</style>\n",
       "<table border=\"1\" class=\"dataframe\">\n",
       "  <thead>\n",
       "    <tr style=\"text-align: right;\">\n",
       "      <th></th>\n",
       "      <th>product_concept</th>\n",
       "      <th>waste_flag</th>\n",
       "      <th>markdown_flag</th>\n",
       "    </tr>\n",
       "  </thead>\n",
       "  <tbody>\n",
       "    <tr>\n",
       "      <th>0</th>\n",
       "      <td>NaN</td>\n",
       "      <td>0</td>\n",
       "      <td>0</td>\n",
       "    </tr>\n",
       "    <tr>\n",
       "      <th>8058</th>\n",
       "      <td>yogurt</td>\n",
       "      <td>1</td>\n",
       "      <td>0</td>\n",
       "    </tr>\n",
       "    <tr>\n",
       "      <th>119042</th>\n",
       "      <td>honey</td>\n",
       "      <td>1</td>\n",
       "      <td>0</td>\n",
       "    </tr>\n",
       "    <tr>\n",
       "      <th>123879</th>\n",
       "      <td>strawberries</td>\n",
       "      <td>1</td>\n",
       "      <td>0</td>\n",
       "    </tr>\n",
       "    <tr>\n",
       "      <th>126126</th>\n",
       "      <td>banana</td>\n",
       "      <td>1</td>\n",
       "      <td>0</td>\n",
       "    </tr>\n",
       "    <tr>\n",
       "      <th>126530</th>\n",
       "      <td>tomato</td>\n",
       "      <td>0</td>\n",
       "      <td>0</td>\n",
       "    </tr>\n",
       "  </tbody>\n",
       "</table>\n",
       "</div>"
      ],
      "text/plain": [
       "       product_concept  waste_flag  markdown_flag\n",
       "0                  NaN           0              0\n",
       "8058            yogurt           1              0\n",
       "119042           honey           1              0\n",
       "123879    strawberries           1              0\n",
       "126126          banana           1              0\n",
       "126530          tomato           0              0"
      ]
     },
     "metadata": {},
     "output_type": "display_data"
    }
   ],
   "source": [
    "df_products[\"waste_flag\"] = df_products[\"product_concept\"].isin(waste_concepts).astype(int)\n",
    "df_products[\"markdown_flag\"] = df_products[\"product_concept\"].isin(markdown_concepts).astype(int)\n",
    "\n",
    "# Preview result\n",
    "display(df_products[[\"product_concept\", \"waste_flag\", \"markdown_flag\"]].drop_duplicates().head(10))\n"
   ]
  },
  {
   "cell_type": "code",
   "execution_count": 14,
   "id": "164ffe6c",
   "metadata": {},
   "outputs": [
    {
     "name": "stdout",
     "output_type": "stream",
     "text": [
      "-> Saved priority-enriched products to: cleaned_data\\products_with_priority.csv\n"
     ]
    }
   ],
   "source": [
    "# Add priority score: sum of waste and markdown indicators\n",
    "df_products[\"priority_score\"] = df_products[\"waste_flag\"] + df_products[\"markdown_flag\"]\n",
    "\n",
    "# Export enriched product file\n",
    "priority_output_path = os.path.join(output_folder, \"products_with_priority.csv\")\n",
    "df_products.to_csv(priority_output_path, index=False)\n",
    "\n",
    "print(\"-> Saved priority-enriched products to:\", priority_output_path)\n"
   ]
  },
  {
   "cell_type": "markdown",
   "id": "fbb044ad",
   "metadata": {},
   "source": [
    "## Summary\n",
    "\n",
    "This notebook prioritized product inventory by enriching the semantic product dataset with:\n",
    "\n",
    "- `waste_flag`: Whether the product concept appeared in recent waste\n",
    "- `markdown_flag`: Whether the product concept appeared in recent markdown discounts\n",
    "- `priority_score`: Sum of both flags to rank urgency for usage\n",
    "\n",
    "This allows downstream notebooks to:\n",
    "- Favor overstocked or expiring inventory\n",
    "- Build waste-aware meal boxes aligned with store conditions\n",
    "- Reduce waste at both the retail and consumer level\n",
    "\n",
    "Next: In **Notebook 10**, we will use these priority scores and product availability to generate store-specific meal kits.\n"
   ]
  },
  {
   "cell_type": "code",
   "execution_count": null,
   "id": "2006cbe6",
   "metadata": {},
   "outputs": [],
   "source": []
  },
  {
   "cell_type": "code",
   "execution_count": null,
   "id": "37140cbf",
   "metadata": {},
   "outputs": [],
   "source": []
  }
 ],
 "metadata": {
  "kernelspec": {
   "display_name": "Python 3",
   "language": "python",
   "name": "python3"
  },
  "language_info": {
   "codemirror_mode": {
    "name": "ipython",
    "version": 3
   },
   "file_extension": ".py",
   "mimetype": "text/x-python",
   "name": "python",
   "nbconvert_exporter": "python",
   "pygments_lexer": "ipython3",
   "version": "3.8.8"
  }
 },
 "nbformat": 4,
 "nbformat_minor": 5
}
