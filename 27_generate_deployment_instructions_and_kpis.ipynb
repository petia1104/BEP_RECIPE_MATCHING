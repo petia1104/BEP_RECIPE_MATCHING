{
 "cells": [
  {
   "cell_type": "markdown",
   "id": "cb8c0694",
   "metadata": {},
   "source": [
    "# Notebook 27 - Generate Deployment Instructions and KPIs\n",
    "\n",
    "This notebook produces final deployment-ready summaries per store to assist real-world implementation and final reporting.\n",
    "\n",
    "It consolidates:\n",
    "- Top-matching recipes per store (based on waste-aware priority score)\n",
    "- Waste impact potential per recipe\n",
    "- Full inventory of matched product articles\n",
    "- Summary KPIs per store for presentation and deployment\n",
    "\n",
    "These outputs are designed for use by operational staff, retail decision-makers, and inclusion in the thesis results chapter.\n",
    "\n",
    "## Objectives\n",
    "- Load final ranked meal box plan and inventory matches\n",
    "- Aggregate deployment summaries per store\n",
    "- Export a deployment pack including per-store CSVs and a summary table\n",
    "- Optional: Render LaTeX-ready and presentation-ready KPIs\n",
    "\n",
    "## Inputs\n",
    "- `recipe_ranking/store_mealbox_ranked.csv` - Ranked store–recipe matches\n",
    "- `store_inventory_exports/*.csv` - Product-level inventory for each store\n",
    "- `waste_simulation/waste_impact_simulated.csv` - Waste reduction estimates\n",
    "\n",
    "## Outputs\n",
    "- `deployment_exports/store_deployment_summary.csv` - Main KPI overview\n",
    "- `deployment_exports/per_store/` - Folder of per-store CSV instruction files\n"
   ]
  },
  {
   "cell_type": "code",
   "execution_count": 4,
   "id": "c691c2a1",
   "metadata": {},
   "outputs": [],
   "source": [
    "# Code\n",
    "import os\n",
    "import pandas as pd\n",
    "\n",
    "# Define folders\n",
    "ranking_folder = \"recipe_ranking\"\n",
    "inventory_folder = \"store_inventory_exports\"\n",
    "impact_folder = \"waste_simulation\"\n",
    "output_folder = \"deployment_exports\"\n",
    "os.makedirs(output_folder, exist_ok=True)\n",
    "os.makedirs(os.path.join(output_folder, \"per_store\"), exist_ok=True)\n",
    "\n",
    "# Define key files\n",
    "ranked_file = os.path.join(ranking_folder, \"recipe_store_ranked.csv\")\n",
    "impact_file = os.path.join(impact_folder, \"waste_impact_simulated.csv\")\n"
   ]
  },
  {
   "cell_type": "code",
   "execution_count": 5,
   "id": "195cee5a",
   "metadata": {},
   "outputs": [
    {
     "name": "stdout",
     "output_type": "stream",
     "text": [
      "Loaded:\n",
      "- Ranked store-recipe pairs: (4, 6)\n",
      "- Waste impact data: (4, 3)\n"
     ]
    }
   ],
   "source": [
    "# Code\n",
    "# Load ranked recipe-store pairs\n",
    "df_ranked = pd.read_csv(ranked_file)\n",
    "df_impact = pd.read_csv(impact_file)\n",
    "\n",
    "print(\"Loaded:\")\n",
    "print(f\"- Ranked store-recipe pairs: {df_ranked.shape}\")\n",
    "print(f\"- Waste impact data: {df_impact.shape}\")\n"
   ]
  },
  {
   "cell_type": "code",
   "execution_count": 6,
   "id": "d13450a9",
   "metadata": {},
   "outputs": [
    {
     "name": "stdout",
     "output_type": "stream",
     "text": [
      "Merged waste impact into ranked mealbox plan.\n"
     ]
    }
   ],
   "source": [
    "# Merge in waste impact data (per store)\n",
    "df_ranked = df_ranked.merge(df_impact, on=\"store\", how=\"left\")\n",
    "\n",
    "# Confirm merge\n",
    "assert \"value_wasted\" in df_ranked.columns\n",
    "print(\"Merged waste impact into ranked mealbox plan.\")\n"
   ]
  },
  {
   "cell_type": "code",
   "execution_count": 7,
   "id": "d39f9649",
   "metadata": {},
   "outputs": [
    {
     "name": "stdout",
     "output_type": "stream",
     "text": [
      "Loaded inventory files for 9 stores.\n"
     ]
    }
   ],
   "source": [
    "# Load all per-store CSVs into a dictionary\n",
    "inventory_files = [\n",
    "    f for f in os.listdir(inventory_folder) if f.endswith(\".csv\")\n",
    "]\n",
    "\n",
    "store_inventories = {}\n",
    "\n",
    "for file in inventory_files:\n",
    "    store_id = os.path.splitext(file)[0].split(\"_\")[-1]\n",
    "    store_id = int(store_id)\n",
    "    df_inv = pd.read_csv(os.path.join(inventory_folder, file))\n",
    "    store_inventories[store_id] = df_inv\n",
    "\n",
    "print(f\"Loaded inventory files for {len(store_inventories)} stores.\")\n"
   ]
  },
  {
   "cell_type": "code",
   "execution_count": 9,
   "id": "d1c31615",
   "metadata": {},
   "outputs": [
    {
     "name": "stdout",
     "output_type": "stream",
     "text": [
      "Generated store deployment summary:\n"
     ]
    },
    {
     "data": {
      "text/html": [
       "<div>\n",
       "<style scoped>\n",
       "    .dataframe tbody tr th:only-of-type {\n",
       "        vertical-align: middle;\n",
       "    }\n",
       "\n",
       "    .dataframe tbody tr th {\n",
       "        vertical-align: top;\n",
       "    }\n",
       "\n",
       "    .dataframe thead th {\n",
       "        text-align: right;\n",
       "    }\n",
       "</style>\n",
       "<table border=\"1\" class=\"dataframe\">\n",
       "  <thead>\n",
       "    <tr style=\"text-align: right;\">\n",
       "      <th></th>\n",
       "      <th>store</th>\n",
       "      <th>recipes_planned</th>\n",
       "      <th>unique_ingredients</th>\n",
       "      <th>products_to_pick</th>\n",
       "      <th>estimated_value_saved</th>\n",
       "    </tr>\n",
       "  </thead>\n",
       "  <tbody>\n",
       "    <tr>\n",
       "      <th>0</th>\n",
       "      <td>1024</td>\n",
       "      <td>1</td>\n",
       "      <td>0</td>\n",
       "      <td>0</td>\n",
       "      <td>0.79</td>\n",
       "    </tr>\n",
       "    <tr>\n",
       "      <th>1</th>\n",
       "      <td>1058</td>\n",
       "      <td>1</td>\n",
       "      <td>0</td>\n",
       "      <td>0</td>\n",
       "      <td>0.00</td>\n",
       "    </tr>\n",
       "    <tr>\n",
       "      <th>2</th>\n",
       "      <td>1160</td>\n",
       "      <td>1</td>\n",
       "      <td>0</td>\n",
       "      <td>0</td>\n",
       "      <td>0.00</td>\n",
       "    </tr>\n",
       "    <tr>\n",
       "      <th>3</th>\n",
       "      <td>3298</td>\n",
       "      <td>1</td>\n",
       "      <td>0</td>\n",
       "      <td>0</td>\n",
       "      <td>0.00</td>\n",
       "    </tr>\n",
       "    <tr>\n",
       "      <th>4</th>\n",
       "      <td>3345</td>\n",
       "      <td>1</td>\n",
       "      <td>0</td>\n",
       "      <td>0</td>\n",
       "      <td>0.00</td>\n",
       "    </tr>\n",
       "    <tr>\n",
       "      <th>5</th>\n",
       "      <td>4243</td>\n",
       "      <td>1</td>\n",
       "      <td>0</td>\n",
       "      <td>0</td>\n",
       "      <td>0.00</td>\n",
       "    </tr>\n",
       "    <tr>\n",
       "      <th>6</th>\n",
       "      <td>4260</td>\n",
       "      <td>1</td>\n",
       "      <td>0</td>\n",
       "      <td>0</td>\n",
       "      <td>0.00</td>\n",
       "    </tr>\n",
       "    <tr>\n",
       "      <th>7</th>\n",
       "      <td>4278</td>\n",
       "      <td>1</td>\n",
       "      <td>0</td>\n",
       "      <td>0</td>\n",
       "      <td>0.00</td>\n",
       "    </tr>\n",
       "    <tr>\n",
       "      <th>8</th>\n",
       "      <td>5070</td>\n",
       "      <td>1</td>\n",
       "      <td>0</td>\n",
       "      <td>0</td>\n",
       "      <td>0.00</td>\n",
       "    </tr>\n",
       "  </tbody>\n",
       "</table>\n",
       "</div>"
      ],
      "text/plain": [
       "   store  recipes_planned  unique_ingredients  products_to_pick  \\\n",
       "0   1024                1                   0                 0   \n",
       "1   1058                1                   0                 0   \n",
       "2   1160                1                   0                 0   \n",
       "3   3298                1                   0                 0   \n",
       "4   3345                1                   0                 0   \n",
       "5   4243                1                   0                 0   \n",
       "6   4260                1                   0                 0   \n",
       "7   4278                1                   0                 0   \n",
       "8   5070                1                   0                 0   \n",
       "\n",
       "   estimated_value_saved  \n",
       "0                   0.79  \n",
       "1                   0.00  \n",
       "2                   0.00  \n",
       "3                   0.00  \n",
       "4                   0.00  \n",
       "5                   0.00  \n",
       "6                   0.00  \n",
       "7                   0.00  \n",
       "8                   0.00  "
      ]
     },
     "metadata": {},
     "output_type": "display_data"
    }
   ],
   "source": [
    "# Build summary per store (with robust column normalization)\n",
    "summary_records = []\n",
    "\n",
    "for store_id, df_inv in store_inventories.items():\n",
    "    # Normalize column names to lowercase\n",
    "    df_inv.columns = df_inv.columns.str.strip().str.lower()\n",
    "\n",
    "    # Safely access columns\n",
    "    recipes = df_inv[\"recipe\"].nunique() if \"recipe\" in df_inv.columns else 0\n",
    "    ingredients = df_inv[\"ingredient\"].nunique() if \"ingredient\" in df_inv.columns else 0\n",
    "    products = df_inv[\"product_article\"].nunique() if \"product_article\" in df_inv.columns else 0\n",
    "\n",
    "    # Get value saved\n",
    "    waste_row = df_ranked[df_ranked[\"store\"] == store_id]\n",
    "    waste_value = float(waste_row[\"value_wasted\"].values[0]) if not waste_row.empty else 0\n",
    "\n",
    "    summary_records.append({\n",
    "        \"store\": store_id,\n",
    "        \"recipes_planned\": recipes,\n",
    "        \"unique_ingredients\": ingredients,\n",
    "        \"products_to_pick\": products,\n",
    "        \"estimated_value_saved\": round(waste_value, 2)\n",
    "    })\n",
    "\n",
    "df_summary = pd.DataFrame(summary_records)\n",
    "df_summary = df_summary.sort_values(\"estimated_value_saved\", ascending=False)\n",
    "\n",
    "print(\"Generated store deployment summary:\")\n",
    "display(df_summary)\n"
   ]
  },
  {
   "cell_type": "code",
   "execution_count": 10,
   "id": "440a0fe6",
   "metadata": {},
   "outputs": [
    {
     "name": "stdout",
     "output_type": "stream",
     "text": [
      "Saved store deployment summary to: deployment_exports\\store_deployment_summary.csv\n"
     ]
    }
   ],
   "source": [
    "# Save the KPI summary for use in the thesis and reporting\n",
    "summary_file = os.path.join(output_folder, \"store_deployment_summary.csv\")\n",
    "df_summary.to_csv(summary_file, index=False)\n",
    "\n",
    "print(\"Saved store deployment summary to:\", summary_file)\n"
   ]
  },
  {
   "cell_type": "code",
   "execution_count": 11,
   "id": "03636ecd",
   "metadata": {},
   "outputs": [
    {
     "name": "stdout",
     "output_type": "stream",
     "text": [
      "Exported 9 per-store deployment files.\n"
     ]
    }
   ],
   "source": [
    "# Export per-store deployment files\n",
    "for store_id, df_inv in store_inventories.items():\n",
    "    df_inv.columns = df_inv.columns.str.strip().str.lower()\n",
    "    output_path = os.path.join(output_folder, \"per_store\", f\"deployment_store_{store_id}.csv\")\n",
    "    df_inv.to_csv(output_path, index=False)\n",
    "\n",
    "print(f\"Exported {len(store_inventories)} per-store deployment files.\")\n"
   ]
  },
  {
   "cell_type": "code",
   "execution_count": null,
   "id": "9c6e6f1d",
   "metadata": {},
   "outputs": [],
   "source": []
  }
 ],
 "metadata": {
  "kernelspec": {
   "display_name": "Python 3",
   "language": "python",
   "name": "python3"
  },
  "language_info": {
   "codemirror_mode": {
    "name": "ipython",
    "version": 3
   },
   "file_extension": ".py",
   "mimetype": "text/x-python",
   "name": "python",
   "nbconvert_exporter": "python",
   "pygments_lexer": "ipython3",
   "version": "3.8.8"
  }
 },
 "nbformat": 4,
 "nbformat_minor": 5
}
