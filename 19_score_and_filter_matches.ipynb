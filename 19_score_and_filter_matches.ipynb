{
 "cells": [
  {
   "cell_type": "markdown",
   "id": "f4c34bac",
   "metadata": {},
   "source": [
    "# Notebook 19 - Score and Filter Matches\n",
    "\n",
    "## Purpose\n",
    "This notebook scores the raw candidate matches between recipe ingredients and store products using lexical and semantic similarity techniques. It filters low-confidence or ambiguous matches and retains only the top candidates per ingredient for downstream selection and optimization.\n",
    "\n",
    "## Objectives\n",
    "- Assign similarity scores (string-based and/or embedding-based) to matched ingredient-product pairs\n",
    "- Filter out noisy or irrelevant matches based on threshold rules and diagnostics\n",
    "- Deduplicate candidates and retain the best match per ingredient per store\n",
    "- Export a scored and filtered match table for prioritized recommendation\n",
    "\n",
    "## Inputs\n",
    "- `matching_matrix_candidates.csv` - Raw candidate pairs from concept/variant matching\n",
    "- `recipes_with_variants.csv` - Ingredient metadata for contextual enrichment\n",
    "- `products_with_variants.csv` - Product metadata including names and concepts\n",
    "\n",
    "## Outputs\n",
    "- `matching_matrix_scored.csv` - Cleaned and scored recipe–product match table\n",
    "- Console summary of match quality distribution and filtering thresholds\n"
   ]
  },
  {
   "cell_type": "code",
   "execution_count": 8,
   "id": "7338cf7a",
   "metadata": {},
   "outputs": [],
   "source": [
    "# Compute fuzzy string similarity\n",
    "from fuzzywuzzy import fuzz\n",
    "\n",
    "def compute_fuzzy_score(row):\n",
    "    name_ingredient = row[\"ingredient\"]\n",
    "    name_product = row[\"product_name\"]\n",
    "    if pd.isna(name_ingredient) or pd.isna(name_product):\n",
    "        return 0\n",
    "    return fuzz.token_set_ratio(str(name_ingredient), str(name_product))\n",
    "\n",
    "df_matches[\"fuzzy_score\"] = df_matches.apply(compute_fuzzy_score, axis=1)\n"
   ]
  },
  {
   "cell_type": "code",
   "execution_count": 9,
   "id": "774168ca",
   "metadata": {},
   "outputs": [
    {
     "data": {
      "image/png": "[encoded data removed]",
      "text/plain": [
       "<Figure size 576x288 with 1 Axes>"
      ]
     },
     "metadata": {
      "needs_background": "light"
     },
     "output_type": "display_data"
    }
   ],
   "source": [
    "# Plot fuzzy score distribution\n",
    "import matplotlib.pyplot as plt\n",
    "\n",
    "plt.figure(figsize=(8, 4))\n",
    "df_matches[\"fuzzy_score\"].hist(bins=20)\n",
    "plt.title(\"Distribution of Fuzzy Scores\")\n",
    "plt.xlabel(\"Fuzzy Score\")\n",
    "plt.ylabel(\"Frequency\")\n",
    "plt.grid(True)\n",
    "plt.tight_layout()\n",
    "plt.show()\n"
   ]
  },
  {
   "cell_type": "code",
   "execution_count": 15,
   "id": "9b13fc5a",
   "metadata": {},
   "outputs": [],
   "source": [
    "# Filter low-confidence matches\n",
    "threshold = 60\n",
    "df_filtered = df_matches[df_matches[\"fuzzy_score\"] >= threshold].copy()\n",
    "\n",
    "# Deduplicate: keep best match per recipe-row and store\n",
    "df_top = (\n",
    "    df_filtered\n",
    "    .sort_values(\"fuzzy_score\", ascending=False)\n",
    "    .drop_duplicates(subset=[\"row_id\", \"store\"])\n",
    "    .reset_index(drop=True)\n",
    ")\n",
    "\n",
    "# Save result\n",
    "output_folder = \"matching_scored\"\n",
    "output_file = os.path.join(output_folder, \"matching_matrix_fuzzy.csv\")\n",
    "df_top.to_csv(output_file, index=False)\n"
   ]
  },
  {
   "cell_type": "code",
   "execution_count": 16,
   "id": "a247483b",
   "metadata": {},
   "outputs": [
    {
     "name": "stdout",
     "output_type": "stream",
     "text": [
      "Match filtering summary:\n",
      "- Total matches before filtering: 26\n",
      "- Matches above fuzzy threshold (60): 9\n",
      "- Matches retained after deduplication: 8\n",
      "- Average fuzzy score (retained): 66.25\n",
      "Filtered match matrix saved to: matching_scored\\matching_matrix_fuzzy.csv\n"
     ]
    }
   ],
   "source": [
    "# Final filtering and saving summary\n",
    "print(\"Match filtering summary:\")\n",
    "print(f\"- Total matches before filtering: {len(df_matches)}\")\n",
    "print(f\"- Matches above fuzzy threshold ({threshold}): {len(df_filtered)}\")\n",
    "print(f\"- Matches retained after deduplication: {len(df_top)}\")\n",
    "print(f\"- Average fuzzy score (retained): {df_top['fuzzy_score'].mean():.2f}\")\n",
    "\n",
    "# Save filtered matrix\n",
    "output_folder = \"matching_scored\"\n",
    "os.makedirs(output_folder, exist_ok=True)\n",
    "output_file = os.path.join(output_folder, \"matching_matrix_fuzzy.csv\")\n",
    "df_top.to_csv(output_file, index=False)\n",
    "print(f\"Filtered match matrix saved to: {output_file}\")\n"
   ]
  },
  {
   "cell_type": "code",
   "execution_count": null,
   "id": "a21eda78",
   "metadata": {},
   "outputs": [],
   "source": []
  }
 ],
 "metadata": {
  "kernelspec": {
   "display_name": "Python 3",
   "language": "python",
   "name": "python3"
  },
  "language_info": {
   "codemirror_mode": {
    "name": "ipython",
    "version": 3
   },
   "file_extension": ".py",
   "mimetype": "text/x-python",
   "name": "python",
   "nbconvert_exporter": "python",
   "pygments_lexer": "ipython3",
   "version": "3.8.8"
  }
 },
 "nbformat": 4,
 "nbformat_minor": 5
}
