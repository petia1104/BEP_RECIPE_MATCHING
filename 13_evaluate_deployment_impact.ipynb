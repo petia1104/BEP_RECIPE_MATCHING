{
 "cells": [
  {
   "cell_type": "markdown",
   "id": "bdb1e70a",
   "metadata": {},
   "source": [
    "# Notebook 13 - Evaluate Deployment Impact\n",
    "\n",
    "This notebook evaluates the results of the deployed meal box plans by comparing:\n",
    "\n",
    "- Concept overlap between deployed ingredients and waste/markdown concepts\n",
    "- Number of unique recipes and ingredients covered per store\n",
    "- Store-level balance in plan distribution\n",
    "\n",
    "Inputs:\n",
    "- `store_mealbox_ranked.csv`: Deployed recipes per store\n",
    "- `products_with_priority.csv`: Priority-tagged products (waste/markdown)\n",
    "- `recipes_with_ontology.csv`: Ingredient-concept mappings\n",
    "\n",
    "Outputs:\n",
    "- Summary statistics on coverage and alignment\n",
    "- Plots visualizing equity and impact\n"
   ]
  },
  {
   "cell_type": "code",
   "execution_count": 5,
   "id": "09fff24f",
   "metadata": {},
   "outputs": [
    {
     "name": "stdout",
     "output_type": "stream",
     "text": [
      "Meal boxes: (9, 4)\n",
      "Products: (126919, 35)\n",
      "Recipes: (6, 6)\n"
     ]
    },
    {
     "name": "stderr",
     "output_type": "stream",
     "text": [
      "C:\\Users\\User\\anaconda3\\lib\\site-packages\\IPython\\core\\interactiveshell.py:3165: DtypeWarning: Columns (1,3,5,31) have mixed types.Specify dtype option on import or set low_memory=False.\n",
      "  has_raised = await self.run_ast_nodes(code_ast.body, cell_name,\n"
     ]
    }
   ],
   "source": [
    "import pandas as pd\n",
    "import os\n",
    "import matplotlib.pyplot as plt\n",
    "\n",
    "# Paths\n",
    "input_folder = \"cleaned_data\"\n",
    "\n",
    "# Load data\n",
    "df_ranked = pd.read_csv(os.path.join(input_folder, \"store_mealbox_ranked.csv\"))\n",
    "df_products = pd.read_csv(os.path.join(input_folder, \"products_with_priority.csv\"))\n",
    "df_recipes = pd.read_csv(os.path.join(input_folder, \"recipes_with_ontology.csv\"))\n",
    "\n",
    "# Preview\n",
    "print(\"Meal boxes:\", df_ranked.shape)\n",
    "print(\"Products:\", df_products.shape)\n",
    "print(\"Recipes:\", df_recipes.shape)\n"
   ]
  },
  {
   "cell_type": "code",
   "execution_count": 6,
   "id": "c23bfc0e",
   "metadata": {},
   "outputs": [],
   "source": [
    "# Explode ingredient lists\n",
    "df_ranked_exploded = df_ranked.explode(\"ingredients\").dropna()\n",
    "df_ranked_exploded[\"ingredient\"] = df_ranked_exploded[\"ingredients\"].astype(str).str.strip().str.lower()\n",
    "\n",
    "# Align to ontology terms for comparison\n",
    "df_ranked_exploded[\"ingredient_concept\"] = df_ranked_exploded[\"ingredient\"].str.lower().str.strip()\n"
   ]
  },
  {
   "cell_type": "code",
   "execution_count": 8,
   "id": "e0ad0ae8",
   "metadata": {},
   "outputs": [
    {
     "name": "stdout",
     "output_type": "stream",
     "text": [
      "Unique deployed concepts: 2\n",
      "Covered waste concepts: 0\n",
      "Covered markdown concepts: 0\n",
      "Waste concept coverage: 0 / 4 (0%)\n",
      "Markdown concept coverage: 0 / 0 (N/A)\n"
     ]
    }
   ],
   "source": [
    "# Unique deployed ingredient concepts\n",
    "deployed_concepts = set(df_ranked_exploded[\"ingredient_concept\"])\n",
    "\n",
    "# Reference concepts from waste and markdown tags\n",
    "waste_concepts = set(df_products[df_products[\"waste_flag\"] == 1][\"product_concept\"].dropna())\n",
    "markdown_concepts = set(df_products[df_products[\"markdown_flag\"] == 1][\"product_concept\"].dropna())\n",
    "\n",
    "# Compute intersection\n",
    "waste_covered = deployed_concepts.intersection(waste_concepts)\n",
    "markdown_covered = deployed_concepts.intersection(markdown_concepts)\n",
    "\n",
    "# Print result\n",
    "print(\"Unique deployed concepts:\", len(deployed_concepts))\n",
    "print(\"Covered waste concepts:\", len(waste_covered))\n",
    "print(\"Covered markdown concepts:\", len(markdown_covered))\n",
    "\n",
    "# Percentage coverage (guard against divide by zero)\n",
    "if len(waste_concepts) > 0:\n",
    "    waste_percent = f\"{len(waste_covered)/len(waste_concepts):.0%}\"\n",
    "else:\n",
    "    waste_percent = \"N/A\"\n",
    "\n",
    "if len(markdown_concepts) > 0:\n",
    "    markdown_percent = f\"{len(markdown_covered)/len(markdown_concepts):.0%}\"\n",
    "else:\n",
    "    markdown_percent = \"N/A\"\n",
    "\n",
    "print(f\"Waste concept coverage: {len(waste_covered)} / {len(waste_concepts)} ({waste_percent})\")\n",
    "print(f\"Markdown concept coverage: {len(markdown_covered)} / {len(markdown_concepts)} ({markdown_percent})\")\n"
   ]
  },
  {
   "cell_type": "code",
   "execution_count": 9,
   "id": "9e335983",
   "metadata": {},
   "outputs": [
    {
     "data": {
      "image/png": "[encoded data removed]",
      "text/plain": [
       "<Figure size 432x288 with 1 Axes>"
      ]
     },
     "metadata": {
      "needs_background": "light"
     },
     "output_type": "display_data"
    }
   ],
   "source": [
    "plt.figure(figsize=(6, 4))\n",
    "plt.bar([\"Deployed\", \"Waste-aligned\", \"Markdown-aligned\"],\n",
    "        [len(deployed_concepts), len(waste_covered), len(markdown_covered)])\n",
    "plt.title(\"Concept Alignment in Deployment\")\n",
    "plt.ylabel(\"Unique Concepts\")\n",
    "plt.tight_layout()\n",
    "plt.show()\n"
   ]
  },
  {
   "cell_type": "code",
   "execution_count": 10,
   "id": "4598e42d",
   "metadata": {},
   "outputs": [
    {
     "data": {
      "image/png": "[encoded data removed]",
      "text/plain": [
       "<Figure size 720x360 with 1 Axes>"
      ]
     },
     "metadata": {
      "needs_background": "light"
     },
     "output_type": "display_data"
    },
    {
     "name": "stdout",
     "output_type": "stream",
     "text": [
      "Unique recipes per store: min = 1 , max = 1\n"
     ]
    }
   ],
   "source": [
    "# Unique recipes per store\n",
    "store_diversity = df_ranked.groupby(\"store\")[\"recipe\"].nunique().reset_index()\n",
    "store_diversity.columns = [\"store\", \"unique_recipes\"]\n",
    "\n",
    "# Plot\n",
    "plt.figure(figsize=(10, 5))\n",
    "plt.bar(store_diversity[\"store\"].astype(str), store_diversity[\"unique_recipes\"])\n",
    "plt.xticks(rotation=45, ha=\"right\")\n",
    "plt.title(\"Unique Recipes per Store\")\n",
    "plt.ylabel(\"Count\")\n",
    "plt.tight_layout()\n",
    "plt.show()\n",
    "\n",
    "# Diversity summary\n",
    "print(\"Unique recipes per store: min =\", store_diversity[\"unique_recipes\"].min(), \n",
    "      \", max =\", store_diversity[\"unique_recipes\"].max())\n"
   ]
  },
  {
   "cell_type": "markdown",
   "id": "4f336419",
   "metadata": {},
   "source": [
    "### Summary\n",
    "\n",
    "This notebook evaluated the deployed meal box plans based on:\n",
    "\n",
    "- **Concept Coverage**  \n",
    "  - X% of all waste concepts and Y% of markdown concepts were targeted via deployed meal boxes.  \n",
    "  - Concept overlap reflects how well deployment aligns with inventory reduction goals.\n",
    "\n",
    "- **Store Recipe Diversity**  \n",
    "  - Each store received between A and B distinct recipes.  \n",
    "  - Balanced recipe distribution ensures local feasibility and equitable variety.\n",
    "\n",
    "This completes the deployment evaluation. Results can guide adjustments in recipe selection, ontology refinement, or store-level filtering strategies in future iterations.\n"
   ]
  },
  {
   "cell_type": "code",
   "execution_count": null,
   "id": "bacc577a",
   "metadata": {},
   "outputs": [],
   "source": []
  }
 ],
 "metadata": {
  "kernelspec": {
   "display_name": "Python 3",
   "language": "python",
   "name": "python3"
  },
  "language_info": {
   "codemirror_mode": {
    "name": "ipython",
    "version": 3
   },
   "file_extension": ".py",
   "mimetype": "text/x-python",
   "name": "python",
   "nbconvert_exporter": "python",
   "pygments_lexer": "ipython3",
   "version": "3.8.8"
  }
 },
 "nbformat": 4,
 "nbformat_minor": 5
}
