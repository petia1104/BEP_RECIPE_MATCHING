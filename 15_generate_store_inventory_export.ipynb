{
 "cells": [
  {
   "cell_type": "markdown",
   "id": "e668f7d9",
   "metadata": {},
   "source": [
    "# Notebook 15 - Generate Store Inventory Export per Meal Box\n",
    "\n",
    "This notebook prepares store-specific inventory plans by mapping ingredients in each store’s meal box recipes to real available products.\n",
    "\n",
    "Steps:\n",
    "- Match ingredient concepts with product concepts (exact + fuzzy)\n",
    "- Add waste and markdown prioritization\n",
    "- Output one CSV per store: article-level instructions per recipe\n",
    "\n",
    "Inputs:\n",
    "- `store_mealbox_ranked.csv` - Ranked store–recipe matches\n",
    "- `products_with_priority.csv` - Store-specific products with concept tags\n",
    "- `recipes_with_ontology.csv` - Ingredient-to-concept mappings\n",
    "\n",
    "Outputs:\n",
    "- One CSV per store in `store_inventory_exports/`\n",
    "- Debug log of unmatched concepts (if any)\n"
   ]
  },
  {
   "cell_type": "code",
   "execution_count": 27,
   "id": "3f355fa9",
   "metadata": {},
   "outputs": [
    {
     "name": "stderr",
     "output_type": "stream",
     "text": [
      "C:\\Users\\User\\anaconda3\\lib\\site-packages\\IPython\\core\\interactiveshell.py:3165: DtypeWarning: Columns (1,3,5,31) have mixed types.Specify dtype option on import or set low_memory=False.\n",
      "  has_raised = await self.run_ast_nodes(code_ast.body, cell_name,\n"
     ]
    },
    {
     "name": "stdout",
     "output_type": "stream",
     "text": [
      "Loaded:\n",
      "  Ranked recipes: (9, 5)\n",
      "  Products: (126919, 35)\n"
     ]
    }
   ],
   "source": [
    "import pandas as pd\n",
    "import os\n",
    "import ast\n",
    "from rapidfuzz import process, fuzz\n",
    "\n",
    "# Paths\n",
    "input_folder = \"cleaned_data\"\n",
    "output_folder = \"store_inventory_exports\"\n",
    "debug_folder = \"debug_logs\"\n",
    "os.makedirs(output_folder, exist_ok=True)\n",
    "os.makedirs(debug_folder, exist_ok=True)\n",
    "\n",
    "# Load inputs\n",
    "df_ranked = pd.read_csv(os.path.join(input_folder, \"store_mealbox_ranked.csv\"))\n",
    "df_products = pd.read_csv(os.path.join(input_folder, \"products_with_priority.csv\"))\n",
    "df_recipes = pd.read_csv(os.path.join(input_folder, \"recipes_with_ontology.csv\"))\n",
    "\n",
    "# Explode ingredients\n",
    "df_ranked = df_ranked.explode(\"ingredients\").dropna()\n",
    "\n",
    "# Extract clean ingredient concepts\n",
    "def extract_concept(value):\n",
    "    try:\n",
    "        items = ast.literal_eval(value)\n",
    "        return items[0] if isinstance(items, list) and items else None\n",
    "    except Exception:\n",
    "        return None\n",
    "\n",
    "df_ranked[\"ingredient_concept\"] = df_ranked[\"ingredients\"].apply(extract_concept).str.strip().str.lower()\n",
    "df_products[\"product_concept\"] = df_products[\"product_concept\"].astype(str).str.strip().str.lower()\n",
    "\n",
    "print(\"Loaded:\")\n",
    "print(\"  Ranked recipes:\", df_ranked.shape)\n",
    "print(\"  Products:\", df_products.shape)\n"
   ]
  },
  {
   "cell_type": "code",
   "execution_count": 29,
   "id": "a0bdc6af",
   "metadata": {},
   "outputs": [
    {
     "name": "stdout",
     "output_type": "stream",
     "text": [
      "Exact matches found: 10\n",
      "Remaining unmatched rows to try fuzzy match: 0\n"
     ]
    }
   ],
   "source": [
    "# Try exact match on store + concept\n",
    "df_exact = df_ranked.merge(\n",
    "    df_products,\n",
    "    left_on=[\"store\", \"ingredient_concept\"],\n",
    "    right_on=[\"store\", \"product_concept\"],\n",
    "    how=\"left\"\n",
    ")\n",
    "\n",
    "# Split into matched and unmatched\n",
    "df_matched_exact = df_exact.dropna(subset=[\"article\"])\n",
    "df_unmatched = df_exact[df_exact[\"article\"].isna()].copy().reset_index(drop=True)\n",
    "\n",
    "print(\"Exact matches found:\", df_matched_exact.shape[0])\n",
    "print(\"Remaining unmatched rows to try fuzzy match:\", df_unmatched.shape[0])\n"
   ]
  },
  {
   "cell_type": "code",
   "execution_count": 30,
   "id": "b2acd491",
   "metadata": {},
   "outputs": [
    {
     "name": "stdout",
     "output_type": "stream",
     "text": [
      "Recovered fuzzy matches: 0\n"
     ]
    }
   ],
   "source": [
    "# Fuzzy matching fallback (only if unmatched rows exist)\n",
    "if not df_unmatched.empty:\n",
    "    # Store-wise concept dictionary\n",
    "    store_product_concepts = (\n",
    "        df_products.groupby(\"store\")[\"product_concept\"]\n",
    "        .apply(set)\n",
    "        .to_dict()\n",
    "    )\n",
    "\n",
    "    # Define fuzzy matcher\n",
    "    def fuzzy_match(row, threshold=90):\n",
    "        store = row[\"store\"]\n",
    "        ingredient = row[\"ingredient_concept\"]\n",
    "        options = store_product_concepts.get(store, [])\n",
    "        if not options:\n",
    "            return None\n",
    "        match = process.extractOne(ingredient, options, scorer=fuzz.token_sort_ratio)\n",
    "        return match[0] if match and match[1] >= threshold else None\n",
    "\n",
    "    # Apply fuzzy match per row\n",
    "    fuzzy_matches = []\n",
    "    for _, row in df_unmatched.iterrows():\n",
    "        fuzzy_matches.append(fuzzy_match(row))\n",
    "\n",
    "    # Assign matches back (aligned by order)\n",
    "    df_unmatched[\"fuzzy_product_concept\"] = fuzzy_matches\n",
    "\n",
    "    # Merge fuzzy matches back with products\n",
    "    df_fuzzy_matched = df_unmatched.merge(\n",
    "        df_products,\n",
    "        left_on=[\"store\", \"fuzzy_product_concept\"],\n",
    "        right_on=[\"store\", \"product_concept\"],\n",
    "        how=\"left\"\n",
    "    ).dropna(subset=[\"article\"])\n",
    "else:\n",
    "    # No fuzzy matching needed\n",
    "    df_fuzzy_matched = pd.DataFrame(columns=df_matched_exact.columns)\n",
    "\n",
    "print(\"Recovered fuzzy matches:\", df_fuzzy_matched.shape[0])\n"
   ]
  },
  {
   "cell_type": "code",
   "execution_count": 31,
   "id": "af76f12a",
   "metadata": {},
   "outputs": [
    {
     "name": "stdout",
     "output_type": "stream",
     "text": [
      "Total matched ingredient–article pairs: 9\n",
      "Stores covered: 9\n"
     ]
    }
   ],
   "source": [
    "# Combine all matches (exact + fuzzy)\n",
    "df_all_matched = pd.concat([df_matched_exact, df_fuzzy_matched], ignore_index=True)\n",
    "\n",
    "# Keep relevant columns\n",
    "columns_to_keep = [\n",
    "    \"store\", \"recipe\", \"ingredient_concept\", \"article\",\n",
    "    \"product_name_clean\", \"priority_score\", \"waste_flag\", \"markdown_flag\"\n",
    "]\n",
    "df_all_matched = df_all_matched[columns_to_keep].drop_duplicates()\n",
    "\n",
    "print(\"Total matched ingredient–article pairs:\", df_all_matched.shape[0])\n",
    "print(\"Stores covered:\", df_all_matched['store'].nunique())\n"
   ]
  },
  {
   "cell_type": "code",
   "execution_count": 32,
   "id": "03d2298b",
   "metadata": {},
   "outputs": [
    {
     "name": "stdout",
     "output_type": "stream",
     "text": [
      "Exported 9 store inventory files to: store_inventory_exports\n"
     ]
    }
   ],
   "source": [
    "# Save one file per store\n",
    "for store_id, group in df_all_matched.groupby(\"store\"):\n",
    "    filename = f\"inventory_{store_id}.csv\"\n",
    "    path = os.path.join(output_folder, filename)\n",
    "    group.to_csv(path, index=False)\n",
    "\n",
    "print(f\"Exported {df_all_matched['store'].nunique()} store inventory files to: {output_folder}\")\n"
   ]
  },
  {
   "cell_type": "code",
   "execution_count": 34,
   "id": "6a3cc1a8",
   "metadata": {},
   "outputs": [
    {
     "name": "stdout",
     "output_type": "stream",
     "text": [
      "Saved 0 debug logs to: debug_logs\n"
     ]
    }
   ],
   "source": [
    "# Check if fuzzy_product_concept exists\n",
    "if \"fuzzy_product_concept\" in df_unmatched.columns:\n",
    "    unmatched_ingredients = df_unmatched[df_unmatched[\"fuzzy_product_concept\"].isna()]\n",
    "else:\n",
    "    unmatched_ingredients = df_unmatched.copy()  # fallback if no fuzzy match attempted\n",
    "\n",
    "unmatched_summary = unmatched_ingredients.groupby(\"store\")[\"ingredient_concept\"].unique()\n",
    "\n",
    "# Save debug file per store if there are unmatched ingredients\n",
    "for store_id, missing_concepts in unmatched_summary.items():\n",
    "    if len(missing_concepts) > 0:\n",
    "        debug_path = os.path.join(debug_folder, f\"unmatched_{store_id}.txt\")\n",
    "        with open(debug_path, \"w\") as f:\n",
    "            f.write(\"Unmatched ingredient concepts:\\n\")\n",
    "            for concept in sorted(missing_concepts):\n",
    "                f.write(f\"- {concept}\\n\")\n",
    "\n",
    "print(f\"Saved {len(unmatched_summary)} debug logs to: {debug_folder}\")\n"
   ]
  },
  {
   "cell_type": "markdown",
   "id": "21a3f6f9",
   "metadata": {},
   "source": [
    "---\n",
    "\n",
    "**Notebook Summary**\n",
    "\n",
    "This notebook generates per-store inventory export plans by matching recipe ingredient concepts to available store-specific products using both exact and fuzzy matching. It integrates product-level waste and markdown prioritization and outputs article-level instructions for each meal box per store. If any concepts remain unmatched, the notebook logs them for further review.\n"
   ]
  },
  {
   "cell_type": "code",
   "execution_count": null,
   "id": "8bdc50a7",
   "metadata": {},
   "outputs": [],
   "source": []
  },
  {
   "cell_type": "code",
   "execution_count": null,
   "id": "ed9dc674",
   "metadata": {},
   "outputs": [],
   "source": []
  }
 ],
 "metadata": {
  "kernelspec": {
   "display_name": "Python 3",
   "language": "python",
   "name": "python3"
  },
  "language_info": {
   "codemirror_mode": {
    "name": "ipython",
    "version": 3
   },
   "file_extension": ".py",
   "mimetype": "text/x-python",
   "name": "python",
   "nbconvert_exporter": "python",
   "pygments_lexer": "ipython3",
   "version": "3.8.8"
  }
 },
 "nbformat": 4,
 "nbformat_minor": 5
}
