{
 "cells": [
  {
   "cell_type": "markdown",
   "id": "41bb2b93",
   "metadata": {},
   "source": [
    "# Notebook 25 - Generate Random Matching Baseline\n",
    "\n",
    "This notebook generates a random product match for each ingredient per store, constrained to products available in that store. It is used as a baseline to compare the performance of fuzzy and semantic strategies in Notebook 24.\n",
    "\n",
    "**Inputs**\n",
    "- `recipes_with_variants.csv` - Cleaned recipe-ingredient metadata\n",
    "- `products_with_priority.csv` - Store-specific product inventory\n",
    "- `recipe_store_ranked.csv` - Store–recipe deployment plan\n",
    "\n",
    "**Output**\n",
    "- `matching_matrix_random.csv` - Random matches for each store–ingredient pair\n"
   ]
  },
  {
   "cell_type": "code",
   "execution_count": 1,
   "id": "89c8272f",
   "metadata": {},
   "outputs": [
    {
     "name": "stderr",
     "output_type": "stream",
     "text": [
      "C:\\Users\\User\\anaconda3\\lib\\site-packages\\IPython\\core\\interactiveshell.py:3165: DtypeWarning: Columns (1,3,5,31) have mixed types.Specify dtype option on import or set low_memory=False.\n",
      "  has_raised = await self.run_ast_nodes(code_ast.body, cell_name,\n"
     ]
    },
    {
     "name": "stdout",
     "output_type": "stream",
     "text": [
      "Loaded:\n",
      "- Recipes: (6, 8)\n",
      "- Products: (126919, 35)\n",
      "- Store-Recipe Ranking: (4, 6)\n"
     ]
    }
   ],
   "source": [
    "import os\n",
    "import pandas as pd\n",
    "import numpy as np\n",
    "\n",
    "input_folder = \"variant_exports\"\n",
    "product_folder = \"cleaned_data\"\n",
    "ranking_folder = \"recipe_ranking\"\n",
    "output_folder = \"matching_scored\"\n",
    "os.makedirs(output_folder, exist_ok=True)\n",
    "\n",
    "# Load inputs\n",
    "recipes = pd.read_csv(os.path.join(input_folder, \"recipes_with_variants.csv\"))\n",
    "products = pd.read_csv(os.path.join(product_folder, \"products_with_priority.csv\"))\n",
    "store_recipes = pd.read_csv(os.path.join(ranking_folder, \"recipe_store_ranked.csv\"))\n",
    "\n",
    "print(\"Loaded:\")\n",
    "print(f\"- Recipes: {recipes.shape}\")\n",
    "print(f\"- Products: {products.shape}\")\n",
    "print(f\"- Store-Recipe Ranking: {store_recipes.shape}\")\n"
   ]
  },
  {
   "cell_type": "code",
   "execution_count": 2,
   "id": "f8fec796",
   "metadata": {},
   "outputs": [],
   "source": [
    "# Normalize types for merge\n",
    "recipes[\"ingredient\"] = recipes[\"ingredient\"].str.strip().str.lower()\n",
    "products[\"product_concept\"] = products[\"product_concept\"].str.strip().str.lower()\n",
    "\n",
    "# Ensure row_id present\n",
    "if \"row_id\" not in recipes.columns:\n",
    "    recipes = recipes.reset_index(drop=False).rename(columns={\"index\": \"row_id\"})\n"
   ]
  },
  {
   "cell_type": "code",
   "execution_count": 3,
   "id": "1ab1f320",
   "metadata": {},
   "outputs": [
    {
     "name": "stdout",
     "output_type": "stream",
     "text": [
      "Store–Ingredient Pairs: (4, 8)\n"
     ]
    },
    {
     "data": {
      "text/html": [
       "<div>\n",
       "<style scoped>\n",
       "    .dataframe tbody tr th:only-of-type {\n",
       "        vertical-align: middle;\n",
       "    }\n",
       "\n",
       "    .dataframe tbody tr th {\n",
       "        vertical-align: top;\n",
       "    }\n",
       "\n",
       "    .dataframe thead th {\n",
       "        text-align: right;\n",
       "    }\n",
       "</style>\n",
       "<table border=\"1\" class=\"dataframe\">\n",
       "  <thead>\n",
       "    <tr style=\"text-align: right;\">\n",
       "      <th></th>\n",
       "      <th>store</th>\n",
       "      <th>recipe</th>\n",
       "      <th>matched_ingredients</th>\n",
       "      <th>avg_score</th>\n",
       "      <th>n_ingredients</th>\n",
       "      <th>coverage</th>\n",
       "      <th>row_id</th>\n",
       "      <th>ingredient</th>\n",
       "    </tr>\n",
       "  </thead>\n",
       "  <tbody>\n",
       "    <tr>\n",
       "      <th>0</th>\n",
       "      <td>1024.0</td>\n",
       "      <td>Greek Yogurt &amp; Honey</td>\n",
       "      <td>1</td>\n",
       "      <td>43.369231</td>\n",
       "      <td>1</td>\n",
       "      <td>1.0</td>\n",
       "      <td>2</td>\n",
       "      <td>yogurt</td>\n",
       "    </tr>\n",
       "    <tr>\n",
       "      <th>1</th>\n",
       "      <td>1090.0</td>\n",
       "      <td>Greek Yogurt &amp; Honey</td>\n",
       "      <td>1</td>\n",
       "      <td>43.369231</td>\n",
       "      <td>1</td>\n",
       "      <td>1.0</td>\n",
       "      <td>2</td>\n",
       "      <td>yogurt</td>\n",
       "    </tr>\n",
       "    <tr>\n",
       "      <th>2</th>\n",
       "      <td>3340.0</td>\n",
       "      <td>Greek Yogurt &amp; Honey</td>\n",
       "      <td>1</td>\n",
       "      <td>43.369231</td>\n",
       "      <td>1</td>\n",
       "      <td>1.0</td>\n",
       "      <td>2</td>\n",
       "      <td>yogurt</td>\n",
       "    </tr>\n",
       "    <tr>\n",
       "      <th>3</th>\n",
       "      <td>4255.0</td>\n",
       "      <td>Greek Yogurt &amp; Honey</td>\n",
       "      <td>1</td>\n",
       "      <td>43.369231</td>\n",
       "      <td>1</td>\n",
       "      <td>1.0</td>\n",
       "      <td>2</td>\n",
       "      <td>yogurt</td>\n",
       "    </tr>\n",
       "  </tbody>\n",
       "</table>\n",
       "</div>"
      ],
      "text/plain": [
       "    store                recipe  matched_ingredients  avg_score  \\\n",
       "0  1024.0  Greek Yogurt & Honey                    1  43.369231   \n",
       "1  1090.0  Greek Yogurt & Honey                    1  43.369231   \n",
       "2  3340.0  Greek Yogurt & Honey                    1  43.369231   \n",
       "3  4255.0  Greek Yogurt & Honey                    1  43.369231   \n",
       "\n",
       "   n_ingredients  coverage  row_id ingredient  \n",
       "0              1       1.0       2     yogurt  \n",
       "1              1       1.0       2     yogurt  \n",
       "2              1       1.0       2     yogurt  \n",
       "3              1       1.0       2     yogurt  "
      ]
     },
     "execution_count": 3,
     "metadata": {},
     "output_type": "execute_result"
    }
   ],
   "source": [
    "# Merge store–recipe with recipes to get store–ingredient\n",
    "store_ingredients = store_recipes.merge(recipes[[\"row_id\", \"ingredient\", \"recipe\"]], on=\"recipe\", how=\"left\")\n",
    "print(\"Store–Ingredient Pairs:\", store_ingredients.shape)\n",
    "store_ingredients.head()\n"
   ]
  },
  {
   "cell_type": "code",
   "execution_count": 8,
   "id": "6f02bc50",
   "metadata": {},
   "outputs": [
    {
     "name": "stdout",
     "output_type": "stream",
     "text": [
      "Random match matrix: (4, 8)\n",
      "Saved random match matrix to: matching_scored\\matching_matrix_random.csv\n"
     ]
    }
   ],
   "source": [
    "random_matches = []\n",
    "\n",
    "# For each store–ingredient, randomly pick one product from that store\n",
    "for _, row in store_ingredients.iterrows():\n",
    "    store = row[\"store\"]\n",
    "    concept = row[\"ingredient\"]\n",
    "\n",
    "    # Filter products available in this store\n",
    "    available = products[products[\"store\"] == store]\n",
    "\n",
    "    if available.empty:\n",
    "        continue\n",
    "\n",
    "    # Randomly sample one product\n",
    "    sampled = available.sample(1, random_state=42).iloc[0]\n",
    "\n",
    "    match = {\n",
    "        \"row_id\": row[\"row_id\"],\n",
    "        \"ingredient\": row[\"ingredient\"],\n",
    "        \"recipe\": row[\"recipe\"],\n",
    "        \"store\": store,\n",
    "        \"product_article\": sampled[\"article\"],\n",
    "        \"product_name\": sampled[\"product_name_clean\"],\n",
    "        \"product_concept\": sampled[\"product_concept\"],\n",
    "        \"match_source\": \"random\"\n",
    "    }\n",
    "    random_matches.append(match)\n",
    "\n",
    "# Create DataFrame from matches\n",
    "df_random = pd.DataFrame(random_matches)\n",
    "print(\"Random match matrix:\", df_random.shape)\n",
    "\n",
    "# Save to CSV\n",
    "output_path = os.path.join(output_folder, \"matching_matrix_random.csv\")\n",
    "df_random.to_csv(output_path, index=False)\n",
    "print(\"Saved random match matrix to:\", output_path)\n"
   ]
  },
  {
   "cell_type": "code",
   "execution_count": 9,
   "id": "8e098091",
   "metadata": {},
   "outputs": [
    {
     "name": "stdout",
     "output_type": "stream",
     "text": [
      "Saved random match matrix to: matching_scored\\matching_matrix_random.csv\n"
     ]
    }
   ],
   "source": [
    "output_path = os.path.join(output_folder, \"matching_matrix_random.csv\")\n",
    "df_random.to_csv(output_path, index=False)\n",
    "print(\"Saved random match matrix to:\", output_path)\n"
   ]
  },
  {
   "cell_type": "code",
   "execution_count": null,
   "id": "f4ccbc8a",
   "metadata": {},
   "outputs": [],
   "source": []
  }
 ],
 "metadata": {
  "kernelspec": {
   "display_name": "Python 3",
   "language": "python",
   "name": "python3"
  },
  "language_info": {
   "codemirror_mode": {
    "name": "ipython",
    "version": 3
   },
   "file_extension": ".py",
   "mimetype": "text/x-python",
   "name": "python",
   "nbconvert_exporter": "python",
   "pygments_lexer": "ipython3",
   "version": "3.8.8"
  }
 },
 "nbformat": 4,
 "nbformat_minor": 5
}
