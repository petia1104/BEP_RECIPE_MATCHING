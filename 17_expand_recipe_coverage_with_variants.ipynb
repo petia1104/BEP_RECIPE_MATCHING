{
 "cells": [
  {
   "cell_type": "markdown",
   "id": "762dff52",
   "metadata": {},
   "source": [
    "# Notebook 17 - Expand Recipe Coverage with Ontology Variants\n",
    "\n",
    "## Purpose\n",
    "This notebook improves recipe matching recall by propagating variant forms of ingredient and product concepts, such as plurals and common synonyms. It expands the ontology to account for linguistic diversity in recipe and product descriptions.\n",
    "\n",
    "## Objectives\n",
    "- Generate a variant mapping (e.g., \"strawberries\" -> \"strawberry\")\n",
    "- Enrich recipes and products with variant-aware concept annotations\n",
    "- Save enhanced outputs for downstream fuzzy and semantic matching\n",
    "\n",
    "## Inputs\n",
    "- ontology_expanded.csv - Canonical concept mappings (from Notebook 16)\n",
    "- recipes_with_ontology.csv - Recipe ingredients tagged with concepts\n",
    "- products_with_priority.csv - Products tagged with concepts\n",
    "\n",
    "## Outputs\n",
    "- recipes_with_variants.csv - Recipes annotated with variant-aware concepts\n",
    "- products_with_variants.csv - Products annotated with variant-aware concepts\n",
    "- variant_map.csv - Saved variant->concept map with type metadata\n",
    "- Console previews of enriched recipe/product rows and coverage statistics\n"
   ]
  },
  {
   "cell_type": "code",
   "execution_count": 1,
   "id": "9d259b96",
   "metadata": {},
   "outputs": [],
   "source": [
    "import os\n",
    "import pandas as pd\n",
    "import numpy as np\n",
    "\n",
    "# Define folders\n",
    "input_folder = \"cleaned_data\"\n",
    "output_folder = \"variant_exports\"\n",
    "os.makedirs(output_folder, exist_ok=True)\n",
    "\n",
    "# File paths\n",
    "ontology_file = os.path.join(\"ontology_exports\", \"ontology_expanded.csv\")\n",
    "recipes_file = os.path.join(input_folder, \"recipes_with_ontology.csv\")\n",
    "products_file = os.path.join(input_folder, \"products_with_priority.csv\")\n"
   ]
  },
  {
   "cell_type": "code",
   "execution_count": 2,
   "id": "c3f8071a",
   "metadata": {},
   "outputs": [
    {
     "name": "stdout",
     "output_type": "stream",
     "text": [
      "Loaded:\n",
      "- Ontology: (6, 2)\n",
      "- Recipes: (6, 6)\n",
      "- Products: (126919, 35)\n"
     ]
    },
    {
     "name": "stderr",
     "output_type": "stream",
     "text": [
      "C:\\Users\\User\\anaconda3\\lib\\site-packages\\IPython\\core\\interactiveshell.py:3165: DtypeWarning: Columns (1,3,5,31) have mixed types.Specify dtype option on import or set low_memory=False.\n",
      "  has_raised = await self.run_ast_nodes(code_ast.body, cell_name,\n"
     ]
    }
   ],
   "source": [
    "df_ontology = pd.read_csv(ontology_file)\n",
    "df_recipes = pd.read_csv(recipes_file)\n",
    "df_products = pd.read_csv(products_file)\n",
    "\n",
    "print(\"Loaded:\")\n",
    "print(f\"- Ontology: {df_ontology.shape}\")\n",
    "print(f\"- Recipes: {df_recipes.shape}\")\n",
    "print(f\"- Products: {df_products.shape}\")\n"
   ]
  },
  {
   "cell_type": "markdown",
   "id": "24844e42",
   "metadata": {},
   "source": [
    "We manually define a small variant dictionary based on common linguistic deviations (plural forms, compound nouns, synonyms).\n",
    "These are used to simulate GPT-style generalization.\n"
   ]
  },
  {
   "cell_type": "code",
   "execution_count": 4,
   "id": "eb99b525",
   "metadata": {},
   "outputs": [],
   "source": [
    "manual_variants = {\n",
    "    \"strawberry\": [\"strawberries\"],\n",
    "    \"honey\": [\"flower honey\", \"organic honey\"],\n",
    "    \"tomato\": [\"tomatoes\", \"roma tomato\"],\n",
    "    \"tuna\": [\"canned tuna\", \"tuna chunks\"]\n",
    "}\n"
   ]
  },
  {
   "cell_type": "markdown",
   "id": "7cc35cde",
   "metadata": {},
   "source": [
    "This step creates both:\n",
    "- variant_map: maps each variant to its canonical concept\n",
    "- variant_df: tabular representation for inspection and logging\n"
   ]
  },
  {
   "cell_type": "code",
   "execution_count": 5,
   "id": "e3aa4d07",
   "metadata": {},
   "outputs": [
    {
     "name": "stdout",
     "output_type": "stream",
     "text": [
      "Manual variant definitions:\n"
     ]
    },
    {
     "data": {
      "text/html": [
       "<div>\n",
       "<style scoped>\n",
       "    .dataframe tbody tr th:only-of-type {\n",
       "        vertical-align: middle;\n",
       "    }\n",
       "\n",
       "    .dataframe tbody tr th {\n",
       "        vertical-align: top;\n",
       "    }\n",
       "\n",
       "    .dataframe thead th {\n",
       "        text-align: right;\n",
       "    }\n",
       "</style>\n",
       "<table border=\"1\" class=\"dataframe\">\n",
       "  <thead>\n",
       "    <tr style=\"text-align: right;\">\n",
       "      <th></th>\n",
       "      <th>concept</th>\n",
       "      <th>variant</th>\n",
       "    </tr>\n",
       "  </thead>\n",
       "  <tbody>\n",
       "    <tr>\n",
       "      <th>0</th>\n",
       "      <td>strawberry</td>\n",
       "      <td>strawberries</td>\n",
       "    </tr>\n",
       "    <tr>\n",
       "      <th>1</th>\n",
       "      <td>honey</td>\n",
       "      <td>flower honey</td>\n",
       "    </tr>\n",
       "    <tr>\n",
       "      <th>2</th>\n",
       "      <td>honey</td>\n",
       "      <td>organic honey</td>\n",
       "    </tr>\n",
       "    <tr>\n",
       "      <th>3</th>\n",
       "      <td>tomato</td>\n",
       "      <td>tomatoes</td>\n",
       "    </tr>\n",
       "    <tr>\n",
       "      <th>4</th>\n",
       "      <td>tomato</td>\n",
       "      <td>roma tomato</td>\n",
       "    </tr>\n",
       "    <tr>\n",
       "      <th>5</th>\n",
       "      <td>tuna</td>\n",
       "      <td>canned tuna</td>\n",
       "    </tr>\n",
       "    <tr>\n",
       "      <th>6</th>\n",
       "      <td>tuna</td>\n",
       "      <td>tuna chunks</td>\n",
       "    </tr>\n",
       "  </tbody>\n",
       "</table>\n",
       "</div>"
      ],
      "text/plain": [
       "      concept        variant\n",
       "0  strawberry   strawberries\n",
       "1       honey   flower honey\n",
       "2       honey  organic honey\n",
       "3      tomato       tomatoes\n",
       "4      tomato    roma tomato\n",
       "5        tuna    canned tuna\n",
       "6        tuna    tuna chunks"
      ]
     },
     "metadata": {},
     "output_type": "display_data"
    }
   ],
   "source": [
    "variant_pairs = []\n",
    "variant_map = {}\n",
    "\n",
    "for concept, variants in manual_variants.items():\n",
    "    for alt in variants:\n",
    "        variant_pairs.append((concept, alt))\n",
    "        variant_map[alt] = concept\n",
    "\n",
    "df_variants = pd.DataFrame(variant_pairs, columns=[\"concept\", \"variant\"])\n",
    "print(\"Manual variant definitions:\")\n",
    "display(df_variants)\n"
   ]
  },
  {
   "cell_type": "code",
   "execution_count": 11,
   "id": "88c80cf9",
   "metadata": {},
   "outputs": [
    {
     "name": "stdout",
     "output_type": "stream",
     "text": [
      "Annotated variant definitions:\n"
     ]
    },
    {
     "data": {
      "text/html": [
       "<div>\n",
       "<style scoped>\n",
       "    .dataframe tbody tr th:only-of-type {\n",
       "        vertical-align: middle;\n",
       "    }\n",
       "\n",
       "    .dataframe tbody tr th {\n",
       "        vertical-align: top;\n",
       "    }\n",
       "\n",
       "    .dataframe thead th {\n",
       "        text-align: right;\n",
       "    }\n",
       "</style>\n",
       "<table border=\"1\" class=\"dataframe\">\n",
       "  <thead>\n",
       "    <tr style=\"text-align: right;\">\n",
       "      <th></th>\n",
       "      <th>concept</th>\n",
       "      <th>variant</th>\n",
       "      <th>variant_type</th>\n",
       "    </tr>\n",
       "  </thead>\n",
       "  <tbody>\n",
       "    <tr>\n",
       "      <th>0</th>\n",
       "      <td>strawberry</td>\n",
       "      <td>strawberries</td>\n",
       "      <td>plural</td>\n",
       "    </tr>\n",
       "    <tr>\n",
       "      <th>1</th>\n",
       "      <td>honey</td>\n",
       "      <td>flower honey</td>\n",
       "      <td>synonym</td>\n",
       "    </tr>\n",
       "    <tr>\n",
       "      <th>2</th>\n",
       "      <td>honey</td>\n",
       "      <td>organic honey</td>\n",
       "      <td>synonym</td>\n",
       "    </tr>\n",
       "    <tr>\n",
       "      <th>3</th>\n",
       "      <td>tomato</td>\n",
       "      <td>tomatoes</td>\n",
       "      <td>plural</td>\n",
       "    </tr>\n",
       "    <tr>\n",
       "      <th>4</th>\n",
       "      <td>tomato</td>\n",
       "      <td>roma tomato</td>\n",
       "      <td>synonym</td>\n",
       "    </tr>\n",
       "    <tr>\n",
       "      <th>5</th>\n",
       "      <td>tuna</td>\n",
       "      <td>canned tuna</td>\n",
       "      <td>synonym</td>\n",
       "    </tr>\n",
       "    <tr>\n",
       "      <th>6</th>\n",
       "      <td>tuna</td>\n",
       "      <td>tuna chunks</td>\n",
       "      <td>plural</td>\n",
       "    </tr>\n",
       "  </tbody>\n",
       "</table>\n",
       "</div>"
      ],
      "text/plain": [
       "      concept        variant variant_type\n",
       "0  strawberry   strawberries       plural\n",
       "1       honey   flower honey      synonym\n",
       "2       honey  organic honey      synonym\n",
       "3      tomato       tomatoes       plural\n",
       "4      tomato    roma tomato      synonym\n",
       "5        tuna    canned tuna      synonym\n",
       "6        tuna    tuna chunks       plural"
      ]
     },
     "metadata": {},
     "output_type": "display_data"
    }
   ],
   "source": [
    "# Annotate variants with type (e.g., plural vs. synonym)\n",
    "variant_type_rows = []\n",
    "for concept, variants in manual_variants.items():\n",
    "    for variant in variants:\n",
    "        vtype = \"plural\" if variant.endswith(\"s\") else \"synonym\"\n",
    "        variant_type_rows.append((concept, variant, vtype))\n",
    "\n",
    "df_variants = pd.DataFrame(variant_type_rows, columns=[\"concept\", \"variant\", \"variant_type\"])\n",
    "print(\"Annotated variant definitions:\")\n",
    "display(df_variants)\n"
   ]
  },
  {
   "cell_type": "code",
   "execution_count": 12,
   "id": "65f60536",
   "metadata": {},
   "outputs": [
    {
     "name": "stdout",
     "output_type": "stream",
     "text": [
      "Variant map saved to: variant_exports\\variant_map.csv\n"
     ]
    }
   ],
   "source": [
    "# Save variant map for inspection and downstream reuse\n",
    "variant_table_out = os.path.join(output_folder, \"variant_map.csv\")\n",
    "df_variants.to_csv(variant_table_out, index=False)\n",
    "print(f\"Variant map saved to: {variant_table_out}\")\n"
   ]
  },
  {
   "cell_type": "markdown",
   "id": "b1219b1c",
   "metadata": {},
   "source": [
    "This step enriches the recipe and product data by checking if their original concept has any known variant.\n",
    "We store the matched variants and use them to aid flexible downstream matching.\n"
   ]
  },
  {
   "cell_type": "code",
   "execution_count": 13,
   "id": "8218ec84",
   "metadata": {},
   "outputs": [],
   "source": [
    "# Match recipe ingredient concepts to variants\n",
    "df_recipes[\"ingredient_variants\"] = df_recipes[\"ingredient_concept\"].map(\n",
    "    lambda c: {k for k, v in variant_map.items() if v == c} if pd.notna(c) else set()\n",
    ")\n",
    "\n",
    "# Match product concepts to variants\n",
    "df_products[\"product_variants\"] = df_products[\"product_concept\"].map(\n",
    "    lambda c: {k for k, v in variant_map.items() if v == c} if pd.notna(c) else set()\n",
    ")\n"
   ]
  },
  {
   "cell_type": "code",
   "execution_count": 14,
   "id": "fb388036",
   "metadata": {},
   "outputs": [
    {
     "name": "stdout",
     "output_type": "stream",
     "text": [
      "Recipes with variant matches:\n",
      "  ingredient_concept            ingredient_variants\n",
      "3              honey  {flower honey, organic honey}\n",
      "4             tomato        {roma tomato, tomatoes}\n",
      "5               tuna     {canned tuna, tuna chunks}\n",
      "\n",
      "Products with variant matches:\n",
      "       product_concept               product_variants\n",
      "119042           honey  {flower honey, organic honey}\n",
      "126530          tomato        {roma tomato, tomatoes}\n"
     ]
    }
   ],
   "source": [
    "print(\"Recipes with variant matches:\")\n",
    "print(df_recipes[df_recipes[\"ingredient_variants\"].apply(bool)][[\"ingredient_concept\", \"ingredient_variants\"]])\n",
    "\n",
    "print(\"\\nProducts with variant matches:\")\n",
    "print(df_products[df_products[\"product_variants\"].apply(bool)][[\"product_concept\", \"product_variants\"]].head())\n"
   ]
  },
  {
   "cell_type": "markdown",
   "id": "390184e0",
   "metadata": {},
   "source": [
    "We create new columns that contain the concept name after resolving variants. These will be used in downstream fuzzy or exact matching pipelines.\n"
   ]
  },
  {
   "cell_type": "code",
   "execution_count": 15,
   "id": "1c4d79d7",
   "metadata": {},
   "outputs": [
    {
     "name": "stdout",
     "output_type": "stream",
     "text": [
      "Variants resolved into enriched concept columns.\n"
     ]
    }
   ],
   "source": [
    "variant_to_concept = {v: k for k, v in variant_map.items()}\n",
    "\n",
    "def resolve_variant(concept):\n",
    "    if pd.isna(concept):\n",
    "        return concept\n",
    "    return variant_to_concept.get(concept, concept)\n",
    "\n",
    "df_recipes[\"ingredient_concept_variant\"] = df_recipes[\"ingredient_concept\"].apply(resolve_variant)\n",
    "df_products[\"product_concept_variant\"] = df_products[\"product_concept\"].apply(resolve_variant)\n",
    "\n",
    "print(\"Variants resolved into enriched concept columns.\")\n"
   ]
  },
  {
   "cell_type": "code",
   "execution_count": 17,
   "id": "673a6460",
   "metadata": {},
   "outputs": [
    {
     "name": "stdout",
     "output_type": "stream",
     "text": [
      "Final coverage:\n",
      "- Recipes with variants: 3 / 6\n",
      "- Products with variants: 2 / 126919\n"
     ]
    }
   ],
   "source": [
    "# Final variant coverage summary\n",
    "num_recipe_variants = df_recipes[\"ingredient_variants\"].apply(bool).sum()\n",
    "num_product_variants = df_products[\"product_variants\"].apply(bool).sum()\n",
    "\n",
    "print(\"Final coverage:\")\n",
    "print(f\"- Recipes with variants: {num_recipe_variants} / {len(df_recipes)}\")\n",
    "print(f\"- Products with variants: {num_product_variants} / {len(df_products)}\")\n"
   ]
  },
  {
   "cell_type": "code",
   "execution_count": 16,
   "id": "e560bf31",
   "metadata": {},
   "outputs": [
    {
     "name": "stdout",
     "output_type": "stream",
     "text": [
      "Files saved:\n",
      "- Recipes: variant_exports\\recipes_with_variants.csv\n",
      "- Products: variant_exports\\products_with_variants.csv\n"
     ]
    }
   ],
   "source": [
    "recipes_out = os.path.join(output_folder, \"recipes_with_variants.csv\")\n",
    "products_out = os.path.join(output_folder, \"products_with_variants.csv\")\n",
    "\n",
    "df_recipes.to_csv(recipes_out, index=False)\n",
    "df_products.to_csv(products_out, index=False)\n",
    "\n",
    "print(\"Files saved:\")\n",
    "print(f\"- Recipes: {recipes_out}\")\n",
    "print(f\"- Products: {products_out}\")\n"
   ]
  },
  {
   "cell_type": "code",
   "execution_count": null,
   "id": "eca3350b",
   "metadata": {},
   "outputs": [],
   "source": []
  }
 ],
 "metadata": {
  "kernelspec": {
   "display_name": "Python 3",
   "language": "python",
   "name": "python3"
  },
  "language_info": {
   "codemirror_mode": {
    "name": "ipython",
    "version": 3
   },
   "file_extension": ".py",
   "mimetype": "text/x-python",
   "name": "python",
   "nbconvert_exporter": "python",
   "pygments_lexer": "ipython3",
   "version": "3.8.8"
  }
 },
 "nbformat": 4,
 "nbformat_minor": 5
}
