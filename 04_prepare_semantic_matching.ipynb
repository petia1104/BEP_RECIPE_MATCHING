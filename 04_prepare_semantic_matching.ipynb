{
 "cells": [
  {
   "cell_type": "markdown",
   "id": "5fd8c330",
   "metadata": {},
   "source": [
    "# Notebook 04 - Prepare Semantic Matching\n",
    "\n",
    "This notebook prepares product and recipe ingredient text for different types of matching pipelines. It performs the following steps:\n",
    "\n",
    "1. **Normalization**: Removes casing, punctuation, and extra whitespace from product names and recipe ingredients.\n",
    "2. **Translation**: Converts normalized Dutch product names to English to enable multilingual semantic matching.\n",
    "3. **Embedding**: Encodes translated names using a multilingual Sentence-BERT model for semantic similarity comparison.\n",
    "\n",
    "These preprocessed features will be used for:\n",
    "- Exact token match\n",
    "- Fuzzy string match\n",
    "- Semantic similarity (vector-based)\n",
    "\n",
    "### Input:\n",
    "- `products_full.csv`\n",
    "- `mock_recipes.csv`\n",
    "\n",
    "### Output:\n",
    "- Cleaned, translated, and embedded product and ingredient tables for downstream evaluation\n"
   ]
  },
  {
   "cell_type": "code",
   "execution_count": 1,
   "id": "4f84feb5",
   "metadata": {},
   "outputs": [
    {
     "name": "stderr",
     "output_type": "stream",
     "text": [
      "C:\\Users\\User\\anaconda3\\lib\\site-packages\\sentence_transformers\\cross_encoder\\CrossEncoder.py:13: TqdmExperimentalWarning: Using `tqdm.autonotebook.tqdm` in notebook mode. Use `tqdm.tqdm` instead to force console mode (e.g. in jupyter console)\n",
      "  from tqdm.autonotebook import tqdm, trange\n"
     ]
    }
   ],
   "source": [
    "import pandas as pd\n",
    "import os\n",
    "\n",
    "# Text preprocessing\n",
    "import re\n",
    "import string\n",
    "\n",
    "# Embeddings\n",
    "from sentence_transformers import SentenceTransformer\n",
    "\n",
    "# Paths\n",
    "input_folder = \"cleaned_data\"\n",
    "\n",
    "# Load datasets\n",
    "df_products = pd.read_csv(os.path.join(input_folder, \"products_full.csv\"))\n",
    "df_recipes = pd.read_csv(os.path.join(input_folder, \"mock_recipes.csv\"))\n"
   ]
  },
  {
   "cell_type": "markdown",
   "id": "5dad991e",
   "metadata": {},
   "source": [
    "## Normalize Text Fields\n",
    "\n",
    "We define a shared normalization pipeline that:\n",
    "- Lowercases all text\n",
    "- Removes punctuation\n",
    "- Strips leading/trailing spaces\n",
    "- Removes extra spaces between words\n",
    "\n",
    "This is applied to both product names and recipe ingredients to ensure uniformity across matching methods.\n"
   ]
  },
  {
   "cell_type": "code",
   "execution_count": 2,
   "id": "37932c76",
   "metadata": {},
   "outputs": [],
   "source": [
    "def normalize(text):\n",
    "    if not isinstance(text, str):\n",
    "        return \"\"\n",
    "    text = text.lower()\n",
    "    text = text.translate(str.maketrans(\"\", \"\", string.punctuation))\n",
    "    text = re.sub(r\"\\s+\", \" \", text).strip()\n",
    "    return text\n"
   ]
  },
  {
   "cell_type": "code",
   "execution_count": 3,
   "id": "a8246e9e",
   "metadata": {},
   "outputs": [
    {
     "data": {
      "text/html": [
       "<div>\n",
       "<style scoped>\n",
       "    .dataframe tbody tr th:only-of-type {\n",
       "        vertical-align: middle;\n",
       "    }\n",
       "\n",
       "    .dataframe tbody tr th {\n",
       "        vertical-align: top;\n",
       "    }\n",
       "\n",
       "    .dataframe thead th {\n",
       "        text-align: right;\n",
       "    }\n",
       "</style>\n",
       "<table border=\"1\" class=\"dataframe\">\n",
       "  <thead>\n",
       "    <tr style=\"text-align: right;\">\n",
       "      <th></th>\n",
       "      <th>product_name_clean</th>\n",
       "      <th>product_normalized</th>\n",
       "    </tr>\n",
       "  </thead>\n",
       "  <tbody>\n",
       "    <tr>\n",
       "      <th>41</th>\n",
       "      <td>piccalilly</td>\n",
       "      <td>piccalilly</td>\n",
       "    </tr>\n",
       "    <tr>\n",
       "      <th>58</th>\n",
       "      <td>frikandelbroodje broodje</td>\n",
       "      <td>frikandelbroodje broodje</td>\n",
       "    </tr>\n",
       "    <tr>\n",
       "      <th>178</th>\n",
       "      <td>roomyoghurt straciatella</td>\n",
       "      <td>roomyoghurt straciatella</td>\n",
       "    </tr>\n",
       "    <tr>\n",
       "      <th>219</th>\n",
       "      <td>ham-kaas croissant croissant</td>\n",
       "      <td>hamkaas croissant croissant</td>\n",
       "    </tr>\n",
       "    <tr>\n",
       "      <th>417</th>\n",
       "      <td>sla melange</td>\n",
       "      <td>sla melange</td>\n",
       "    </tr>\n",
       "  </tbody>\n",
       "</table>\n",
       "</div>"
      ],
      "text/plain": [
       "               product_name_clean           product_normalized\n",
       "41                     piccalilly                   piccalilly\n",
       "58       frikandelbroodje broodje     frikandelbroodje broodje\n",
       "178      roomyoghurt straciatella     roomyoghurt straciatella\n",
       "219  ham-kaas croissant croissant  hamkaas croissant croissant\n",
       "417                   sla melange                  sla melange"
      ]
     },
     "metadata": {},
     "output_type": "display_data"
    },
    {
     "data": {
      "text/html": [
       "<div>\n",
       "<style scoped>\n",
       "    .dataframe tbody tr th:only-of-type {\n",
       "        vertical-align: middle;\n",
       "    }\n",
       "\n",
       "    .dataframe tbody tr th {\n",
       "        vertical-align: top;\n",
       "    }\n",
       "\n",
       "    .dataframe thead th {\n",
       "        text-align: right;\n",
       "    }\n",
       "</style>\n",
       "<table border=\"1\" class=\"dataframe\">\n",
       "  <thead>\n",
       "    <tr style=\"text-align: right;\">\n",
       "      <th></th>\n",
       "      <th>ingredient</th>\n",
       "      <th>ingredient_normalized</th>\n",
       "    </tr>\n",
       "  </thead>\n",
       "  <tbody>\n",
       "    <tr>\n",
       "      <th>0</th>\n",
       "      <td>strawberries</td>\n",
       "      <td>strawberries</td>\n",
       "    </tr>\n",
       "    <tr>\n",
       "      <th>1</th>\n",
       "      <td>banana</td>\n",
       "      <td>banana</td>\n",
       "    </tr>\n",
       "    <tr>\n",
       "      <th>2</th>\n",
       "      <td>yogurt</td>\n",
       "      <td>yogurt</td>\n",
       "    </tr>\n",
       "    <tr>\n",
       "      <th>3</th>\n",
       "      <td>honey</td>\n",
       "      <td>honey</td>\n",
       "    </tr>\n",
       "    <tr>\n",
       "      <th>4</th>\n",
       "      <td>tomato</td>\n",
       "      <td>tomato</td>\n",
       "    </tr>\n",
       "    <tr>\n",
       "      <th>5</th>\n",
       "      <td>tuna</td>\n",
       "      <td>tuna</td>\n",
       "    </tr>\n",
       "  </tbody>\n",
       "</table>\n",
       "</div>"
      ],
      "text/plain": [
       "     ingredient ingredient_normalized\n",
       "0  strawberries          strawberries\n",
       "1        banana                banana\n",
       "2        yogurt                yogurt\n",
       "3         honey                 honey\n",
       "4        tomato                tomato\n",
       "5          tuna                  tuna"
      ]
     },
     "metadata": {},
     "output_type": "display_data"
    }
   ],
   "source": [
    "# Apply normalization\n",
    "df_products[\"product_normalized\"] = df_products[\"product_name_clean\"].apply(normalize)\n",
    "df_recipes[\"ingredient_normalized\"] = df_recipes[\"ingredient\"].apply(normalize)\n",
    "\n",
    "# Preview result\n",
    "display(df_products[[\"product_name_clean\", \"product_normalized\"]].dropna().head())\n",
    "display(df_recipes[[\"ingredient\", \"ingredient_normalized\"]])\n"
   ]
  },
  {
   "cell_type": "markdown",
   "id": "0abf93cb",
   "metadata": {},
   "source": [
    "## Translate Product and Ingredient Text to English\n",
    "\n",
    "To improve semantic matching and align with multilingual embedding models, we translate both normalized product names and recipe ingredients to English.\n",
    "\n",
    "This ensures that LLMs and embedding models trained on English data can be used effectively.\n"
   ]
  },
  {
   "cell_type": "code",
   "execution_count": 4,
   "id": "28161661",
   "metadata": {},
   "outputs": [
    {
     "data": {
      "text/html": [
       "<div>\n",
       "<style scoped>\n",
       "    .dataframe tbody tr th:only-of-type {\n",
       "        vertical-align: middle;\n",
       "    }\n",
       "\n",
       "    .dataframe tbody tr th {\n",
       "        vertical-align: top;\n",
       "    }\n",
       "\n",
       "    .dataframe thead th {\n",
       "        text-align: right;\n",
       "    }\n",
       "</style>\n",
       "<table border=\"1\" class=\"dataframe\">\n",
       "  <thead>\n",
       "    <tr style=\"text-align: right;\">\n",
       "      <th></th>\n",
       "      <th>product_normalized</th>\n",
       "      <th>product_en</th>\n",
       "    </tr>\n",
       "  </thead>\n",
       "  <tbody>\n",
       "    <tr>\n",
       "      <th>0</th>\n",
       "      <td></td>\n",
       "      <td></td>\n",
       "    </tr>\n",
       "    <tr>\n",
       "      <th>1</th>\n",
       "      <td></td>\n",
       "      <td></td>\n",
       "    </tr>\n",
       "    <tr>\n",
       "      <th>2</th>\n",
       "      <td></td>\n",
       "      <td></td>\n",
       "    </tr>\n",
       "    <tr>\n",
       "      <th>3</th>\n",
       "      <td></td>\n",
       "      <td></td>\n",
       "    </tr>\n",
       "    <tr>\n",
       "      <th>4</th>\n",
       "      <td></td>\n",
       "      <td></td>\n",
       "    </tr>\n",
       "  </tbody>\n",
       "</table>\n",
       "</div>"
      ],
      "text/plain": [
       "  product_normalized product_en\n",
       "0                              \n",
       "1                              \n",
       "2                              \n",
       "3                              \n",
       "4                              "
      ]
     },
     "metadata": {},
     "output_type": "display_data"
    },
    {
     "data": {
      "text/html": [
       "<div>\n",
       "<style scoped>\n",
       "    .dataframe tbody tr th:only-of-type {\n",
       "        vertical-align: middle;\n",
       "    }\n",
       "\n",
       "    .dataframe tbody tr th {\n",
       "        vertical-align: top;\n",
       "    }\n",
       "\n",
       "    .dataframe thead th {\n",
       "        text-align: right;\n",
       "    }\n",
       "</style>\n",
       "<table border=\"1\" class=\"dataframe\">\n",
       "  <thead>\n",
       "    <tr style=\"text-align: right;\">\n",
       "      <th></th>\n",
       "      <th>ingredient_normalized</th>\n",
       "      <th>ingredient_en</th>\n",
       "    </tr>\n",
       "  </thead>\n",
       "  <tbody>\n",
       "    <tr>\n",
       "      <th>0</th>\n",
       "      <td>strawberries</td>\n",
       "      <td>strawberries</td>\n",
       "    </tr>\n",
       "    <tr>\n",
       "      <th>1</th>\n",
       "      <td>banana</td>\n",
       "      <td>banana</td>\n",
       "    </tr>\n",
       "    <tr>\n",
       "      <th>2</th>\n",
       "      <td>yogurt</td>\n",
       "      <td>yogurt</td>\n",
       "    </tr>\n",
       "    <tr>\n",
       "      <th>3</th>\n",
       "      <td>honey</td>\n",
       "      <td>honey</td>\n",
       "    </tr>\n",
       "    <tr>\n",
       "      <th>4</th>\n",
       "      <td>tomato</td>\n",
       "      <td>tomato</td>\n",
       "    </tr>\n",
       "    <tr>\n",
       "      <th>5</th>\n",
       "      <td>tuna</td>\n",
       "      <td>tuna</td>\n",
       "    </tr>\n",
       "  </tbody>\n",
       "</table>\n",
       "</div>"
      ],
      "text/plain": [
       "  ingredient_normalized ingredient_en\n",
       "0          strawberries  strawberries\n",
       "1                banana        banana\n",
       "2                yogurt        yogurt\n",
       "3                 honey         honey\n",
       "4                tomato        tomato\n",
       "5                  tuna          tuna"
      ]
     },
     "metadata": {},
     "output_type": "display_data"
    }
   ],
   "source": [
    "# Placeholder translation function (offline mock)\n",
    "# In production, replace with DeepL or Google Translate API\n",
    "def translate_to_english(text):\n",
    "    translation_dict = {\n",
    "        \"roomyoghurt straciatella\": \"creamy yogurt stracciatella\",\n",
    "        \"frikandelbroodje broodje\": \"frikandel roll\",\n",
    "        \"sla melange\": \"lettuce mix\",\n",
    "        \"hamkaas croissant croissant\": \"ham cheese croissant\",\n",
    "        \"piccalilly\": \"piccalilly\",  # same in both\n",
    "    }\n",
    "    return translation_dict.get(text, text)\n",
    "\n",
    "# Apply to both product and ingredient\n",
    "df_products[\"product_en\"] = df_products[\"product_normalized\"].apply(translate_to_english)\n",
    "df_recipes[\"ingredient_en\"] = df_recipes[\"ingredient_normalized\"].apply(translate_to_english)\n",
    "\n",
    "# Preview translations\n",
    "display(df_products[[\"product_normalized\", \"product_en\"]].dropna().head())\n",
    "display(df_recipes[[\"ingredient_normalized\", \"ingredient_en\"]])\n"
   ]
  },
  {
   "cell_type": "markdown",
   "id": "079a1199",
   "metadata": {},
   "source": [
    "## Encode Product and Ingredient Text with Sentence-BERT\n",
    "\n",
    "We now compute semantic embeddings for both the English-translated product names and ingredients using the `paraphrase-multilingual-MiniLM-L12-v2` model.\n",
    "\n",
    "This model supports over 50 languages and works well for short product and food-related text.\n"
   ]
  },
  {
   "cell_type": "code",
   "execution_count": 5,
   "id": "f4ceadc0",
   "metadata": {},
   "outputs": [
    {
     "data": {
      "application/vnd.jupyter.widget-view+json": {
       "model_id": "7bb62a38a7844e35b7b8755f5c534bd0",
       "version_major": 2,
       "version_minor": 0
      },
      "text/plain": [
       "modules.json:   0%|          | 0.00/229 [00:00<?, ?B/s]"
      ]
     },
     "metadata": {},
     "output_type": "display_data"
    },
    {
     "name": "stderr",
     "output_type": "stream",
     "text": [
      "C:\\Users\\User\\anaconda3\\lib\\site-packages\\huggingface_hub\\file_download.py:143: UserWarning: `huggingface_hub` cache-system uses symlinks by default to efficiently store duplicated files but your machine does not support them in C:\\Users\\User\\.cache\\huggingface\\hub\\models--sentence-transformers--paraphrase-multilingual-MiniLM-L12-v2. Caching files will still work but in a degraded version that might require more space on your disk. This warning can be disabled by setting the `HF_HUB_DISABLE_SYMLINKS_WARNING` environment variable. For more details, see https://huggingface.co/docs/huggingface_hub/how-to-cache#limitations.\n",
      "To support symlinks on Windows, you either need to activate Developer Mode or to run Python as an administrator. In order to activate developer mode, see this article: https://docs.microsoft.com/en-us/windows/apps/get-started/enable-your-device-for-development\n",
      "  warnings.warn(message)\n"
     ]
    },
    {
     "data": {
      "application/vnd.jupyter.widget-view+json": {
       "model_id": "958e3b24a33447ceb72403ebcb4bf610",
       "version_major": 2,
       "version_minor": 0
      },
      "text/plain": [
       "config_sentence_transformers.json:   0%|          | 0.00/122 [00:00<?, ?B/s]"
      ]
     },
     "metadata": {},
     "output_type": "display_data"
    },
    {
     "data": {
      "application/vnd.jupyter.widget-view+json": {
       "model_id": "796269714b144a4caac29ac8a86c28ea",
       "version_major": 2,
       "version_minor": 0
      },
      "text/plain": [
       "README.md:   0%|          | 0.00/3.89k [00:00<?, ?B/s]"
      ]
     },
     "metadata": {},
     "output_type": "display_data"
    },
    {
     "data": {
      "application/vnd.jupyter.widget-view+json": {
       "model_id": "427d20025d0948d2957c7c81c21b1090",
       "version_major": 2,
       "version_minor": 0
      },
      "text/plain": [
       "sentence_bert_config.json:   0%|          | 0.00/53.0 [00:00<?, ?B/s]"
      ]
     },
     "metadata": {},
     "output_type": "display_data"
    },
    {
     "data": {
      "application/vnd.jupyter.widget-view+json": {
       "model_id": "6cd05fa0e088415eace8b8456d71e0de",
       "version_major": 2,
       "version_minor": 0
      },
      "text/plain": [
       "config.json:   0%|          | 0.00/645 [00:00<?, ?B/s]"
      ]
     },
     "metadata": {},
     "output_type": "display_data"
    },
    {
     "name": "stderr",
     "output_type": "stream",
     "text": [
      "Xet Storage is enabled for this repo, but the 'hf_xet' package is not installed. Falling back to regular HTTP download. For better performance, install the package with: `pip install huggingface_hub[hf_xet]` or `pip install hf_xet`\n"
     ]
    },
    {
     "data": {
      "application/vnd.jupyter.widget-view+json": {
       "model_id": "c121cd62405e4ca09d8c064309563869",
       "version_major": 2,
       "version_minor": 0
      },
      "text/plain": [
       "model.safetensors:   0%|          | 0.00/471M [00:00<?, ?B/s]"
      ]
     },
     "metadata": {},
     "output_type": "display_data"
    },
    {
     "data": {
      "application/vnd.jupyter.widget-view+json": {
       "model_id": "4ba43f2abdd34be0972f61139e675cd5",
       "version_major": 2,
       "version_minor": 0
      },
      "text/plain": [
       "tokenizer_config.json:   0%|          | 0.00/480 [00:00<?, ?B/s]"
      ]
     },
     "metadata": {},
     "output_type": "display_data"
    },
    {
     "name": "stderr",
     "output_type": "stream",
     "text": [
      "Xet Storage is enabled for this repo, but the 'hf_xet' package is not installed. Falling back to regular HTTP download. For better performance, install the package with: `pip install huggingface_hub[hf_xet]` or `pip install hf_xet`\n"
     ]
    },
    {
     "data": {
      "application/vnd.jupyter.widget-view+json": {
       "model_id": "31a0d5b5075d4fd3b99729ddd6995b43",
       "version_major": 2,
       "version_minor": 0
      },
      "text/plain": [
       "tokenizer.json:   0%|          | 0.00/9.08M [00:00<?, ?B/s]"
      ]
     },
     "metadata": {},
     "output_type": "display_data"
    },
    {
     "data": {
      "application/vnd.jupyter.widget-view+json": {
       "model_id": "d6bb63a85224498189bb5aa3103abcdd",
       "version_major": 2,
       "version_minor": 0
      },
      "text/plain": [
       "special_tokens_map.json:   0%|          | 0.00/239 [00:00<?, ?B/s]"
      ]
     },
     "metadata": {},
     "output_type": "display_data"
    },
    {
     "data": {
      "application/vnd.jupyter.widget-view+json": {
       "model_id": "b9756a3ca4eb4179804826cfe10d8816",
       "version_major": 2,
       "version_minor": 0
      },
      "text/plain": [
       "config.json:   0%|          | 0.00/190 [00:00<?, ?B/s]"
      ]
     },
     "metadata": {},
     "output_type": "display_data"
    },
    {
     "data": {
      "application/vnd.jupyter.widget-view+json": {
       "model_id": "f29163b32222449887ecfac242481a60",
       "version_major": 2,
       "version_minor": 0
      },
      "text/plain": [
       "Batches:   0%|          | 0/3967 [00:00<?, ?it/s]"
      ]
     },
     "metadata": {},
     "output_type": "display_data"
    },
    {
     "data": {
      "application/vnd.jupyter.widget-view+json": {
       "model_id": "568d322716e54301a684b3f92c3bcd5f",
       "version_major": 2,
       "version_minor": 0
      },
      "text/plain": [
       "Batches:   0%|          | 0/1 [00:00<?, ?it/s]"
      ]
     },
     "metadata": {},
     "output_type": "display_data"
    }
   ],
   "source": [
    "# Load multilingual model (fast and suitable for short text)\n",
    "model = SentenceTransformer(\"paraphrase-multilingual-MiniLM-L12-v2\")\n",
    "\n",
    "# Encode product names and ingredients\n",
    "product_embeddings = model.encode(df_products[\"product_en\"].fillna(\"\"), show_progress_bar=True)\n",
    "ingredient_embeddings = model.encode(df_recipes[\"ingredient_en\"].fillna(\"\"), show_progress_bar=True)\n",
    "\n",
    "# Save back to DataFrames\n",
    "df_products[\"product_embedding\"] = list(product_embeddings)\n",
    "df_recipes[\"ingredient_embedding\"] = list(ingredient_embeddings)\n"
   ]
  },
  {
   "cell_type": "markdown",
   "id": "f160a34c",
   "metadata": {},
   "source": [
    "## Save Translated and Embedded Data\n",
    "\n",
    "We now export the preprocessed product and ingredient data - including normalized text, English translations, and Sentence-BERT embeddings - to disk for reuse in evaluation and matching notebooks.\n"
   ]
  },
  {
   "cell_type": "code",
   "execution_count": 6,
   "id": "ebea9e76",
   "metadata": {},
   "outputs": [
    {
     "name": "stdout",
     "output_type": "stream",
     "text": [
      "-> Saved products to: cleaned_data\\products_semantic_ready.csv\n",
      "-> Saved recipes to: cleaned_data\\recipes_semantic_ready.csv\n"
     ]
    }
   ],
   "source": [
    "# Save processed product and recipe files\n",
    "products_out_path = os.path.join(input_folder, \"products_semantic_ready.csv\")\n",
    "recipes_out_path = os.path.join(input_folder, \"recipes_semantic_ready.csv\")\n",
    "\n",
    "df_products.to_csv(products_out_path, index=False)\n",
    "df_recipes.to_csv(recipes_out_path, index=False)\n",
    "\n",
    "print(\"-> Saved products to:\", products_out_path)\n",
    "print(\"-> Saved recipes to:\", recipes_out_path)\n"
   ]
  },
  {
   "cell_type": "code",
   "execution_count": null,
   "id": "11baa520",
   "metadata": {},
   "outputs": [],
   "source": []
  }
 ],
 "metadata": {
  "kernelspec": {
   "display_name": "Python 3",
   "language": "python",
   "name": "python3"
  },
  "language_info": {
   "codemirror_mode": {
    "name": "ipython",
    "version": 3
   },
   "file_extension": ".py",
   "mimetype": "text/x-python",
   "name": "python",
   "nbconvert_exporter": "python",
   "pygments_lexer": "ipython3",
   "version": "3.8.8"
  }
 },
 "nbformat": 4,
 "nbformat_minor": 5
}
