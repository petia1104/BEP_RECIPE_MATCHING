{
 "cells": [
  {
   "cell_type": "markdown",
   "id": "ea1daf1b",
   "metadata": {},
   "source": [
    "# Notebook 28 - Format Results for Thesis Appendix\n",
    "\n",
    "This notebook prepares final results for inclusion in the thesis appendix and results chapter. It generates clean LaTeX, CSV, and image-formatted versions of the store deployment summary.\n",
    "\n",
    "These outputs are intended for:\n",
    "\n",
    "- The main results tables in the thesis (LaTeX-ready)\n",
    "- Visual presentation in reports or slides (PNG export)\n",
    "- Reproducibility and data transparency (CSV export)\n",
    "\n",
    "## Objectives\n",
    "\n",
    "- Load store-level deployment summary\n",
    "- Format it for LaTeX inclusion (rounded values, bold headers)\n",
    "- Save a clean CSV and PNG version of the results table\n",
    "- Highlight top-performing stores by waste value avoided\n",
    "\n",
    "## Inputs\n",
    "\n",
    "- `deployment_exports/store_deployment_summary.csv`\n",
    "\n",
    "## Outputs\n",
    "\n",
    "- `thesis_outputs/store_summary_table.csv`\n",
    "- `thesis_outputs/store_summary_table.tex`\n",
    "- `thesis_outputs/store_summary_table.png`\n"
   ]
  },
  {
   "cell_type": "code",
   "execution_count": 2,
   "id": "24a288d8",
   "metadata": {},
   "outputs": [
    {
     "name": "stdout",
     "output_type": "stream",
     "text": [
      "Deployment summary loaded: (9, 5)\n"
     ]
    },
    {
     "data": {
      "text/html": [
       "<div>\n",
       "<style scoped>\n",
       "    .dataframe tbody tr th:only-of-type {\n",
       "        vertical-align: middle;\n",
       "    }\n",
       "\n",
       "    .dataframe tbody tr th {\n",
       "        vertical-align: top;\n",
       "    }\n",
       "\n",
       "    .dataframe thead th {\n",
       "        text-align: right;\n",
       "    }\n",
       "</style>\n",
       "<table border=\"1\" class=\"dataframe\">\n",
       "  <thead>\n",
       "    <tr style=\"text-align: right;\">\n",
       "      <th></th>\n",
       "      <th>store</th>\n",
       "      <th>recipes_planned</th>\n",
       "      <th>unique_ingredients</th>\n",
       "      <th>products_to_pick</th>\n",
       "      <th>estimated_value_saved</th>\n",
       "    </tr>\n",
       "  </thead>\n",
       "  <tbody>\n",
       "    <tr>\n",
       "      <th>0</th>\n",
       "      <td>1024</td>\n",
       "      <td>1</td>\n",
       "      <td>0</td>\n",
       "      <td>0</td>\n",
       "      <td>0.79</td>\n",
       "    </tr>\n",
       "    <tr>\n",
       "      <th>1</th>\n",
       "      <td>1058</td>\n",
       "      <td>1</td>\n",
       "      <td>0</td>\n",
       "      <td>0</td>\n",
       "      <td>0.00</td>\n",
       "    </tr>\n",
       "    <tr>\n",
       "      <th>2</th>\n",
       "      <td>1160</td>\n",
       "      <td>1</td>\n",
       "      <td>0</td>\n",
       "      <td>0</td>\n",
       "      <td>0.00</td>\n",
       "    </tr>\n",
       "    <tr>\n",
       "      <th>3</th>\n",
       "      <td>3298</td>\n",
       "      <td>1</td>\n",
       "      <td>0</td>\n",
       "      <td>0</td>\n",
       "      <td>0.00</td>\n",
       "    </tr>\n",
       "    <tr>\n",
       "      <th>4</th>\n",
       "      <td>3345</td>\n",
       "      <td>1</td>\n",
       "      <td>0</td>\n",
       "      <td>0</td>\n",
       "      <td>0.00</td>\n",
       "    </tr>\n",
       "  </tbody>\n",
       "</table>\n",
       "</div>"
      ],
      "text/plain": [
       "   store  recipes_planned  unique_ingredients  products_to_pick  \\\n",
       "0   1024                1                   0                 0   \n",
       "1   1058                1                   0                 0   \n",
       "2   1160                1                   0                 0   \n",
       "3   3298                1                   0                 0   \n",
       "4   3345                1                   0                 0   \n",
       "\n",
       "   estimated_value_saved  \n",
       "0                   0.79  \n",
       "1                   0.00  \n",
       "2                   0.00  \n",
       "3                   0.00  \n",
       "4                   0.00  "
      ]
     },
     "metadata": {},
     "output_type": "display_data"
    }
   ],
   "source": [
    "import os\n",
    "import pandas as pd\n",
    "\n",
    "# Define input/output paths\n",
    "summary_file = os.path.join(\"deployment_exports\", \"store_deployment_summary.csv\")\n",
    "output_folder = \"thesis_outputs\"\n",
    "os.makedirs(output_folder, exist_ok=True)\n",
    "\n",
    "# Load store deployment summary\n",
    "df = pd.read_csv(summary_file)\n",
    "\n",
    "# Preview\n",
    "print(\"Deployment summary loaded:\", df.shape)\n",
    "display(df.head())\n"
   ]
  },
  {
   "cell_type": "code",
   "execution_count": 3,
   "id": "3ab2a314",
   "metadata": {},
   "outputs": [
    {
     "name": "stdout",
     "output_type": "stream",
     "text": [
      "Saved CSV to: thesis_outputs\\store_summary_table.csv\n",
      "Saved LaTeX to: thesis_outputs\\store_summary_table.tex\n"
     ]
    }
   ],
   "source": [
    "# Round and rename for thesis\n",
    "df_export = df.copy()\n",
    "df_export[\"estimated_value_saved\"] = df_export[\"estimated_value_saved\"].round(2)\n",
    "df_export.columns = [\n",
    "    \"Store ID\", \"Recipes Planned\", \"Unique Ingredients\",\n",
    "    \"Products to Pick\", \"Estimated € Saved\"\n",
    "]\n",
    "\n",
    "# Save CSV\n",
    "csv_path = os.path.join(output_folder, \"store_summary_table.csv\")\n",
    "df_export.to_csv(csv_path, index=False)\n",
    "\n",
    "# Save LaTeX\n",
    "latex_path = os.path.join(output_folder, \"store_summary_table.tex\")\n",
    "with open(latex_path, \"w\", encoding=\"utf-8\") as f:\n",
    "    f.write(df_export.to_latex(index=False, bold_rows=True, float_format=\"%.2f\"))\n",
    "\n",
    "print(\"Saved CSV to:\", csv_path)\n",
    "print(\"Saved LaTeX to:\", latex_path)\n"
   ]
  },
  {
   "cell_type": "code",
   "execution_count": 4,
   "id": "387283b3",
   "metadata": {},
   "outputs": [],
   "source": [
    "# Add performance tier\n",
    "def tier(value):\n",
    "    if value >= 0.75:\n",
    "        return \"high\"\n",
    "    elif value >= 0.25:\n",
    "        return \"moderate\"\n",
    "    else:\n",
    "        return \"low\"\n",
    "\n",
    "df[\"performance_tier\"] = df[\"estimated_value_saved\"].apply(tier)\n",
    "\n",
    "# Add value-based efficiency metrics\n",
    "df[\"value_per_recipe\"] = df[\"estimated_value_saved\"] / df[\"recipes_planned\"].replace(0, 1)\n",
    "df[\"value_per_product\"] = df[\"estimated_value_saved\"] / df[\"products_to_pick\"].replace(0, 1)\n",
    "df[\"coverage_score\"] = df[\"estimated_value_saved\"] / (\n",
    "    df[\"recipes_planned\"].replace(0, 1) * df[\"products_to_pick\"].replace(0, 1)\n",
    ")\n"
   ]
  },
  {
   "cell_type": "code",
   "execution_count": 5,
   "id": "c4329c8e",
   "metadata": {},
   "outputs": [
    {
     "data": {
      "image/png": "[encoded data removed]",
      "text/plain": [
       "<Figure size 720x360 with 1 Axes>"
      ]
     },
     "metadata": {
      "needs_background": "light"
     },
     "output_type": "display_data"
    }
   ],
   "source": [
    "import seaborn as sns\n",
    "import matplotlib.pyplot as plt\n",
    "\n",
    "plt.figure(figsize=(10, 5))\n",
    "sns.barplot(data=df.sort_values(\"estimated_value_saved\", ascending=False), \n",
    "            x=\"store\", y=\"estimated_value_saved\", hue=\"performance_tier\", dodge=False)\n",
    "plt.title(\"Estimated Waste Value Saved per Store\")\n",
    "plt.xlabel(\"Store\")\n",
    "plt.ylabel(\"€ Saved\")\n",
    "plt.legend(title=\"Performance Tier\")\n",
    "plt.tight_layout()\n",
    "plt.savefig(\"thesis_outputs/store_value_saved_by_tier.png\", dpi=300)\n",
    "plt.show()\n"
   ]
  },
  {
   "cell_type": "code",
   "execution_count": 6,
   "id": "3b906fa8",
   "metadata": {},
   "outputs": [],
   "source": [
    "df = df.round(2)\n",
    "df.to_csv(\"thesis_outputs/store_summary_table_enhanced.csv\", index=False)\n",
    "df.to_latex(\"thesis_outputs/store_summary_table_enhanced.tex\", index=False, bold_rows=True, float_format=\"%.2f\")\n"
   ]
  },
  {
   "cell_type": "code",
   "execution_count": null,
   "id": "6dd77cbc",
   "metadata": {},
   "outputs": [],
   "source": []
  }
 ],
 "metadata": {
  "kernelspec": {
   "display_name": "Python 3",
   "language": "python",
   "name": "python3"
  },
  "language_info": {
   "codemirror_mode": {
    "name": "ipython",
    "version": 3
   },
   "file_extension": ".py",
   "mimetype": "text/x-python",
   "name": "python",
   "nbconvert_exporter": "python",
   "pygments_lexer": "ipython3",
   "version": "3.8.8"
  }
 },
 "nbformat": 4,
 "nbformat_minor": 5
}
