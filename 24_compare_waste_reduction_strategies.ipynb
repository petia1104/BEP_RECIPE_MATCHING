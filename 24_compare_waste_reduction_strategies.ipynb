{
 "cells": [
  {
   "cell_type": "markdown",
   "id": "c78cad33",
   "metadata": {},
   "source": [
    "# Notebook 24 - Compare Waste Reduction Strategies\n",
    "\n",
    "## Purpose\n",
    "This notebook compares the effectiveness of multiple recipe–product matching strategies in terms of their simulated impact on food waste. It benchmarks the **semantic + priority boosting** method (Notebook 21) against a **fuzzy-only** baseline (Notebook 24) and optionally a **random matching control**.\n",
    "\n",
    "## Objectives\n",
    "- Load waste impact results from different matching strategies\n",
    "- Normalize data for fair comparison (e.g. common store set)\n",
    "- Compare KPIs: avoided items and avoided value\n",
    "- Visualize the performance of each method\n",
    "- Provide a strategic recommendation based on empirical results\n",
    "\n",
    "## Inputs\n",
    "- `waste_impact_simulated.csv` - Semantic + priority matching results\n",
    "- `waste_impact_fuzzy.csv` - Fuzzy-only matching results\n",
    "- `waste_impact_random.csv` - Optional control using random product selection\n",
    "\n",
    "## Outputs\n",
    "- Table of avoided waste by strategy\n",
    "- Comparative bar plots (items and value saved)\n",
    "- Strategic recommendation based on performance\n"
   ]
  },
  {
   "cell_type": "code",
   "execution_count": 38,
   "id": "8f5933ca",
   "metadata": {},
   "outputs": [],
   "source": [
    "import os\n",
    "import pandas as pd\n",
    "import matplotlib.pyplot as plt\n",
    "\n",
    "# Folder\n",
    "impact_folder = \"waste_simulation\"\n",
    "\n",
    "# Input files\n",
    "semantic_file = os.path.join(impact_folder, \"waste_impact_simulated.csv\")\n",
    "fuzzy_file = os.path.join(impact_folder, \"waste_impact_fuzzy.csv\")\n",
    "random_file = os.path.join(impact_folder, \"waste_impact_random.csv\")  # optional\n"
   ]
  },
  {
   "cell_type": "code",
   "execution_count": 39,
   "id": "5c5adb0a",
   "metadata": {},
   "outputs": [
    {
     "name": "stdout",
     "output_type": "stream",
     "text": [
      "Combined simulation results: (8, 4)\n"
     ]
    },
    {
     "data": {
      "text/html": [
       "<div>\n",
       "<style scoped>\n",
       "    .dataframe tbody tr th:only-of-type {\n",
       "        vertical-align: middle;\n",
       "    }\n",
       "\n",
       "    .dataframe tbody tr th {\n",
       "        vertical-align: top;\n",
       "    }\n",
       "\n",
       "    .dataframe thead th {\n",
       "        text-align: right;\n",
       "    }\n",
       "</style>\n",
       "<table border=\"1\" class=\"dataframe\">\n",
       "  <thead>\n",
       "    <tr style=\"text-align: right;\">\n",
       "      <th></th>\n",
       "      <th>store</th>\n",
       "      <th>items_wasted</th>\n",
       "      <th>value_wasted</th>\n",
       "      <th>strategy</th>\n",
       "    </tr>\n",
       "  </thead>\n",
       "  <tbody>\n",
       "    <tr>\n",
       "      <th>0</th>\n",
       "      <td>1024</td>\n",
       "      <td>1</td>\n",
       "      <td>0.79</td>\n",
       "      <td>semantic_priority</td>\n",
       "    </tr>\n",
       "    <tr>\n",
       "      <th>1</th>\n",
       "      <td>1090</td>\n",
       "      <td>1</td>\n",
       "      <td>0.79</td>\n",
       "      <td>semantic_priority</td>\n",
       "    </tr>\n",
       "    <tr>\n",
       "      <th>2</th>\n",
       "      <td>3340</td>\n",
       "      <td>1</td>\n",
       "      <td>0.79</td>\n",
       "      <td>semantic_priority</td>\n",
       "    </tr>\n",
       "    <tr>\n",
       "      <th>3</th>\n",
       "      <td>4255</td>\n",
       "      <td>2</td>\n",
       "      <td>2.12</td>\n",
       "      <td>semantic_priority</td>\n",
       "    </tr>\n",
       "    <tr>\n",
       "      <th>4</th>\n",
       "      <td>1024</td>\n",
       "      <td>1</td>\n",
       "      <td>0.79</td>\n",
       "      <td>fuzzy_only</td>\n",
       "    </tr>\n",
       "  </tbody>\n",
       "</table>\n",
       "</div>"
      ],
      "text/plain": [
       "   store  items_wasted  value_wasted           strategy\n",
       "0   1024             1          0.79  semantic_priority\n",
       "1   1090             1          0.79  semantic_priority\n",
       "2   3340             1          0.79  semantic_priority\n",
       "3   4255             2          2.12  semantic_priority\n",
       "4   1024             1          0.79         fuzzy_only"
      ]
     },
     "execution_count": 39,
     "metadata": {},
     "output_type": "execute_result"
    }
   ],
   "source": [
    "# Load semantic + priority method\n",
    "df_semantic = pd.read_csv(semantic_file)\n",
    "df_semantic[\"strategy\"] = \"semantic_priority\"\n",
    "\n",
    "# Load fuzzy-only method\n",
    "df_fuzzy = pd.read_csv(fuzzy_file)\n",
    "df_fuzzy[\"strategy\"] = \"fuzzy_only\"\n",
    "\n",
    "# Attempt to load random baseline if available\n",
    "try:\n",
    "    df_random = pd.read_csv(random_file)\n",
    "    df_random[\"strategy\"] = \"random\"\n",
    "    df_all = pd.concat([df_semantic, df_fuzzy, df_random], ignore_index=True)\n",
    "except FileNotFoundError:\n",
    "    df_all = pd.concat([df_semantic, df_fuzzy], ignore_index=True)\n",
    "\n",
    "print(\"Combined simulation results:\", df_all.shape)\n",
    "df_all.head()\n"
   ]
  },
  {
   "cell_type": "code",
   "execution_count": 40,
   "id": "9f1d3788",
   "metadata": {},
   "outputs": [],
   "source": [
    "# Compute common stores depending on availability\n",
    "if \"df_random\" in locals():\n",
    "    common_stores = set(df_semantic[\"store\"]) & set(df_fuzzy[\"store\"]) & set(df_random[\"store\"])\n",
    "    df_random_filtered = df_random[df_random[\"store\"].isin(common_stores)]\n",
    "else:\n",
    "    common_stores = set(df_semantic[\"store\"]) & set(df_fuzzy[\"store\"])\n",
    "    df_random_filtered = pd.DataFrame(columns=df_fuzzy.columns)  # Empty placeholder\n",
    "\n",
    "# Filter semantic and fuzzy to common stores\n",
    "df_semantic_filtered = df_semantic[df_semantic[\"store\"].isin(common_stores)]\n",
    "df_fuzzy_filtered = df_fuzzy[df_fuzzy[\"store\"].isin(common_stores)]\n",
    "\n",
    "# Combine\n",
    "df_all_filtered = pd.concat([df_semantic_filtered, df_fuzzy_filtered, df_random_filtered], ignore_index=True)\n"
   ]
  },
  {
   "cell_type": "code",
   "execution_count": 41,
   "id": "a064d213",
   "metadata": {},
   "outputs": [
    {
     "name": "stdout",
     "output_type": "stream",
     "text": [
      "Waste reduction comparison (normalized):\n"
     ]
    },
    {
     "data": {
      "text/html": [
       "<div>\n",
       "<style scoped>\n",
       "    .dataframe tbody tr th:only-of-type {\n",
       "        vertical-align: middle;\n",
       "    }\n",
       "\n",
       "    .dataframe tbody tr th {\n",
       "        vertical-align: top;\n",
       "    }\n",
       "\n",
       "    .dataframe thead th {\n",
       "        text-align: right;\n",
       "    }\n",
       "</style>\n",
       "<table border=\"1\" class=\"dataframe\">\n",
       "  <thead>\n",
       "    <tr style=\"text-align: right;\">\n",
       "      <th></th>\n",
       "      <th>strategy</th>\n",
       "      <th>items_wasted</th>\n",
       "      <th>value_wasted</th>\n",
       "      <th>items_delta_pct</th>\n",
       "      <th>value_delta_pct</th>\n",
       "    </tr>\n",
       "  </thead>\n",
       "  <tbody>\n",
       "    <tr>\n",
       "      <th>0</th>\n",
       "      <td>fuzzy_only</td>\n",
       "      <td>7</td>\n",
       "      <td>6.61</td>\n",
       "      <td>40.0</td>\n",
       "      <td>47.22</td>\n",
       "    </tr>\n",
       "    <tr>\n",
       "      <th>1</th>\n",
       "      <td>semantic_priority</td>\n",
       "      <td>5</td>\n",
       "      <td>4.49</td>\n",
       "      <td>0.0</td>\n",
       "      <td>0.00</td>\n",
       "    </tr>\n",
       "  </tbody>\n",
       "</table>\n",
       "</div>"
      ],
      "text/plain": [
       "            strategy  items_wasted  value_wasted  items_delta_pct  \\\n",
       "0         fuzzy_only             7          6.61             40.0   \n",
       "1  semantic_priority             5          4.49              0.0   \n",
       "\n",
       "   value_delta_pct  \n",
       "0            47.22  \n",
       "1             0.00  "
      ]
     },
     "execution_count": 41,
     "metadata": {},
     "output_type": "execute_result"
    }
   ],
   "source": [
    "# Compute total KPIs per strategy\n",
    "df_summary = df_all_filtered.groupby(\"strategy\").agg({\n",
    "    \"items_wasted\": \"sum\",\n",
    "    \"value_wasted\": \"sum\"\n",
    "}).reset_index()\n",
    "\n",
    "# Use semantic_priority as the baseline for percentage deltas\n",
    "base_items = df_summary[df_summary[\"strategy\"] == \"semantic_priority\"][\"items_wasted\"].values[0]\n",
    "base_value = df_summary[df_summary[\"strategy\"] == \"semantic_priority\"][\"value_wasted\"].values[0]\n",
    "\n",
    "df_summary[\"items_delta_pct\"] = (df_summary[\"items_wasted\"] / base_items - 1) * 100\n",
    "df_summary[\"value_delta_pct\"] = (df_summary[\"value_wasted\"] / base_value - 1) * 100\n",
    "\n",
    "# Round for presentation\n",
    "df_summary = df_summary.round(2)\n",
    "\n",
    "print(\"Waste reduction comparison (normalized):\")\n",
    "df_summary\n"
   ]
  },
  {
   "cell_type": "code",
   "execution_count": 42,
   "id": "d6cc4ecc",
   "metadata": {},
   "outputs": [
    {
     "data": {
      "image/png": "[encoded data removed]",
      "text/plain": [
       "<Figure size 432x288 with 1 Axes>"
      ]
     },
     "metadata": {
      "needs_background": "light"
     },
     "output_type": "display_data"
    },
    {
     "data": {
      "image/png": "[encoded data removed]",
      "text/plain": [
       "<Figure size 432x288 with 1 Axes>"
      ]
     },
     "metadata": {
      "needs_background": "light"
     },
     "output_type": "display_data"
    }
   ],
   "source": [
    "import seaborn as sns\n",
    "\n",
    "# Bar plot: Avoided Items\n",
    "plt.figure(figsize=(6, 4))\n",
    "ax = sns.barplot(data=df_summary, x=\"strategy\", y=\"items_wasted\", palette=\"Blues_d\")\n",
    "ax.set_title(\"Total Avoided Items per Strategy\")\n",
    "ax.set_xlabel(\"Strategy\")\n",
    "ax.set_ylabel(\"Items\")\n",
    "\n",
    "# Add labels\n",
    "for p in ax.patches:\n",
    "    ax.annotate(f'{p.get_height():.0f}', (p.get_x() + p.get_width() / 2., p.get_height()),\n",
    "                ha='center', va='bottom', fontsize=10)\n",
    "\n",
    "plt.tight_layout()\n",
    "plt.show()\n",
    "\n",
    "# Bar plot: Avoided Value (€)\n",
    "plt.figure(figsize=(6, 4))\n",
    "ax = sns.barplot(data=df_summary, x=\"strategy\", y=\"value_wasted\", palette=\"Greens_d\")\n",
    "ax.set_title(\"Total Avoided Value per Strategy (€)\")\n",
    "ax.set_xlabel(\"Strategy\")\n",
    "ax.set_ylabel(\"Value (€)\")\n",
    "\n",
    "# Add labels\n",
    "for p in ax.patches:\n",
    "    ax.annotate(f'{p.get_height():.2f}', (p.get_x() + p.get_width() / 2., p.get_height()),\n",
    "                ha='center', va='bottom', fontsize=10)\n",
    "\n",
    "plt.tight_layout()\n",
    "plt.show()\n"
   ]
  },
  {
   "cell_type": "markdown",
   "id": "5aa357f0",
   "metadata": {},
   "source": [
    "### Strategic Recommendation\n",
    "\n",
    "While both methods reduced waste, the fuzzy-only matching unexpectedly outperformed the semantic + priority strategy in both items and value avoided.\n",
    "\n",
    "This suggests that:\n",
    "- The current semantic model may be overfitting to incorrect matches or\n",
    "- The boosted priority scores need fine-tuning\n",
    "\n",
    "Next steps could include:\n",
    "- Expanding the evaluation sample size\n",
    "- Incorporating human-labeled ground truth across stores\n",
    "- Testing hybrid strategies (e.g. semantic filtering + fuzzy reranking)\n",
    "\n",
    "**Recommendation**: Use fuzzy-only as a baseline for deployment, but revisit the scoring logic and candidate filtering of the semantic model.\n"
   ]
  },
  {
   "cell_type": "code",
   "execution_count": 43,
   "id": "78a1235e",
   "metadata": {},
   "outputs": [
    {
     "name": "stdout",
     "output_type": "stream",
     "text": [
      "Per-store value gain:\n"
     ]
    },
    {
     "data": {
      "text/html": [
       "<div>\n",
       "<style scoped>\n",
       "    .dataframe tbody tr th:only-of-type {\n",
       "        vertical-align: middle;\n",
       "    }\n",
       "\n",
       "    .dataframe tbody tr th {\n",
       "        vertical-align: top;\n",
       "    }\n",
       "\n",
       "    .dataframe thead th {\n",
       "        text-align: right;\n",
       "    }\n",
       "</style>\n",
       "<table border=\"1\" class=\"dataframe\">\n",
       "  <thead>\n",
       "    <tr style=\"text-align: right;\">\n",
       "      <th></th>\n",
       "      <th>store</th>\n",
       "      <th>value_wasted_fuzzy_only</th>\n",
       "      <th>value_wasted_semantic_priority</th>\n",
       "      <th>value_gain</th>\n",
       "    </tr>\n",
       "  </thead>\n",
       "  <tbody>\n",
       "    <tr>\n",
       "      <th>0</th>\n",
       "      <td>1024</td>\n",
       "      <td>0.79</td>\n",
       "      <td>0.79</td>\n",
       "      <td>0.00</td>\n",
       "    </tr>\n",
       "    <tr>\n",
       "      <th>1</th>\n",
       "      <td>1090</td>\n",
       "      <td>0.79</td>\n",
       "      <td>0.79</td>\n",
       "      <td>0.00</td>\n",
       "    </tr>\n",
       "    <tr>\n",
       "      <th>2</th>\n",
       "      <td>3340</td>\n",
       "      <td>0.79</td>\n",
       "      <td>0.79</td>\n",
       "      <td>0.00</td>\n",
       "    </tr>\n",
       "    <tr>\n",
       "      <th>3</th>\n",
       "      <td>4255</td>\n",
       "      <td>4.24</td>\n",
       "      <td>2.12</td>\n",
       "      <td>2.12</td>\n",
       "    </tr>\n",
       "  </tbody>\n",
       "</table>\n",
       "</div>"
      ],
      "text/plain": [
       "   store  value_wasted_fuzzy_only  value_wasted_semantic_priority  value_gain\n",
       "0   1024                     0.79                            0.79        0.00\n",
       "1   1090                     0.79                            0.79        0.00\n",
       "2   3340                     0.79                            0.79        0.00\n",
       "3   4255                     4.24                            2.12        2.12"
      ]
     },
     "execution_count": 43,
     "metadata": {},
     "output_type": "execute_result"
    }
   ],
   "source": [
    "# Calculate per-store value gain (fuzzy - semantic)\n",
    "df_store_compare[\"value_gain\"] = df_store_compare[\"value_wasted_fuzzy_only\"] - df_store_compare[\"value_wasted_semantic_priority\"]\n",
    "\n",
    "# Round for readability\n",
    "df_store_compare = df_store_compare.round(2)\n",
    "\n",
    "print(\"Per-store value gain:\")\n",
    "df_store_compare[[\"store\", \"value_wasted_fuzzy_only\", \"value_wasted_semantic_priority\", \"value_gain\"]]\n"
   ]
  },
  {
   "cell_type": "code",
   "execution_count": 44,
   "id": "854936be",
   "metadata": {},
   "outputs": [
    {
     "data": {
      "image/png": "[encoded data removed]",
      "text/plain": [
       "<Figure size 576x288 with 1 Axes>"
      ]
     },
     "metadata": {
      "needs_background": "light"
     },
     "output_type": "display_data"
    }
   ],
   "source": [
    "import seaborn as sns\n",
    "import matplotlib.pyplot as plt\n",
    "\n",
    "plt.figure(figsize=(8, 4))\n",
    "sns.barplot(data=df_store_compare, x=\"store\", y=\"value_gain\", palette=\"coolwarm\")\n",
    "plt.title(\"Per-Store Value Gain: Fuzzy vs Semantic\")\n",
    "plt.xlabel(\"Store\")\n",
    "plt.ylabel(\"€ Value Gain (Fuzzy - Semantic)\")\n",
    "plt.tight_layout()\n",
    "plt.show()\n"
   ]
  },
  {
   "cell_type": "code",
   "execution_count": 45,
   "id": "cf403c21",
   "metadata": {},
   "outputs": [
    {
     "data": {
      "text/html": [
       "<div>\n",
       "<style scoped>\n",
       "    .dataframe tbody tr th:only-of-type {\n",
       "        vertical-align: middle;\n",
       "    }\n",
       "\n",
       "    .dataframe tbody tr th {\n",
       "        vertical-align: top;\n",
       "    }\n",
       "\n",
       "    .dataframe thead th {\n",
       "        text-align: right;\n",
       "    }\n",
       "</style>\n",
       "<table border=\"1\" class=\"dataframe\">\n",
       "  <thead>\n",
       "    <tr style=\"text-align: right;\">\n",
       "      <th></th>\n",
       "      <th>store</th>\n",
       "      <th>value_wasted_fuzzy_only</th>\n",
       "      <th>value_wasted_semantic_priority</th>\n",
       "      <th>value_gain</th>\n",
       "      <th>value_pct_gain</th>\n",
       "    </tr>\n",
       "  </thead>\n",
       "  <tbody>\n",
       "    <tr>\n",
       "      <th>0</th>\n",
       "      <td>1024</td>\n",
       "      <td>0.79</td>\n",
       "      <td>0.79</td>\n",
       "      <td>0.00</td>\n",
       "      <td>0.0</td>\n",
       "    </tr>\n",
       "    <tr>\n",
       "      <th>1</th>\n",
       "      <td>1090</td>\n",
       "      <td>0.79</td>\n",
       "      <td>0.79</td>\n",
       "      <td>0.00</td>\n",
       "      <td>0.0</td>\n",
       "    </tr>\n",
       "    <tr>\n",
       "      <th>2</th>\n",
       "      <td>3340</td>\n",
       "      <td>0.79</td>\n",
       "      <td>0.79</td>\n",
       "      <td>0.00</td>\n",
       "      <td>0.0</td>\n",
       "    </tr>\n",
       "    <tr>\n",
       "      <th>3</th>\n",
       "      <td>4255</td>\n",
       "      <td>4.24</td>\n",
       "      <td>2.12</td>\n",
       "      <td>2.12</td>\n",
       "      <td>100.0</td>\n",
       "    </tr>\n",
       "  </tbody>\n",
       "</table>\n",
       "</div>"
      ],
      "text/plain": [
       "   store  value_wasted_fuzzy_only  value_wasted_semantic_priority  value_gain  \\\n",
       "0   1024                     0.79                            0.79        0.00   \n",
       "1   1090                     0.79                            0.79        0.00   \n",
       "2   3340                     0.79                            0.79        0.00   \n",
       "3   4255                     4.24                            2.12        2.12   \n",
       "\n",
       "   value_pct_gain  \n",
       "0             0.0  \n",
       "1             0.0  \n",
       "2             0.0  \n",
       "3           100.0  "
      ]
     },
     "execution_count": 45,
     "metadata": {},
     "output_type": "execute_result"
    }
   ],
   "source": [
    "# Avoid division by zero\n",
    "df_store_compare[\"value_pct_gain\"] = df_store_compare.apply(\n",
    "    lambda row: ((row[\"value_gain\"] / row[\"value_wasted_semantic_priority\"]) * 100) \n",
    "    if row[\"value_wasted_semantic_priority\"] > 0 else 0,\n",
    "    axis=1\n",
    ")\n",
    "\n",
    "df_store_compare = df_store_compare.round(2)\n",
    "df_store_compare[[\"store\", \"value_wasted_fuzzy_only\", \"value_wasted_semantic_priority\", \"value_gain\", \"value_pct_gain\"]]\n"
   ]
  },
  {
   "cell_type": "code",
   "execution_count": 46,
   "id": "7c84c08d",
   "metadata": {},
   "outputs": [
    {
     "data": {
      "image/png": "[encoded data removed]",
      "text/plain": [
       "<Figure size 576x288 with 1 Axes>"
      ]
     },
     "metadata": {
      "needs_background": "light"
     },
     "output_type": "display_data"
    }
   ],
   "source": [
    "plt.figure(figsize=(8, 4))\n",
    "sns.barplot(data=df_store_compare, x=\"store\", y=\"value_pct_gain\", palette=\"crest\")\n",
    "plt.title(\"Per-Store % Value Gain: Fuzzy vs Semantic\")\n",
    "plt.xlabel(\"Store\")\n",
    "plt.ylabel(\"% Value Gain (Fuzzy over Semantic)\")\n",
    "plt.tight_layout()\n",
    "plt.show()\n"
   ]
  },
  {
   "cell_type": "code",
   "execution_count": 47,
   "id": "b5a9d92a",
   "metadata": {
    "scrolled": true
   },
   "outputs": [
    {
     "name": "stdout",
     "output_type": "stream",
     "text": [
      "Saved detailed store comparison to: waste_simulation\\waste_gain_store_comparison.csv\n"
     ]
    }
   ],
   "source": [
    "output_path = os.path.join(impact_folder, \"waste_gain_store_comparison.csv\")\n",
    "df_store_compare.to_csv(output_path, index=False)\n",
    "print(\"Saved detailed store comparison to:\", output_path)\n"
   ]
  },
  {
   "cell_type": "code",
   "execution_count": 62,
   "id": "5bb77c32",
   "metadata": {},
   "outputs": [
    {
     "name": "stdout",
     "output_type": "stream",
     "text": [
      "Merge successful. Recipe context restored to both match datasets.\n"
     ]
    }
   ],
   "source": [
    "# Reload fuzzy matches\n",
    "fuzzy_matches = pd.read_csv(os.path.join(\"matching_scored\", \"matching_matrix_fuzzy.csv\"))\n",
    "fuzzy_matches = fuzzy_matches.drop(columns=[\"recipe\", \"recipe_x\", \"recipe_y\"], errors=\"ignore\")\n",
    "\n",
    "# Reload semantic matches (the correct file!)\n",
    "semantic_matches = pd.read_csv(os.path.join(\"matching_scored\", \"matching_matrix_semantic.csv\"))\n",
    "semantic_matches = semantic_matches.drop(columns=[\"recipe\", \"recipe_x\", \"recipe_y\"], errors=\"ignore\")\n",
    "\n",
    "# Load recipe metadata and rebuild row_id if needed\n",
    "recipes = pd.read_csv(os.path.join(\"variant_exports\", \"recipes_with_variants.csv\"))\n",
    "if \"row_id\" not in recipes.columns:\n",
    "    recipes = recipes.reset_index(drop=False).rename(columns={\"index\": \"row_id\"})\n",
    "\n",
    "# Normalize merge keys\n",
    "for df in [fuzzy_matches, semantic_matches, recipes]:\n",
    "    df[\"row_id\"] = pd.to_numeric(df[\"row_id\"], errors=\"coerce\").astype(\"Int64\")\n",
    "    df[\"ingredient\"] = df[\"ingredient\"].astype(str).str.strip().str.lower()\n",
    "recipes[\"recipe\"] = recipes[\"recipe\"].astype(str).str.strip()\n",
    "\n",
    "# Merge recipe names back in\n",
    "fuzzy_matches = fuzzy_matches.merge(\n",
    "    recipes[[\"row_id\", \"ingredient\", \"recipe\"]],\n",
    "    on=[\"row_id\", \"ingredient\"],\n",
    "    how=\"left\"\n",
    ")\n",
    "semantic_matches = semantic_matches.merge(\n",
    "    recipes[[\"row_id\", \"ingredient\", \"recipe\"]],\n",
    "    on=[\"row_id\", \"ingredient\"],\n",
    "    how=\"left\"\n",
    ")\n",
    "\n",
    "# Confirm recipe column added\n",
    "assert \"recipe\" in fuzzy_matches.columns\n",
    "assert \"recipe\" in semantic_matches.columns\n",
    "print(\"Merge successful. Recipe context restored to both match datasets.\")\n"
   ]
  },
  {
   "cell_type": "code",
   "execution_count": 64,
   "id": "030150ba",
   "metadata": {
    "scrolled": false
   },
   "outputs": [
    {
     "name": "stdout",
     "output_type": "stream",
     "text": [
      "Top Semantic Matches:\n"
     ]
    },
    {
     "data": {
      "text/html": [
       "<div>\n",
       "<style scoped>\n",
       "    .dataframe tbody tr th:only-of-type {\n",
       "        vertical-align: middle;\n",
       "    }\n",
       "\n",
       "    .dataframe tbody tr th {\n",
       "        vertical-align: top;\n",
       "    }\n",
       "\n",
       "    .dataframe thead th {\n",
       "        text-align: right;\n",
       "    }\n",
       "</style>\n",
       "<table border=\"1\" class=\"dataframe\">\n",
       "  <thead>\n",
       "    <tr style=\"text-align: right;\">\n",
       "      <th></th>\n",
       "      <th>product_article</th>\n",
       "      <th>product_name</th>\n",
       "      <th>semantic_score</th>\n",
       "    </tr>\n",
       "  </thead>\n",
       "  <tbody>\n",
       "    <tr>\n",
       "      <th>52</th>\n",
       "      <td>438226</td>\n",
       "      <td>roeryoghurt</td>\n",
       "      <td>0.0</td>\n",
       "    </tr>\n",
       "    <tr>\n",
       "      <th>53</th>\n",
       "      <td>438226</td>\n",
       "      <td>roeryoghurt</td>\n",
       "      <td>0.0</td>\n",
       "    </tr>\n",
       "    <tr>\n",
       "      <th>76</th>\n",
       "      <td>438226</td>\n",
       "      <td>roeryoghurt</td>\n",
       "      <td>0.0</td>\n",
       "    </tr>\n",
       "  </tbody>\n",
       "</table>\n",
       "</div>"
      ],
      "text/plain": [
       "    product_article product_name  semantic_score\n",
       "52           438226  roeryoghurt             0.0\n",
       "53           438226  roeryoghurt             0.0\n",
       "76           438226  roeryoghurt             0.0"
      ]
     },
     "metadata": {},
     "output_type": "display_data"
    },
    {
     "name": "stdout",
     "output_type": "stream",
     "text": [
      "Top Fuzzy Matches:\n"
     ]
    },
    {
     "data": {
      "text/html": [
       "<div>\n",
       "<style scoped>\n",
       "    .dataframe tbody tr th:only-of-type {\n",
       "        vertical-align: middle;\n",
       "    }\n",
       "\n",
       "    .dataframe tbody tr th {\n",
       "        vertical-align: top;\n",
       "    }\n",
       "\n",
       "    .dataframe thead th {\n",
       "        text-align: right;\n",
       "    }\n",
       "</style>\n",
       "<table border=\"1\" class=\"dataframe\">\n",
       "  <thead>\n",
       "    <tr style=\"text-align: right;\">\n",
       "      <th></th>\n",
       "      <th>product_article</th>\n",
       "      <th>product_name</th>\n",
       "      <th>product_concept</th>\n",
       "      <th>fuzzy_score</th>\n",
       "    </tr>\n",
       "  </thead>\n",
       "  <tbody>\n",
       "    <tr>\n",
       "      <th>12</th>\n",
       "      <td>105755</td>\n",
       "      <td>Kwark aardbei</td>\n",
       "      <td>yogurt</td>\n",
       "      <td>100.0</td>\n",
       "    </tr>\n",
       "    <tr>\n",
       "      <th>13</th>\n",
       "      <td>438226</td>\n",
       "      <td>Roeryoghurt</td>\n",
       "      <td>yogurt</td>\n",
       "      <td>100.0</td>\n",
       "    </tr>\n",
       "  </tbody>\n",
       "</table>\n",
       "</div>"
      ],
      "text/plain": [
       "    product_article   product_name product_concept  fuzzy_score\n",
       "12           105755  Kwark aardbei          yogurt        100.0\n",
       "13           438226    Roeryoghurt          yogurt        100.0"
      ]
     },
     "metadata": {},
     "output_type": "display_data"
    }
   ],
   "source": [
    "# Display top 3 semantic matches\n",
    "print(\"Top Semantic Matches:\")\n",
    "semantic_cols = [\"product_article\", \"product_name\", \"semantic_score\"]\n",
    "if \"product_concept\" in sem_ex_sorted.columns:\n",
    "    semantic_cols.insert(2, \"product_concept\")\n",
    "display(sem_ex_sorted[semantic_cols].head(3))\n",
    "\n",
    "# Display top 3 fuzzy matches\n",
    "print(\"Top Fuzzy Matches:\")\n",
    "fuzzy_cols = [\"product_article\", \"product_name\", \"fuzzy_score\"]\n",
    "if \"product_concept\" in fuzzy_ex_sorted.columns:\n",
    "    fuzzy_cols.insert(2, \"product_concept\")\n",
    "display(fuzzy_ex_sorted[fuzzy_cols].head(3))\n"
   ]
  },
  {
   "cell_type": "code",
   "execution_count": 65,
   "id": "ef2505be",
   "metadata": {},
   "outputs": [
    {
     "name": "stdout",
     "output_type": "stream",
     "text": [
      "\n",
      "Top Semantic Matches for yogurt in 'Greek Yogurt & Honey' @ store 4255:\n"
     ]
    },
    {
     "data": {
      "text/html": [
       "<div>\n",
       "<style scoped>\n",
       "    .dataframe tbody tr th:only-of-type {\n",
       "        vertical-align: middle;\n",
       "    }\n",
       "\n",
       "    .dataframe tbody tr th {\n",
       "        vertical-align: top;\n",
       "    }\n",
       "\n",
       "    .dataframe thead th {\n",
       "        text-align: right;\n",
       "    }\n",
       "</style>\n",
       "<table border=\"1\" class=\"dataframe\">\n",
       "  <thead>\n",
       "    <tr style=\"text-align: right;\">\n",
       "      <th></th>\n",
       "      <th>product_article</th>\n",
       "      <th>product_name</th>\n",
       "      <th>semantic_score</th>\n",
       "    </tr>\n",
       "  </thead>\n",
       "  <tbody>\n",
       "    <tr>\n",
       "      <th>52</th>\n",
       "      <td>438226</td>\n",
       "      <td>roeryoghurt</td>\n",
       "      <td>0.0</td>\n",
       "    </tr>\n",
       "    <tr>\n",
       "      <th>53</th>\n",
       "      <td>438226</td>\n",
       "      <td>roeryoghurt</td>\n",
       "      <td>0.0</td>\n",
       "    </tr>\n",
       "    <tr>\n",
       "      <th>76</th>\n",
       "      <td>438226</td>\n",
       "      <td>roeryoghurt</td>\n",
       "      <td>0.0</td>\n",
       "    </tr>\n",
       "    <tr>\n",
       "      <th>75</th>\n",
       "      <td>438226</td>\n",
       "      <td>roeryoghurt</td>\n",
       "      <td>0.0</td>\n",
       "    </tr>\n",
       "    <tr>\n",
       "      <th>74</th>\n",
       "      <td>438226</td>\n",
       "      <td>roeryoghurt</td>\n",
       "      <td>0.0</td>\n",
       "    </tr>\n",
       "  </tbody>\n",
       "</table>\n",
       "</div>"
      ],
      "text/plain": [
       "    product_article product_name  semantic_score\n",
       "52           438226  roeryoghurt             0.0\n",
       "53           438226  roeryoghurt             0.0\n",
       "76           438226  roeryoghurt             0.0\n",
       "75           438226  roeryoghurt             0.0\n",
       "74           438226  roeryoghurt             0.0"
      ]
     },
     "metadata": {},
     "output_type": "display_data"
    },
    {
     "name": "stdout",
     "output_type": "stream",
     "text": [
      "\n",
      "Top Fuzzy Matches for yogurt in 'Greek Yogurt & Honey' @ store 4255:\n"
     ]
    },
    {
     "data": {
      "text/html": [
       "<div>\n",
       "<style scoped>\n",
       "    .dataframe tbody tr th:only-of-type {\n",
       "        vertical-align: middle;\n",
       "    }\n",
       "\n",
       "    .dataframe tbody tr th {\n",
       "        vertical-align: top;\n",
       "    }\n",
       "\n",
       "    .dataframe thead th {\n",
       "        text-align: right;\n",
       "    }\n",
       "</style>\n",
       "<table border=\"1\" class=\"dataframe\">\n",
       "  <thead>\n",
       "    <tr style=\"text-align: right;\">\n",
       "      <th></th>\n",
       "      <th>product_article</th>\n",
       "      <th>product_name</th>\n",
       "      <th>product_concept</th>\n",
       "      <th>fuzzy_score</th>\n",
       "    </tr>\n",
       "  </thead>\n",
       "  <tbody>\n",
       "    <tr>\n",
       "      <th>12</th>\n",
       "      <td>105755</td>\n",
       "      <td>Kwark aardbei</td>\n",
       "      <td>yogurt</td>\n",
       "      <td>100.0</td>\n",
       "    </tr>\n",
       "    <tr>\n",
       "      <th>13</th>\n",
       "      <td>438226</td>\n",
       "      <td>Roeryoghurt</td>\n",
       "      <td>yogurt</td>\n",
       "      <td>100.0</td>\n",
       "    </tr>\n",
       "  </tbody>\n",
       "</table>\n",
       "</div>"
      ],
      "text/plain": [
       "    product_article   product_name product_concept  fuzzy_score\n",
       "12           105755  Kwark aardbei          yogurt        100.0\n",
       "13           438226    Roeryoghurt          yogurt        100.0"
      ]
     },
     "metadata": {},
     "output_type": "display_data"
    }
   ],
   "source": [
    "# Store-level inspection: full fuzzy vs semantic breakdown\n",
    "store_filter = 4255\n",
    "recipe_filter = \"Greek Yogurt & Honey\"\n",
    "ingredient_filter = \"yogurt\"\n",
    "\n",
    "# Extract context for this case\n",
    "sem_ex = semantic_matches.query(\n",
    "    \"store == @store_filter and recipe == @recipe_filter and ingredient == @ingredient_filter\"\n",
    ").sort_values(\"semantic_score\", ascending=False)\n",
    "\n",
    "fuzzy_ex = fuzzy_matches.query(\n",
    "    \"store == @store_filter and recipe == @recipe_filter and ingredient == @ingredient_filter\"\n",
    ").sort_values(\"fuzzy_score\", ascending=False)\n",
    "\n",
    "# Display full semantic context\n",
    "print(f\"\\nTop Semantic Matches for {ingredient_filter} in '{recipe_filter}' @ store {store_filter}:\")\n",
    "semantic_cols = [\"product_article\", \"product_name\", \"semantic_score\"]\n",
    "if \"product_concept\" in sem_ex.columns:\n",
    "    semantic_cols.insert(2, \"product_concept\")\n",
    "display(sem_ex[semantic_cols].head(5))\n",
    "\n",
    "# Display full fuzzy context\n",
    "print(f\"\\nTop Fuzzy Matches for {ingredient_filter} in '{recipe_filter}' @ store {store_filter}:\")\n",
    "fuzzy_cols = [\"product_article\", \"product_name\", \"fuzzy_score\"]\n",
    "if \"product_concept\" in fuzzy_ex.columns:\n",
    "    fuzzy_cols.insert(2, \"product_concept\")\n",
    "display(fuzzy_ex[fuzzy_cols].head(5))\n"
   ]
  },
  {
   "cell_type": "code",
   "execution_count": null,
   "id": "3899345d",
   "metadata": {},
   "outputs": [],
   "source": []
  }
 ],
 "metadata": {
  "kernelspec": {
   "display_name": "Python 3",
   "language": "python",
   "name": "python3"
  },
  "language_info": {
   "codemirror_mode": {
    "name": "ipython",
    "version": 3
   },
   "file_extension": ".py",
   "mimetype": "text/x-python",
   "name": "python",
   "nbconvert_exporter": "python",
   "pygments_lexer": "ipython3",
   "version": "3.8.8"
  }
 },
 "nbformat": 4,
 "nbformat_minor": 5
}
