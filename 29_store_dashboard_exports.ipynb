{
 "cells": [
  {
   "cell_type": "markdown",
   "id": "eefc7a31",
   "metadata": {},
   "source": [
    "# Notebook 29 - Store Dashboard Exports\n",
    "\n",
    "This notebook generates compact, dashboard-style summaries for each store, to support internal presentations or dashboards. Each store receives a 1-page overview showing:\n",
    "\n",
    "- Recipes selected\n",
    "- Products required\n",
    "- Total estimated waste value saved\n",
    "- Key performance indicators (KPIs)\n",
    "\n",
    "These summaries are suitable for export to PDF or integration into PowerPoint and reporting tools.\n",
    "\n",
    "**Objectives**\n",
    "- Load the deployment summary and per-store inventory files\n",
    "- Render a dashboard-style plot per store with recipes, KPIs, and charts\n",
    "- Export as individual PNG images\n",
    "\n",
    "**Inputs**\n",
    "- `deployment_exports/store_deployment_summary.csv`\n",
    "- `deployment_exports/per_store/deployment_store_*.csv`\n",
    "\n",
    "**Outputs**\n",
    "- `store_dashboards/store_<id>_summary.png` (one PNG per store)\n"
   ]
  },
  {
   "cell_type": "code",
   "execution_count": 1,
   "id": "6621fb22",
   "metadata": {},
   "outputs": [
    {
     "name": "stdout",
     "output_type": "stream",
     "text": [
      "Loaded summary: (9, 5)\n"
     ]
    },
    {
     "data": {
      "text/html": [
       "<div>\n",
       "<style scoped>\n",
       "    .dataframe tbody tr th:only-of-type {\n",
       "        vertical-align: middle;\n",
       "    }\n",
       "\n",
       "    .dataframe tbody tr th {\n",
       "        vertical-align: top;\n",
       "    }\n",
       "\n",
       "    .dataframe thead th {\n",
       "        text-align: right;\n",
       "    }\n",
       "</style>\n",
       "<table border=\"1\" class=\"dataframe\">\n",
       "  <thead>\n",
       "    <tr style=\"text-align: right;\">\n",
       "      <th></th>\n",
       "      <th>store</th>\n",
       "      <th>recipes_planned</th>\n",
       "      <th>unique_ingredients</th>\n",
       "      <th>products_to_pick</th>\n",
       "      <th>estimated_value_saved</th>\n",
       "    </tr>\n",
       "  </thead>\n",
       "  <tbody>\n",
       "    <tr>\n",
       "      <th>0</th>\n",
       "      <td>1024</td>\n",
       "      <td>1</td>\n",
       "      <td>0</td>\n",
       "      <td>0</td>\n",
       "      <td>0.79</td>\n",
       "    </tr>\n",
       "    <tr>\n",
       "      <th>1</th>\n",
       "      <td>1058</td>\n",
       "      <td>1</td>\n",
       "      <td>0</td>\n",
       "      <td>0</td>\n",
       "      <td>0.00</td>\n",
       "    </tr>\n",
       "    <tr>\n",
       "      <th>2</th>\n",
       "      <td>1160</td>\n",
       "      <td>1</td>\n",
       "      <td>0</td>\n",
       "      <td>0</td>\n",
       "      <td>0.00</td>\n",
       "    </tr>\n",
       "    <tr>\n",
       "      <th>3</th>\n",
       "      <td>3298</td>\n",
       "      <td>1</td>\n",
       "      <td>0</td>\n",
       "      <td>0</td>\n",
       "      <td>0.00</td>\n",
       "    </tr>\n",
       "    <tr>\n",
       "      <th>4</th>\n",
       "      <td>3345</td>\n",
       "      <td>1</td>\n",
       "      <td>0</td>\n",
       "      <td>0</td>\n",
       "      <td>0.00</td>\n",
       "    </tr>\n",
       "  </tbody>\n",
       "</table>\n",
       "</div>"
      ],
      "text/plain": [
       "   store  recipes_planned  unique_ingredients  products_to_pick  \\\n",
       "0   1024                1                   0                 0   \n",
       "1   1058                1                   0                 0   \n",
       "2   1160                1                   0                 0   \n",
       "3   3298                1                   0                 0   \n",
       "4   3345                1                   0                 0   \n",
       "\n",
       "   estimated_value_saved  \n",
       "0                   0.79  \n",
       "1                   0.00  \n",
       "2                   0.00  \n",
       "3                   0.00  \n",
       "4                   0.00  "
      ]
     },
     "metadata": {},
     "output_type": "display_data"
    }
   ],
   "source": [
    "import os\n",
    "import pandas as pd\n",
    "import matplotlib.pyplot as plt\n",
    "import seaborn as sns\n",
    "\n",
    "# Define folders\n",
    "summary_file = os.path.join(\"deployment_exports\", \"store_deployment_summary.csv\")\n",
    "inventory_folder = os.path.join(\"deployment_exports\", \"per_store\")\n",
    "output_folder = \"store_dashboards\"\n",
    "os.makedirs(output_folder, exist_ok=True)\n",
    "\n",
    "# Load summary\n",
    "df_summary = pd.read_csv(summary_file)\n",
    "print(\"Loaded summary:\", df_summary.shape)\n",
    "display(df_summary.head())\n"
   ]
  },
  {
   "cell_type": "code",
   "execution_count": 2,
   "id": "1bb5b382",
   "metadata": {},
   "outputs": [
    {
     "name": "stdout",
     "output_type": "stream",
     "text": [
      "Loaded inventories for 9 stores.\n"
     ]
    }
   ],
   "source": [
    "store_files = [\n",
    "    f for f in os.listdir(inventory_folder) if f.endswith(\".csv\")\n",
    "]\n",
    "\n",
    "store_data = {}\n",
    "\n",
    "for file in store_files:\n",
    "    store_id = int(file.split(\"_\")[-1].split(\".\")[0])\n",
    "    df = pd.read_csv(os.path.join(inventory_folder, file))\n",
    "    df.columns = df.columns.str.strip().str.lower()\n",
    "    store_data[store_id] = df\n",
    "\n",
    "print(f\"Loaded inventories for {len(store_data)} stores.\")\n"
   ]
  },
  {
   "cell_type": "code",
   "execution_count": 3,
   "id": "ebc8aa7f",
   "metadata": {},
   "outputs": [
    {
     "name": "stdout",
     "output_type": "stream",
     "text": [
      "Exported 9 dashboard PNGs to 'store_dashboards'\n"
     ]
    }
   ],
   "source": [
    "for store_id, df_inv in store_data.items():\n",
    "    # Get store KPIs\n",
    "    kpi_row = df_summary[df_summary[\"store\"] == store_id].squeeze()\n",
    "    recipes = kpi_row[\"recipes_planned\"]\n",
    "    ingredients = kpi_row[\"unique_ingredients\"]\n",
    "    products = kpi_row[\"products_to_pick\"]\n",
    "    saved = kpi_row[\"estimated_value_saved\"]\n",
    "\n",
    "    # Get list of recipes\n",
    "    recipe_list = df_inv[\"recipe\"].dropna().unique().tolist()\n",
    "\n",
    "    # Setup plot\n",
    "    fig, ax = plt.subplots(figsize=(8, 5))\n",
    "    plt.axis(\"off\")\n",
    "    fig.suptitle(f\"Store {store_id} – Deployment Summary\", fontsize=14, weight=\"bold\")\n",
    "\n",
    "    # Text block\n",
    "    text = (\n",
    "        f\"Recipes Planned: {recipes}\\n\"\n",
    "        f\"Unique Ingredients: {ingredients}\\n\"\n",
    "        f\"Products to Pick: {products}\\n\"\n",
    "        f\"Estimated Value Saved: €{saved:.2f}\\n\\n\"\n",
    "        f\"Recipes:\\n- \" + \"\\n- \".join(recipe_list)\n",
    "    )\n",
    "    ax.text(0.02, 0.98, text, fontsize=11, va=\"top\", ha=\"left\")\n",
    "\n",
    "    # Save plot\n",
    "    output_path = os.path.join(output_folder, f\"store_{store_id}_summary.png\")\n",
    "    plt.tight_layout()\n",
    "    plt.savefig(output_path, dpi=300)\n",
    "    plt.close()\n",
    "\n",
    "print(f\"Exported {len(store_data)} dashboard PNGs to '{output_folder}'\")\n"
   ]
  }
 ],
 "metadata": {
  "kernelspec": {
   "display_name": "Python 3",
   "language": "python",
   "name": "python3"
  },
  "language_info": {
   "codemirror_mode": {
    "name": "ipython",
    "version": 3
   },
   "file_extension": ".py",
   "mimetype": "text/x-python",
   "name": "python",
   "nbconvert_exporter": "python",
   "pygments_lexer": "ipython3",
   "version": "3.8.8"
  }
 },
 "nbformat": 4,
 "nbformat_minor": 5
}
