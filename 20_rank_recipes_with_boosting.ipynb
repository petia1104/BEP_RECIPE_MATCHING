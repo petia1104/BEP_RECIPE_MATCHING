{
 "cells": [
  {
   "cell_type": "markdown",
   "id": "5ad141b5",
   "metadata": {},
   "source": [
    "# Notebook 20 - Rank Recipes with Boosting\n",
    "\n",
    "## Purpose\n",
    "This notebook ranks recipes per store based on deployability. We enhance the scoring pipeline with semantic similarity between ingredients and products, priority-based boosting from waste/markdown signals, and strict filtering thresholds. The result is a curated list of high-quality recipe candidates per store for meal kit deployment.\n",
    "\n",
    "## Objectives\n",
    "- Join filtered matches with recipe context\n",
    "- Boost match scores based on semantic and priority signals\n",
    "- Filter out incomplete or weak matches\n",
    "- Tag underperforming stores for exclusion\n",
    "- Visualize distribution of deployable quality across the chain\n",
    "\n",
    "## Inputs\n",
    "- `matching_matrix_scored.csv` - Initial filtered fuzzy matches\n",
    "- `recipes_with_variants.csv` - Recipe-ingredient metadata with embeddings\n",
    "- `products_with_variants.csv` - Product data with embeddings and waste/markdown flags\n",
    "\n",
    "## Outputs\n",
    "- `recipe_store_ranked.csv` - Ranked recipe-store candidates with boosted scores\n",
    "- Console diagnostics and barplot for store performance\n"
   ]
  },
  {
   "cell_type": "code",
   "execution_count": 8,
   "id": "8495d3b0",
   "metadata": {},
   "outputs": [
    {
     "name": "stderr",
     "output_type": "stream",
     "text": [
      "C:\\Users\\User\\anaconda3\\lib\\site-packages\\IPython\\core\\interactiveshell.py:3165: DtypeWarning: Columns (1,3,5,31,36) have mixed types.Specify dtype option on import or set low_memory=False.\n",
      "  has_raised = await self.run_ast_nodes(code_ast.body, cell_name,\n"
     ]
    },
    {
     "name": "stdout",
     "output_type": "stream",
     "text": [
      "Loaded:\n",
      "- Matches: (8, 10)\n",
      "- Recipes: (6, 8)\n",
      "- Products: (126919, 37)\n"
     ]
    }
   ],
   "source": [
    "import os\n",
    "import pandas as pd\n",
    "import numpy as np\n",
    "import matplotlib.pyplot as plt\n",
    "from sklearn.metrics.pairwise import cosine_similarity\n",
    "\n",
    "# Paths\n",
    "input_folder = \"matching_scored\"\n",
    "variant_folder = \"variant_exports\"\n",
    "output_folder = \"recipe_ranking\"\n",
    "os.makedirs(output_folder, exist_ok=True)\n",
    "\n",
    "# File paths\n",
    "match_file = os.path.join(input_folder, \"matching_matrix_scored.csv\")\n",
    "recipes_file = os.path.join(variant_folder, \"recipes_with_variants.csv\")\n",
    "products_file = os.path.join(variant_folder, \"products_with_variants.csv\")\n",
    "\n",
    "# Load data\n",
    "df_matches = pd.read_csv(match_file)\n",
    "df_recipes = pd.read_csv(recipes_file)\n",
    "df_products = pd.read_csv(products_file)\n",
    "\n",
    "print(\"Loaded:\")\n",
    "print(f\"- Matches: {df_matches.shape}\")\n",
    "print(f\"- Recipes: {df_recipes.shape}\")\n",
    "print(f\"- Products: {df_products.shape}\")\n"
   ]
  },
  {
   "cell_type": "code",
   "execution_count": 9,
   "id": "be56332f",
   "metadata": {},
   "outputs": [],
   "source": [
    "# Ensure unique row ID for merging\n",
    "if \"row_id\" not in df_recipes.columns:\n",
    "    df_recipes = df_recipes.reset_index(drop=False).rename(columns={\"index\": \"row_id\"})\n"
   ]
  },
  {
   "cell_type": "code",
   "execution_count": 11,
   "id": "ad6d892e",
   "metadata": {},
   "outputs": [
    {
     "name": "stdout",
     "output_type": "stream",
     "text": [
      "Full enriched match table: (214, 15)\n"
     ]
    },
    {
     "data": {
      "text/html": [
       "<div>\n",
       "<style scoped>\n",
       "    .dataframe tbody tr th:only-of-type {\n",
       "        vertical-align: middle;\n",
       "    }\n",
       "\n",
       "    .dataframe tbody tr th {\n",
       "        vertical-align: top;\n",
       "    }\n",
       "\n",
       "    .dataframe thead th {\n",
       "        text-align: right;\n",
       "    }\n",
       "</style>\n",
       "<table border=\"1\" class=\"dataframe\">\n",
       "  <thead>\n",
       "    <tr style=\"text-align: right;\">\n",
       "      <th></th>\n",
       "      <th>row_id</th>\n",
       "      <th>ingredient</th>\n",
       "      <th>match_term</th>\n",
       "      <th>match_type_recipe</th>\n",
       "      <th>product_article</th>\n",
       "      <th>product_name</th>\n",
       "      <th>match_type_product</th>\n",
       "      <th>store</th>\n",
       "      <th>match_source</th>\n",
       "      <th>fuzzy_score</th>\n",
       "      <th>recipe</th>\n",
       "      <th>ingredient_embedding</th>\n",
       "      <th>product_embedding</th>\n",
       "      <th>waste_flag</th>\n",
       "      <th>markdown_flag</th>\n",
       "    </tr>\n",
       "  </thead>\n",
       "  <tbody>\n",
       "    <tr>\n",
       "      <th>0</th>\n",
       "      <td>2</td>\n",
       "      <td>yogurt</td>\n",
       "      <td>yogurt</td>\n",
       "      <td>concept</td>\n",
       "      <td>438226</td>\n",
       "      <td>roeryoghurt</td>\n",
       "      <td>concept</td>\n",
       "      <td>1024.0</td>\n",
       "      <td>exact</td>\n",
       "      <td>71</td>\n",
       "      <td>Greek Yogurt &amp; Honey</td>\n",
       "      <td>[-1.28770307e-01 -5.76514006e-01  2.47815490e-...</td>\n",
       "      <td>[ 2.26917386e-01  8.17842185e-02  2.35426668e-...</td>\n",
       "      <td>0</td>\n",
       "      <td>0</td>\n",
       "    </tr>\n",
       "    <tr>\n",
       "      <th>1</th>\n",
       "      <td>2</td>\n",
       "      <td>yogurt</td>\n",
       "      <td>yogurt</td>\n",
       "      <td>concept</td>\n",
       "      <td>438226</td>\n",
       "      <td>roeryoghurt</td>\n",
       "      <td>concept</td>\n",
       "      <td>1024.0</td>\n",
       "      <td>exact</td>\n",
       "      <td>71</td>\n",
       "      <td>Greek Yogurt &amp; Honey</td>\n",
       "      <td>[-1.28770307e-01 -5.76514006e-01  2.47815490e-...</td>\n",
       "      <td>[-3.27512883e-02  3.62754874e-02  2.99213100e-...</td>\n",
       "      <td>1</td>\n",
       "      <td>0</td>\n",
       "    </tr>\n",
       "    <tr>\n",
       "      <th>2</th>\n",
       "      <td>2</td>\n",
       "      <td>yogurt</td>\n",
       "      <td>yogurt</td>\n",
       "      <td>concept</td>\n",
       "      <td>438226</td>\n",
       "      <td>roeryoghurt</td>\n",
       "      <td>concept</td>\n",
       "      <td>1024.0</td>\n",
       "      <td>exact</td>\n",
       "      <td>71</td>\n",
       "      <td>Greek Yogurt &amp; Honey</td>\n",
       "      <td>[-1.28770307e-01 -5.76514006e-01  2.47815490e-...</td>\n",
       "      <td>[ 2.26917386e-01  8.17842185e-02  2.35426668e-...</td>\n",
       "      <td>0</td>\n",
       "      <td>0</td>\n",
       "    </tr>\n",
       "    <tr>\n",
       "      <th>3</th>\n",
       "      <td>2</td>\n",
       "      <td>yogurt</td>\n",
       "      <td>yogurt</td>\n",
       "      <td>concept</td>\n",
       "      <td>438226</td>\n",
       "      <td>roeryoghurt</td>\n",
       "      <td>concept</td>\n",
       "      <td>1024.0</td>\n",
       "      <td>exact</td>\n",
       "      <td>71</td>\n",
       "      <td>Greek Yogurt &amp; Honey</td>\n",
       "      <td>[-1.28770307e-01 -5.76514006e-01  2.47815490e-...</td>\n",
       "      <td>[ 2.26917386e-01  8.17842185e-02  2.35426668e-...</td>\n",
       "      <td>0</td>\n",
       "      <td>0</td>\n",
       "    </tr>\n",
       "    <tr>\n",
       "      <th>4</th>\n",
       "      <td>2</td>\n",
       "      <td>yogurt</td>\n",
       "      <td>yogurt</td>\n",
       "      <td>concept</td>\n",
       "      <td>438226</td>\n",
       "      <td>roeryoghurt</td>\n",
       "      <td>concept</td>\n",
       "      <td>1024.0</td>\n",
       "      <td>exact</td>\n",
       "      <td>71</td>\n",
       "      <td>Greek Yogurt &amp; Honey</td>\n",
       "      <td>[-1.28770307e-01 -5.76514006e-01  2.47815490e-...</td>\n",
       "      <td>[ 2.26917386e-01  8.17842185e-02  2.35426668e-...</td>\n",
       "      <td>0</td>\n",
       "      <td>0</td>\n",
       "    </tr>\n",
       "  </tbody>\n",
       "</table>\n",
       "</div>"
      ],
      "text/plain": [
       "   row_id ingredient match_term match_type_recipe product_article  \\\n",
       "0       2     yogurt     yogurt           concept          438226   \n",
       "1       2     yogurt     yogurt           concept          438226   \n",
       "2       2     yogurt     yogurt           concept          438226   \n",
       "3       2     yogurt     yogurt           concept          438226   \n",
       "4       2     yogurt     yogurt           concept          438226   \n",
       "\n",
       "  product_name match_type_product   store match_source  fuzzy_score  \\\n",
       "0  roeryoghurt            concept  1024.0        exact           71   \n",
       "1  roeryoghurt            concept  1024.0        exact           71   \n",
       "2  roeryoghurt            concept  1024.0        exact           71   \n",
       "3  roeryoghurt            concept  1024.0        exact           71   \n",
       "4  roeryoghurt            concept  1024.0        exact           71   \n",
       "\n",
       "                 recipe                               ingredient_embedding  \\\n",
       "0  Greek Yogurt & Honey  [-1.28770307e-01 -5.76514006e-01  2.47815490e-...   \n",
       "1  Greek Yogurt & Honey  [-1.28770307e-01 -5.76514006e-01  2.47815490e-...   \n",
       "2  Greek Yogurt & Honey  [-1.28770307e-01 -5.76514006e-01  2.47815490e-...   \n",
       "3  Greek Yogurt & Honey  [-1.28770307e-01 -5.76514006e-01  2.47815490e-...   \n",
       "4  Greek Yogurt & Honey  [-1.28770307e-01 -5.76514006e-01  2.47815490e-...   \n",
       "\n",
       "                                   product_embedding  waste_flag  \\\n",
       "0  [ 2.26917386e-01  8.17842185e-02  2.35426668e-...           0   \n",
       "1  [-3.27512883e-02  3.62754874e-02  2.99213100e-...           1   \n",
       "2  [ 2.26917386e-01  8.17842185e-02  2.35426668e-...           0   \n",
       "3  [ 2.26917386e-01  8.17842185e-02  2.35426668e-...           0   \n",
       "4  [ 2.26917386e-01  8.17842185e-02  2.35426668e-...           0   \n",
       "\n",
       "   markdown_flag  \n",
       "0              0  \n",
       "1              0  \n",
       "2              0  \n",
       "3              0  \n",
       "4              0  "
      ]
     },
     "execution_count": 11,
     "metadata": {},
     "output_type": "execute_result"
    }
   ],
   "source": [
    "# Convert product_article to consistent type\n",
    "df_matches[\"product_article\"] = df_matches[\"product_article\"].astype(str)\n",
    "df_priority[\"product_article\"] = df_priority[\"product_article\"].astype(str)\n",
    "\n",
    "# Merge product embedding and priority flags\n",
    "df_full = df_matches.merge(df_context, on=[\"row_id\", \"ingredient\"], how=\"left\")\n",
    "df_full = df_full.merge(df_priority, on=\"product_article\", how=\"left\")\n",
    "\n",
    "print(\"Full enriched match table:\", df_full.shape)\n",
    "df_full.head()\n"
   ]
  },
  {
   "cell_type": "code",
   "execution_count": 12,
   "id": "69885d33",
   "metadata": {},
   "outputs": [
    {
     "name": "stdout",
     "output_type": "stream",
     "text": [
      "Semantic similarity computed.\n"
     ]
    },
    {
     "data": {
      "text/html": [
       "<div>\n",
       "<style scoped>\n",
       "    .dataframe tbody tr th:only-of-type {\n",
       "        vertical-align: middle;\n",
       "    }\n",
       "\n",
       "    .dataframe tbody tr th {\n",
       "        vertical-align: top;\n",
       "    }\n",
       "\n",
       "    .dataframe thead th {\n",
       "        text-align: right;\n",
       "    }\n",
       "</style>\n",
       "<table border=\"1\" class=\"dataframe\">\n",
       "  <thead>\n",
       "    <tr style=\"text-align: right;\">\n",
       "      <th></th>\n",
       "      <th>ingredient</th>\n",
       "      <th>product_name</th>\n",
       "      <th>fuzzy_score</th>\n",
       "      <th>semantic_score</th>\n",
       "    </tr>\n",
       "  </thead>\n",
       "  <tbody>\n",
       "    <tr>\n",
       "      <th>0</th>\n",
       "      <td>yogurt</td>\n",
       "      <td>roeryoghurt</td>\n",
       "      <td>71</td>\n",
       "      <td>0.0</td>\n",
       "    </tr>\n",
       "    <tr>\n",
       "      <th>1</th>\n",
       "      <td>yogurt</td>\n",
       "      <td>roeryoghurt</td>\n",
       "      <td>71</td>\n",
       "      <td>0.0</td>\n",
       "    </tr>\n",
       "    <tr>\n",
       "      <th>2</th>\n",
       "      <td>yogurt</td>\n",
       "      <td>roeryoghurt</td>\n",
       "      <td>71</td>\n",
       "      <td>0.0</td>\n",
       "    </tr>\n",
       "    <tr>\n",
       "      <th>3</th>\n",
       "      <td>yogurt</td>\n",
       "      <td>roeryoghurt</td>\n",
       "      <td>71</td>\n",
       "      <td>0.0</td>\n",
       "    </tr>\n",
       "    <tr>\n",
       "      <th>4</th>\n",
       "      <td>yogurt</td>\n",
       "      <td>roeryoghurt</td>\n",
       "      <td>71</td>\n",
       "      <td>0.0</td>\n",
       "    </tr>\n",
       "  </tbody>\n",
       "</table>\n",
       "</div>"
      ],
      "text/plain": [
       "  ingredient product_name  fuzzy_score  semantic_score\n",
       "0     yogurt  roeryoghurt           71             0.0\n",
       "1     yogurt  roeryoghurt           71             0.0\n",
       "2     yogurt  roeryoghurt           71             0.0\n",
       "3     yogurt  roeryoghurt           71             0.0\n",
       "4     yogurt  roeryoghurt           71             0.0"
      ]
     },
     "execution_count": 12,
     "metadata": {},
     "output_type": "execute_result"
    }
   ],
   "source": [
    "# Compute cosine similarity between ingredient and product embeddings\n",
    "def compute_semantic_similarity(row):\n",
    "    try:\n",
    "        emb_ingredient = np.array(eval(row[\"ingredient_embedding\"]))\n",
    "        emb_product = np.array(eval(row[\"product_embedding\"]))\n",
    "        sim = cosine_similarity([emb_ingredient], [emb_product])[0][0]\n",
    "        return sim\n",
    "    except:\n",
    "        return np.nan\n",
    "\n",
    "df_full[\"semantic_score\"] = df_full.apply(compute_semantic_similarity, axis=1)\n",
    "df_full[\"semantic_score\"] = df_full[\"semantic_score\"].fillna(0)\n",
    "\n",
    "print(\"Semantic similarity computed.\")\n",
    "df_full[[\"ingredient\", \"product_name\", \"fuzzy_score\", \"semantic_score\"]].head()\n"
   ]
  },
  {
   "cell_type": "code",
   "execution_count": 13,
   "id": "b3d6d32c",
   "metadata": {},
   "outputs": [
    {
     "name": "stdout",
     "output_type": "stream",
     "text": [
      "Boosted score calculated.\n"
     ]
    }
   ],
   "source": [
    "# Priority boosting weights\n",
    "WEIGHT_FUZZY = 0.6\n",
    "WEIGHT_SEMANTIC = 0.4\n",
    "PRIORITY_BONUS = 5  # additive\n",
    "\n",
    "# Compute final boosted score\n",
    "df_full[\"final_score\"] = (\n",
    "    WEIGHT_FUZZY * df_full[\"fuzzy_score\"] +\n",
    "    WEIGHT_SEMANTIC * 100 * df_full[\"semantic_score\"] +\n",
    "    PRIORITY_BONUS * (df_full[\"waste_flag\"] + df_full[\"markdown_flag\"])\n",
    ")\n",
    "\n",
    "df_full[\"final_score\"] = df_full[\"final_score\"].round(2)\n",
    "print(\"Boosted score calculated.\")\n"
   ]
  },
  {
   "cell_type": "code",
   "execution_count": 14,
   "id": "53889237",
   "metadata": {},
   "outputs": [],
   "source": [
    "# Count how many ingredients are needed per recipe\n",
    "df_total_ingredients = df_recipes.groupby(\"recipe\")[\"ingredient\"].nunique().reset_index()\n",
    "df_total_ingredients = df_total_ingredients.rename(columns={\"ingredient\": \"n_ingredients\"})\n",
    "\n",
    "# Count matched ingredients per (store, recipe)\n",
    "df_agg = (\n",
    "    df_full.groupby([\"store\", \"recipe\"])\n",
    "    .agg(\n",
    "        matched_ingredients=(\"ingredient\", \"nunique\"),\n",
    "        avg_score=(\"final_score\", \"mean\")\n",
    "    )\n",
    "    .reset_index()\n",
    ")\n",
    "\n",
    "# Join total ingredient counts\n",
    "df_agg = df_agg.merge(df_total_ingredients, on=\"recipe\", how=\"left\")\n",
    "df_agg[\"coverage\"] = df_agg[\"matched_ingredients\"] / df_agg[\"n_ingredients\"]\n"
   ]
  },
  {
   "cell_type": "code",
   "execution_count": 19,
   "id": "4add10b0",
   "metadata": {},
   "outputs": [
    {
     "name": "stdout",
     "output_type": "stream",
     "text": [
      "Saved boosted ranking to: recipe_ranking\\recipe_store_ranked.csv\n"
     ]
    }
   ],
   "source": [
    "# Filter to complete recipes and high quality only\n",
    "min_avg_score = 40\n",
    "df_ranked = df_agg[(df_agg[\"coverage\"] == 1.0) & (df_agg[\"avg_score\"] >= min_avg_score)].copy()\n",
    "\n",
    "# Sort\n",
    "df_ranked = df_ranked.sort_values([\"store\", \"avg_score\"], ascending=[True, False]).reset_index(drop=True)\n",
    "\n",
    "# Save\n",
    "output_file = os.path.join(output_folder, \"recipe_store_ranked.csv\")\n",
    "df_ranked.to_csv(output_file, index=False)\n",
    "\n",
    "print(f\"Saved boosted ranking to: {output_file}\")\n"
   ]
  },
  {
   "cell_type": "code",
   "execution_count": 20,
   "id": "276448b6",
   "metadata": {},
   "outputs": [
    {
     "data": {
      "image/png": "[encoded data removed]",
      "text/plain": [
       "<Figure size 720x360 with 1 Axes>"
      ]
     },
     "metadata": {
      "needs_background": "light"
     },
     "output_type": "display_data"
    },
    {
     "name": "stdout",
     "output_type": "stream",
     "text": [
      "Underperforming stores tagged:\n",
      "    store  n_recipes  underperforming\n",
      "0  1024.0          1             True\n",
      "1  1090.0          1             True\n",
      "2  3340.0          1             True\n",
      "3  4255.0          1             True\n"
     ]
    }
   ],
   "source": [
    "# Store performance summary\n",
    "recipe_counts = df_ranked.groupby(\"store\")[\"recipe\"].nunique().reset_index(name=\"n_recipes\")\n",
    "\n",
    "# Flag underperformers\n",
    "min_recipes = 2\n",
    "recipe_counts[\"underperforming\"] = recipe_counts[\"n_recipes\"] < min_recipes\n",
    "\n",
    "# Plot\n",
    "plt.figure(figsize=(10, 5))\n",
    "plt.bar(recipe_counts[\"store\"].astype(str), recipe_counts[\"n_recipes\"])\n",
    "plt.axhline(min_recipes, color=\"red\", linestyle=\"--\", label=\"Minimum Required\")\n",
    "plt.title(\"Number of Deployable Recipes per Store\")\n",
    "plt.xlabel(\"Store ID\")\n",
    "plt.ylabel(\"Deployable Recipes\")\n",
    "plt.xticks(rotation=45)\n",
    "plt.legend()\n",
    "plt.tight_layout()\n",
    "plt.show()\n",
    "\n",
    "print(\"Underperforming stores tagged:\")\n",
    "print(recipe_counts[recipe_counts[\"underperforming\"] == True])\n"
   ]
  },
  {
   "cell_type": "code",
   "execution_count": 21,
   "id": "536629f9",
   "metadata": {},
   "outputs": [
    {
     "name": "stdout",
     "output_type": "stream",
     "text": [
      "Saved semantic match matrix to: matching_scored\\matching_matrix_semantic.csv\n"
     ]
    }
   ],
   "source": [
    "# Save full semantic + priority enriched match matrix\n",
    "semantic_output_file = os.path.join(\"matching_scored\", \"matching_matrix_semantic.csv\")\n",
    "df_full.to_csv(semantic_output_file, index=False)\n",
    "print(f\"Saved semantic match matrix to: {semantic_output_file}\")\n"
   ]
  },
  {
   "cell_type": "code",
   "execution_count": null,
   "id": "59bcb148",
   "metadata": {},
   "outputs": [],
   "source": []
  }
 ],
 "metadata": {
  "kernelspec": {
   "display_name": "Python 3",
   "language": "python",
   "name": "python3"
  },
  "language_info": {
   "codemirror_mode": {
    "name": "ipython",
    "version": 3
   },
   "file_extension": ".py",
   "mimetype": "text/x-python",
   "name": "python",
   "nbconvert_exporter": "python",
   "pygments_lexer": "ipython3",
   "version": "3.8.8"
  }
 },
 "nbformat": 4,
 "nbformat_minor": 5
}
