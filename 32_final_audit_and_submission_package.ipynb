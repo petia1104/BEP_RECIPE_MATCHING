{
 "cells": [
  {
   "cell_type": "markdown",
   "id": "71deab90",
   "metadata": {},
   "source": [
    "# Notebook 32 - Final Audit and Submission Package\n",
    "\n",
    "This notebook performs a final check and packaging step for the BEP pipeline. It ensures all outputs used in the thesis-tables, figures, appendix files, and datasets—are present, consistent, and ready for submission.\n",
    "\n",
    "## Objectives\n",
    "\n",
    "- Validate presence and shape of all output files\n",
    "- Check that all recipes have coverage in semantic/fuzzy matches\n",
    "- Confirm LaTeX and PNG appendix files are properly rendered\n",
    "- Copy required files into a clean `submission_package` folder\n",
    "\n",
    "## Inputs\n",
    "\n",
    "- `thesis_outputs/`\n",
    "- `appendix_tables/semantic_matches/`\n",
    "- `appendix_tables/fuzzy_matches/`\n",
    "- `store_dashboards/`\n",
    "- `deployment_exports/`\n",
    "\n",
    "## Outputs\n",
    "\n",
    "- `submission_package/` folder with:\n",
    "  - Clean CSVs\n",
    "  - Final LaTeX tables\n",
    "  - PNGs for dashboard/appendix\n",
    "  - README with file manifest and instructions\n"
   ]
  },
  {
   "cell_type": "code",
   "execution_count": 1,
   "id": "3c0146c3",
   "metadata": {},
   "outputs": [
    {
     "name": "stdout",
     "output_type": "stream",
     "text": [
      "Folders set. Beginning audit...\n"
     ]
    }
   ],
   "source": [
    "import os\n",
    "import pandas as pd\n",
    "import shutil\n",
    "\n",
    "# Define all key folders\n",
    "folders = {\n",
    "    \"thesis_outputs\": \"thesis_outputs\",\n",
    "    \"appendix_semantic\": os.path.join(\"appendix_tables\", \"semantic_matches\"),\n",
    "    \"appendix_fuzzy\": os.path.join(\"appendix_tables\", \"fuzzy_matches\"),\n",
    "    \"store_dashboards\": \"store_dashboards\",\n",
    "    \"deployment\": \"deployment_exports\"\n",
    "}\n",
    "\n",
    "# Output package folder\n",
    "submission_folder = \"submission_package\"\n",
    "os.makedirs(submission_folder, exist_ok=True)\n",
    "\n",
    "print(\"Folders set. Beginning audit...\")\n"
   ]
  },
  {
   "cell_type": "code",
   "execution_count": 2,
   "id": "eb71428b",
   "metadata": {},
   "outputs": [
    {
     "name": "stdout",
     "output_type": "stream",
     "text": [
      "All key output files are present.\n"
     ]
    }
   ],
   "source": [
    "# File manifest\n",
    "required_files = [\n",
    "    os.path.join(\"thesis_outputs\", \"store_summary_table.csv\"),\n",
    "    os.path.join(\"thesis_outputs\", \"store_summary_table.tex\"),\n",
    "    os.path.join(\"thesis_outputs\", \"store_summary_table_enhanced.csv\"),\n",
    "    os.path.join(\"thesis_outputs\", \"store_summary_table_enhanced.tex\"),\n",
    "    os.path.join(\"thesis_outputs\", \"store_value_saved_by_tier.png\"),\n",
    "    os.path.join(\"thesis_outputs\", \"annotated_methodology_table.csv\"),\n",
    "    os.path.join(\"thesis_outputs\", \"annotated_methodology_table.tex\"),\n",
    "]\n",
    "\n",
    "missing_files = [f for f in required_files if not os.path.exists(f)]\n",
    "\n",
    "if missing_files:\n",
    "    print(\"Missing files:\")\n",
    "    for f in missing_files:\n",
    "        print(\" -\", f)\n",
    "else:\n",
    "    print(\"All key output files are present.\")\n"
   ]
  },
  {
   "cell_type": "code",
   "execution_count": 4,
   "id": "38df4c1a",
   "metadata": {},
   "outputs": [
    {
     "name": "stdout",
     "output_type": "stream",
     "text": [
      "Missing from semantic: 5\n",
      "Missing from fuzzy: 1\n",
      "\n",
      "Examples missing in semantic match table:\n",
      "['Banana Yogurt Bowl', 'Honey Glazed Carrots', 'Pasta with Tomato Sauce', 'Strawberry Smoothie', 'Tuna Sandwich']\n",
      "\n",
      "Examples missing in fuzzy match table:\n",
      "['Tuna Sandwich']\n"
     ]
    }
   ],
   "source": [
    "# Load recipe list\n",
    "df_recipes = pd.read_csv(\"variant_exports/recipes_with_variants.csv\")\n",
    "recipes = df_recipes[\"recipe\"].dropna().unique()\n",
    "\n",
    "# Load final match matrices from correct folder\n",
    "semantic = pd.read_csv(\"matching_scored/matching_matrix_semantic.csv\")\n",
    "fuzzy = pd.read_csv(\"matching_scored/matching_matrix_fuzzy.csv\")\n",
    "\n",
    "# Check coverage\n",
    "semantic_recipes = semantic[\"recipe\"].dropna().unique()\n",
    "fuzzy_recipes = fuzzy[\"recipe\"].dropna().unique()\n",
    "\n",
    "missing_semantic = sorted(set(recipes) - set(semantic_recipes))\n",
    "missing_fuzzy = sorted(set(recipes) - set(fuzzy_recipes))\n",
    "\n",
    "print(\"Missing from semantic:\", len(missing_semantic))\n",
    "print(\"Missing from fuzzy:\", len(missing_fuzzy))\n",
    "\n",
    "# Optional: display missing examples\n",
    "print(\"\\nExamples missing in semantic match table:\")\n",
    "print(missing_semantic[:5])\n",
    "\n",
    "print(\"\\nExamples missing in fuzzy match table:\")\n",
    "print(missing_fuzzy[:5])\n"
   ]
  },
  {
   "cell_type": "code",
   "execution_count": 5,
   "id": "cab37213",
   "metadata": {},
   "outputs": [
    {
     "name": "stdout",
     "output_type": "stream",
     "text": [
      "Copied: thesis_outputs\\store_summary_table.csv\n",
      "Copied: thesis_outputs\\store_summary_table.tex\n",
      "Copied: thesis_outputs\\store_summary_table_enhanced.csv\n",
      "Copied: thesis_outputs\\store_summary_table_enhanced.tex\n",
      "Copied: thesis_outputs\\store_value_saved_by_tier.png\n",
      "Copied: thesis_outputs\\annotated_methodology_table.csv\n",
      "Copied: thesis_outputs\\annotated_methodology_table.tex\n",
      "Copied: appendix_tables\\semantic_matches\\recipe_banana_yogurt_bowl.csv\n",
      "Copied: appendix_tables\\semantic_matches\\recipe_greek_yogurt_and_honey.csv\n",
      "Copied: appendix_tables\\semantic_matches\\recipe_honey_glazed_carrots.csv\n",
      "Copied: appendix_tables\\semantic_matches\\recipe_pasta_with_tomato_sauce.csv\n",
      "Copied: appendix_tables\\semantic_matches\\recipe_strawberry_smoothie.csv\n",
      "Copied: appendix_tables\\semantic_matches\\recipe_tuna_sandwich.csv\n",
      "Copied: appendix_tables\\fuzzy_matches\\recipe_banana_yogurt_bowl.csv\n",
      "Copied: appendix_tables\\fuzzy_matches\\recipe_greek_yogurt_and_honey.csv\n",
      "Copied: appendix_tables\\fuzzy_matches\\recipe_honey_glazed_carrots.csv\n",
      "Copied: appendix_tables\\fuzzy_matches\\recipe_pasta_with_tomato_sauce.csv\n",
      "Copied: appendix_tables\\fuzzy_matches\\recipe_strawberry_smoothie.csv\n",
      "Copied: appendix_tables\\fuzzy_matches\\recipe_tuna_sandwich.csv\n",
      "Copied: store_dashboards\\store_1024_summary.png\n",
      "Copied: store_dashboards\\store_1058_summary.png\n",
      "Copied: store_dashboards\\store_1160_summary.png\n",
      "Copied: store_dashboards\\store_3298_summary.png\n",
      "Copied: store_dashboards\\store_3345_summary.png\n",
      "Copied: store_dashboards\\store_4243_summary.png\n",
      "Copied: store_dashboards\\store_4260_summary.png\n",
      "Copied: store_dashboards\\store_4278_summary.png\n",
      "Copied: store_dashboards\\store_5070_summary.png\n",
      "Copied: deployment_exports\\per_store\\deployment_store_1024.csv\n",
      "Copied: deployment_exports\\per_store\\deployment_store_1058.csv\n",
      "Copied: deployment_exports\\per_store\\deployment_store_1160.csv\n",
      "Copied: deployment_exports\\per_store\\deployment_store_3298.csv\n",
      "Copied: deployment_exports\\per_store\\deployment_store_3345.csv\n",
      "Copied: deployment_exports\\per_store\\deployment_store_4243.csv\n",
      "Copied: deployment_exports\\per_store\\deployment_store_4260.csv\n",
      "Copied: deployment_exports\\per_store\\deployment_store_4278.csv\n",
      "Copied: deployment_exports\\per_store\\deployment_store_5070.csv\n"
     ]
    }
   ],
   "source": [
    "# Copy selected files into submission folder\n",
    "def copy_file(src, dest_folder):\n",
    "    if os.path.exists(src):\n",
    "        shutil.copy(src, dest_folder)\n",
    "        print(\"Copied:\", src)\n",
    "    else:\n",
    "        print(\"Missing:\", src)\n",
    "\n",
    "# Copy main LaTeX/CSV/PNG tables\n",
    "for file in required_files:\n",
    "    copy_file(file, submission_folder)\n",
    "\n",
    "# Copy appendix match tables\n",
    "for folder_key in [\"appendix_semantic\", \"appendix_fuzzy\", \"store_dashboards\"]:\n",
    "    for file in os.listdir(folders[folder_key]):\n",
    "        if file.endswith(\".csv\") or file.endswith(\".png\") or file.endswith(\".tex\"):\n",
    "            src = os.path.join(folders[folder_key], file)\n",
    "            copy_file(src, submission_folder)\n",
    "\n",
    "# Copy per-store deployment CSVs\n",
    "deployment_files = os.listdir(os.path.join(folders[\"deployment\"], \"per_store\"))\n",
    "for file in deployment_files:\n",
    "    if file.endswith(\".csv\"):\n",
    "        src = os.path.join(folders[\"deployment\"], \"per_store\", file)\n",
    "        copy_file(src, submission_folder)\n"
   ]
  },
  {
   "cell_type": "code",
   "execution_count": 6,
   "id": "38d67fc6",
   "metadata": {},
   "outputs": [
    {
     "name": "stdout",
     "output_type": "stream",
     "text": [
      "Wrote submission README to: submission_package\\README.txt\n"
     ]
    }
   ],
   "source": [
    "# Write a manifest/README\n",
    "readme_path = os.path.join(submission_folder, \"README.txt\")\n",
    "with open(readme_path, \"w\") as f:\n",
    "    f.write(\"Final Submission Package – BEP Project\\n\")\n",
    "    f.write(\"=======================================\\n\\n\")\n",
    "    f.write(\"This folder contains all reproducible outputs for thesis inclusion:\\n\")\n",
    "    f.write(\"\\nTables and Figures:\\n\")\n",
    "    for file in required_files:\n",
    "        f.write(f\"- {os.path.basename(file)}\\n\")\n",
    "    f.write(\"\\nAppendix Tables (Semantic, Fuzzy):\\n\")\n",
    "    for folder_key in [\"appendix_semantic\", \"appendix_fuzzy\"]:\n",
    "        for file in os.listdir(folders[folder_key]):\n",
    "            if file.endswith(\".csv\"):\n",
    "                f.write(f\"- {file}\\n\")\n",
    "    f.write(\"\\nStore Dashboards:\\n\")\n",
    "    for file in os.listdir(folders[\"store_dashboards\"]):\n",
    "        if file.endswith(\".png\"):\n",
    "            f.write(f\"- {file}\\n\")\n",
    "    f.write(\"\\nPer-Store Deployment Exports:\\n\")\n",
    "    for file in deployment_files:\n",
    "        f.write(f\"- {file}\\n\")\n",
    "print(\"Wrote submission README to:\", readme_path)\n"
   ]
  }
 ],
 "metadata": {
  "kernelspec": {
   "display_name": "Python 3",
   "language": "python",
   "name": "python3"
  },
  "language_info": {
   "codemirror_mode": {
    "name": "ipython",
    "version": 3
   },
   "file_extension": ".py",
   "mimetype": "text/x-python",
   "name": "python",
   "nbconvert_exporter": "python",
   "pygments_lexer": "ipython3",
   "version": "3.8.8"
  }
 },
 "nbformat": 4,
 "nbformat_minor": 5
}
