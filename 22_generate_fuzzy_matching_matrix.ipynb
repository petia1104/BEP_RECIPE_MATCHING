{
 "cells": [
  {
   "cell_type": "markdown",
   "id": "40771e58",
   "metadata": {},
   "source": [
    "# Notebook 22 - Generate Fuzzy Matching Matrix\n",
    "Purpose  \n",
    "This notebook performs fuzzy-only concept matching between recipe ingredients and available products. It simulates the simplified baseline where only textual similarity between canonical food concepts is used—no embeddings, no boosting. Output will be used in Notebook 23 to simulate waste impact under fuzzy-only logic.\n",
    "\n",
    "## Inputs  \n",
    "- recipes_with_variants.csv - Ingredient metadata (with ingredient_concept)  \n",
    "- products_with_variants.csv - Product metadata (with product_concept)  \n",
    "\n",
    "## Output  \n",
    "- matching_matrix_fuzzy.csv - Fuzzy concept-level matches with similarity score\n"
   ]
  },
  {
   "cell_type": "code",
   "execution_count": 21,
   "id": "54c04c70",
   "metadata": {},
   "outputs": [],
   "source": [
    "import os\n",
    "import pandas as pd\n",
    "from difflib import SequenceMatcher\n",
    "\n",
    "# Folders\n",
    "input_folder = \"variant_exports\"\n",
    "output_folder = \"matching_scored\"\n",
    "os.makedirs(output_folder, exist_ok=True)\n",
    "\n",
    "# Files\n",
    "recipes_file = os.path.join(input_folder, \"recipes_with_variants.csv\")\n",
    "products_file = os.path.join(input_folder, \"products_with_variants.csv\")\n"
   ]
  },
  {
   "cell_type": "code",
   "execution_count": 22,
   "id": "f786a1d4",
   "metadata": {},
   "outputs": [
    {
     "name": "stdout",
     "output_type": "stream",
     "text": [
      "Loaded:\n",
      "- Recipes: (6, 8)\n",
      "- Products: (126919, 37)\n"
     ]
    },
    {
     "name": "stderr",
     "output_type": "stream",
     "text": [
      "C:\\Users\\User\\anaconda3\\lib\\site-packages\\IPython\\core\\interactiveshell.py:3165: DtypeWarning: Columns (1,3,5,31,36) have mixed types.Specify dtype option on import or set low_memory=False.\n",
      "  has_raised = await self.run_ast_nodes(code_ast.body, cell_name,\n"
     ]
    }
   ],
   "source": [
    "df_recipes = pd.read_csv(recipes_file)\n",
    "df_products = pd.read_csv(products_file)\n",
    "\n",
    "print(\"Loaded:\")\n",
    "print(f\"- Recipes: {df_recipes.shape}\")\n",
    "print(f\"- Products: {df_products.shape}\")\n"
   ]
  },
  {
   "cell_type": "code",
   "execution_count": 23,
   "id": "b7b5649f",
   "metadata": {},
   "outputs": [
    {
     "name": "stdout",
     "output_type": "stream",
     "text": [
      "Available columns in df_products:\n",
      "['store', 'date_sales', 'article', 'product_category', 'discount_flag', 'promotion', 'price_theoretical', 'price_sold', 'items_sold', 'volume_sold', 'revenue_sold', 'date_waste', 'product_name', 'brand', 'content', 'unit', 'supplier', 'content_category', 'waste_reason', 'items_wasted', 'value_wasted', 'product_name_clean', 'date', 'delivered_quantity', 'store_name', 'address', 'postal_code', 'city', 'product_normalized', 'product_en', 'product_embedding', 'product_concept', 'waste_flag', 'markdown_flag', 'priority_score', 'product_variants', 'product_concept_variant']\n"
     ]
    }
   ],
   "source": [
    "# Inspect column names to debug issue\n",
    "print(\"Available columns in df_products:\")\n",
    "print(df_products.columns.tolist())\n"
   ]
  },
  {
   "cell_type": "code",
   "execution_count": 24,
   "id": "6f2d7551",
   "metadata": {},
   "outputs": [],
   "source": [
    "# Try both possible product ID columns\n",
    "product_id_col = \"product_article\" if \"product_article\" in df_products.columns else \"article\"\n",
    "\n",
    "# Get unique store–product–concept combinations\n",
    "df_store_products = df_products[[ \"store\", product_id_col, \"product_name\", \"product_concept\" ]].drop_duplicates()\n",
    "df_store_products = df_store_products[df_store_products[\"product_concept\"].notna()]\n",
    "df_store_products = df_store_products.rename(columns={product_id_col: \"product_article\"})\n"
   ]
  },
  {
   "cell_type": "code",
   "execution_count": 25,
   "id": "3d440a8d",
   "metadata": {},
   "outputs": [],
   "source": [
    "# Ensure row_id exists for join tracking\n",
    "if \"row_id\" not in df_recipes.columns:\n",
    "    df_recipes = df_recipes.reset_index(drop=False).rename(columns={\"index\": \"row_id\"})\n"
   ]
  },
  {
   "cell_type": "code",
   "execution_count": 26,
   "id": "0795338f",
   "metadata": {},
   "outputs": [],
   "source": [
    "# Normalize recipe concepts\n",
    "df_recipes = df_recipes.dropna(subset=[\"ingredient_concept\"])\n",
    "df_recipes[\"ingredient_concept\"] = df_recipes[\"ingredient_concept\"].str.strip().str.lower()\n",
    "\n",
    "# Prepare output list\n",
    "fuzzy_matches = []\n",
    "\n",
    "# Iterate over recipes and stores\n",
    "for _, recipe_row in df_recipes.iterrows():\n",
    "    ingredient = recipe_row[\"ingredient_concept\"]\n",
    "    recipe = recipe_row[\"recipe\"]\n",
    "    row_id = recipe_row[\"row_id\"]\n",
    "\n",
    "    for _, product_row in df_store_products.iterrows():\n",
    "        product_concept = product_row[\"product_concept\"]\n",
    "        product_article = product_row[\"product_article\"]\n",
    "        store = product_row[\"store\"]\n",
    "        product_name = product_row[\"product_name\"]\n",
    "\n",
    "        # Compute fuzzy similarity\n",
    "        score = SequenceMatcher(None, ingredient, product_concept).ratio()\n",
    "\n",
    "        # Store result\n",
    "        fuzzy_matches.append({\n",
    "            \"row_id\": row_id,\n",
    "            \"ingredient\": ingredient,\n",
    "            \"product_article\": product_article,\n",
    "            \"product_name\": product_name,\n",
    "            \"product_concept\": product_concept,\n",
    "            \"store\": store,\n",
    "            \"fuzzy_score\": round(score * 100, 2),\n",
    "            \"match_source\": \"fuzzy_only\"\n",
    "        })\n"
   ]
  },
  {
   "cell_type": "code",
   "execution_count": 27,
   "id": "47285779",
   "metadata": {},
   "outputs": [
    {
     "name": "stdout",
     "output_type": "stream",
     "text": [
      "Fuzzy matches found: 21\n"
     ]
    }
   ],
   "source": [
    "# Fuzzy similarity function\n",
    "def fuzzy_similarity(a, b):\n",
    "    return SequenceMatcher(None, a, b).ratio()\n",
    "\n",
    "# Collect matches\n",
    "matches = []\n",
    "\n",
    "for _, recipe_row in df_recipes.iterrows():\n",
    "    ingredient = recipe_row[\"ingredient_concept\"]\n",
    "    recipe = recipe_row[\"recipe\"]\n",
    "    row_id = recipe_row[\"row_id\"]\n",
    "\n",
    "    for _, product_row in df_store_products.iterrows():\n",
    "        product = product_row[\"product_concept\"]\n",
    "        score = fuzzy_similarity(ingredient, product)\n",
    "\n",
    "        if score > 0.5:  # adjustable threshold\n",
    "            matches.append({\n",
    "                \"row_id\": row_id,\n",
    "                \"recipe\": recipe,\n",
    "                \"ingredient\": ingredient,\n",
    "                \"store\": product_row[\"store\"],\n",
    "                \"product_article\": product_row[\"product_article\"],\n",
    "                \"product_name\": product_row[\"product_name\"],\n",
    "                \"product_concept\": product,\n",
    "                \"fuzzy_score\": round(score * 100, 2)\n",
    "            })\n",
    "\n",
    "print(\"Fuzzy matches found:\", len(matches))\n"
   ]
  },
  {
   "cell_type": "code",
   "execution_count": 28,
   "id": "33f69137",
   "metadata": {},
   "outputs": [
    {
     "name": "stdout",
     "output_type": "stream",
     "text": [
      "Saved fuzzy matching matrix to: matching_scored\\matching_matrix_fuzzy.csv\n"
     ]
    },
    {
     "data": {
      "text/html": [
       "<div>\n",
       "<style scoped>\n",
       "    .dataframe tbody tr th:only-of-type {\n",
       "        vertical-align: middle;\n",
       "    }\n",
       "\n",
       "    .dataframe tbody tr th {\n",
       "        vertical-align: top;\n",
       "    }\n",
       "\n",
       "    .dataframe thead th {\n",
       "        text-align: right;\n",
       "    }\n",
       "</style>\n",
       "<table border=\"1\" class=\"dataframe\">\n",
       "  <thead>\n",
       "    <tr style=\"text-align: right;\">\n",
       "      <th></th>\n",
       "      <th>row_id</th>\n",
       "      <th>recipe</th>\n",
       "      <th>ingredient</th>\n",
       "      <th>store</th>\n",
       "      <th>product_article</th>\n",
       "      <th>product_name</th>\n",
       "      <th>product_concept</th>\n",
       "      <th>fuzzy_score</th>\n",
       "    </tr>\n",
       "  </thead>\n",
       "  <tbody>\n",
       "    <tr>\n",
       "      <th>0</th>\n",
       "      <td>0</td>\n",
       "      <td>Strawberry Smoothie</td>\n",
       "      <td>strawberries</td>\n",
       "      <td>5147</td>\n",
       "      <td>247743</td>\n",
       "      <td>Aardbeien</td>\n",
       "      <td>strawberries</td>\n",
       "      <td>100.0</td>\n",
       "    </tr>\n",
       "    <tr>\n",
       "      <th>1</th>\n",
       "      <td>1</td>\n",
       "      <td>Banana Yogurt Bowl</td>\n",
       "      <td>banana</td>\n",
       "      <td>4278</td>\n",
       "      <td>144576</td>\n",
       "      <td>Wolkentoetje banaan</td>\n",
       "      <td>banana</td>\n",
       "      <td>100.0</td>\n",
       "    </tr>\n",
       "    <tr>\n",
       "      <th>2</th>\n",
       "      <td>1</td>\n",
       "      <td>Banana Yogurt Bowl</td>\n",
       "      <td>banana</td>\n",
       "      <td>5070</td>\n",
       "      <td>144576</td>\n",
       "      <td>Wolkentoetje banaan</td>\n",
       "      <td>banana</td>\n",
       "      <td>100.0</td>\n",
       "    </tr>\n",
       "    <tr>\n",
       "      <th>3</th>\n",
       "      <td>2</td>\n",
       "      <td>Greek Yogurt &amp; Honey</td>\n",
       "      <td>yogurt</td>\n",
       "      <td>1024</td>\n",
       "      <td>438226</td>\n",
       "      <td>Roeryoghurt</td>\n",
       "      <td>yogurt</td>\n",
       "      <td>100.0</td>\n",
       "    </tr>\n",
       "    <tr>\n",
       "      <th>4</th>\n",
       "      <td>2</td>\n",
       "      <td>Greek Yogurt &amp; Honey</td>\n",
       "      <td>yogurt</td>\n",
       "      <td>1058</td>\n",
       "      <td>427454</td>\n",
       "      <td>Volle yoghurt</td>\n",
       "      <td>yogurt</td>\n",
       "      <td>100.0</td>\n",
       "    </tr>\n",
       "  </tbody>\n",
       "</table>\n",
       "</div>"
      ],
      "text/plain": [
       "   row_id                recipe    ingredient  store product_article  \\\n",
       "0       0   Strawberry Smoothie  strawberries   5147          247743   \n",
       "1       1    Banana Yogurt Bowl        banana   4278          144576   \n",
       "2       1    Banana Yogurt Bowl        banana   5070          144576   \n",
       "3       2  Greek Yogurt & Honey        yogurt   1024          438226   \n",
       "4       2  Greek Yogurt & Honey        yogurt   1058          427454   \n",
       "\n",
       "          product_name product_concept  fuzzy_score  \n",
       "0            Aardbeien    strawberries        100.0  \n",
       "1  Wolkentoetje banaan          banana        100.0  \n",
       "2  Wolkentoetje banaan          banana        100.0  \n",
       "3          Roeryoghurt          yogurt        100.0  \n",
       "4        Volle yoghurt          yogurt        100.0  "
      ]
     },
     "execution_count": 28,
     "metadata": {},
     "output_type": "execute_result"
    }
   ],
   "source": [
    "# Save fuzzy match matrix\n",
    "df_fuzzy = pd.DataFrame(matches)\n",
    "output_file = os.path.join(output_folder, \"matching_matrix_fuzzy.csv\")\n",
    "df_fuzzy.to_csv(output_file, index=False)\n",
    "\n",
    "print(\"Saved fuzzy matching matrix to:\", output_file)\n",
    "df_fuzzy.head()\n"
   ]
  },
  {
   "cell_type": "code",
   "execution_count": null,
   "id": "7f1ba357",
   "metadata": {},
   "outputs": [],
   "source": []
  },
  {
   "cell_type": "code",
   "execution_count": null,
   "id": "baa8d4f6",
   "metadata": {},
   "outputs": [],
   "source": []
  }
 ],
 "metadata": {
  "kernelspec": {
   "display_name": "Python 3",
   "language": "python",
   "name": "python3"
  },
  "language_info": {
   "codemirror_mode": {
    "name": "ipython",
    "version": 3
   },
   "file_extension": ".py",
   "mimetype": "text/x-python",
   "name": "python",
   "nbconvert_exporter": "python",
   "pygments_lexer": "ipython3",
   "version": "3.8.8"
  }
 },
 "nbformat": 4,
 "nbformat_minor": 5
}
