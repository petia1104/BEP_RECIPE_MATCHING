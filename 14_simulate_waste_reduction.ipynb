{
 "cells": [
  {
   "cell_type": "markdown",
   "id": "66786b1e",
   "metadata": {},
   "source": [
    "# Notebook 14 - Simulate Waste Reduction from Deployment\n",
    "\n",
    "This notebook estimates the impact of meal box deployment by simulating how many wasted products might have been saved. It compares deployed recipe concepts with actual waste data on the snapshot day and summarizes the potential reduction in both item count and monetary value.\n",
    "\n",
    "---\n",
    "\n",
    "**Inputs**\n",
    "- `store_mealbox_ranked.csv` - Final recipe deployment per store\n",
    "- `waste_with_concept.csv` - Snapshot waste data tagged with food concepts\n",
    "- `products_with_priority.csv` - Product metadata with waste/markdown flags\n",
    "- `recipes_with_ontology.csv` - Ingredient-concept-recipe mapping\n",
    "\n",
    "**Outputs**\n",
    "- `simulated_waste_savings.csv` - Estimated number and value of items saved per store and concept\n",
    "- Summary plots of coverage and savings impact\n",
    "\n",
    "---\n"
   ]
  },
  {
   "cell_type": "code",
   "execution_count": 1,
   "id": "cdc9a9a6",
   "metadata": {},
   "outputs": [],
   "source": [
    "import pandas as pd\n",
    "import os\n",
    "import matplotlib.pyplot as plt\n",
    "\n",
    "# Paths\n",
    "input_folder = \"cleaned_data\"\n",
    "output_file = os.path.join(input_folder, \"simulated_waste_savings.csv\")\n"
   ]
  },
  {
   "cell_type": "code",
   "execution_count": 2,
   "id": "e889cc66",
   "metadata": {},
   "outputs": [
    {
     "name": "stdout",
     "output_type": "stream",
     "text": [
      "Meal box plans: (9, 4)\n",
      "Waste records: (18382, 16)\n",
      "Products: (126919, 35)\n",
      "Recipes: (6, 6)\n"
     ]
    },
    {
     "name": "stderr",
     "output_type": "stream",
     "text": [
      "C:\\Users\\User\\anaconda3\\lib\\site-packages\\IPython\\core\\interactiveshell.py:3165: DtypeWarning: Columns (1,3,5,31) have mixed types.Specify dtype option on import or set low_memory=False.\n",
      "  has_raised = await self.run_ast_nodes(code_ast.body, cell_name,\n"
     ]
    }
   ],
   "source": [
    "# Load inputs\n",
    "df_ranked = pd.read_csv(os.path.join(input_folder, \"store_mealbox_ranked.csv\"))\n",
    "df_waste = pd.read_csv(os.path.join(input_folder, \"waste_with_concept.csv\"))\n",
    "df_products = pd.read_csv(os.path.join(input_folder, \"products_with_priority.csv\"))\n",
    "df_recipes = pd.read_csv(os.path.join(input_folder, \"recipes_with_ontology.csv\"))\n",
    "\n",
    "print(\"Meal box plans:\", df_ranked.shape)\n",
    "print(\"Waste records:\", df_waste.shape)\n",
    "print(\"Products:\", df_products.shape)\n",
    "print(\"Recipes:\", df_recipes.shape)\n"
   ]
  },
  {
   "cell_type": "code",
   "execution_count": 3,
   "id": "c37a151e",
   "metadata": {},
   "outputs": [],
   "source": [
    "# Explode ingredients for concept alignment\n",
    "df_ranked_exploded = df_ranked.explode(\"ingredients\").dropna()\n",
    "df_ranked_exploded[\"ingredient_concept\"] = df_ranked_exploded[\"ingredients\"].str.strip().str.lower()\n",
    "\n",
    "# Get unique concepts per store\n",
    "concepts_per_store = (\n",
    "    df_ranked_exploded.groupby(\"store\")[\"ingredient_concept\"]\n",
    "    .apply(set)\n",
    "    .reset_index()\n",
    ")\n",
    "concepts_per_store.columns = [\"store\", \"deployed_concepts\"]\n"
   ]
  },
  {
   "cell_type": "code",
   "execution_count": 4,
   "id": "c51b3d58",
   "metadata": {},
   "outputs": [
    {
     "name": "stdout",
     "output_type": "stream",
     "text": [
      "Filtered waste rows: (18382, 4)\n"
     ]
    }
   ],
   "source": [
    "# Normalize waste concept names\n",
    "df_waste[\"product_concept\"] = df_waste[\"product_concept\"].astype(str).str.strip().str.lower()\n",
    "\n",
    "# Keep only waste rows with valid store and product concept\n",
    "df_waste_valid = df_waste[[\"Store\", \"product_concept\", \"Items wasted\", \"Value wasted\"]].dropna()\n",
    "df_waste_valid.rename(columns={\"Store\": \"store\"}, inplace=True)\n",
    "\n",
    "# Ensure store column is int\n",
    "df_waste_valid[\"store\"] = df_waste_valid[\"store\"].astype(int)\n",
    "\n",
    "print(\"Filtered waste rows:\", df_waste_valid.shape)\n"
   ]
  },
  {
   "cell_type": "code",
   "execution_count": 5,
   "id": "3a35a670",
   "metadata": {},
   "outputs": [],
   "source": [
    "# Join deployed concepts to waste data by store\n",
    "df_sim = df_waste_valid.merge(concepts_per_store, on=\"store\", how=\"left\")\n",
    "\n",
    "# Flag whether each waste row is covered by a deployed ingredient concept\n",
    "df_sim[\"covered\"] = df_sim.apply(\n",
    "    lambda row: row[\"product_concept\"] in row[\"deployed_concepts\"] if isinstance(row[\"deployed_concepts\"], set) else False,\n",
    "    axis=1\n",
    ")\n"
   ]
  },
  {
   "cell_type": "code",
   "execution_count": 6,
   "id": "09ddac60",
   "metadata": {},
   "outputs": [
    {
     "name": "stdout",
     "output_type": "stream",
     "text": [
      "Simulated saved rows: (0, 4)\n"
     ]
    },
    {
     "data": {
      "text/html": [
       "<div>\n",
       "<style scoped>\n",
       "    .dataframe tbody tr th:only-of-type {\n",
       "        vertical-align: middle;\n",
       "    }\n",
       "\n",
       "    .dataframe tbody tr th {\n",
       "        vertical-align: top;\n",
       "    }\n",
       "\n",
       "    .dataframe thead th {\n",
       "        text-align: right;\n",
       "    }\n",
       "</style>\n",
       "<table border=\"1\" class=\"dataframe\">\n",
       "  <thead>\n",
       "    <tr style=\"text-align: right;\">\n",
       "      <th></th>\n",
       "      <th>store</th>\n",
       "      <th>product_concept</th>\n",
       "      <th>items_saved</th>\n",
       "      <th>value_saved</th>\n",
       "    </tr>\n",
       "  </thead>\n",
       "  <tbody>\n",
       "  </tbody>\n",
       "</table>\n",
       "</div>"
      ],
      "text/plain": [
       "Empty DataFrame\n",
       "Columns: [store, product_concept, items_saved, value_saved]\n",
       "Index: []"
      ]
     },
     "metadata": {},
     "output_type": "display_data"
    }
   ],
   "source": [
    "# Aggregate waste savings only for covered rows\n",
    "df_covered = df_sim[df_sim[\"covered\"]]\n",
    "\n",
    "df_savings = (\n",
    "    df_covered.groupby([\"store\", \"product_concept\"])\n",
    "    .agg(\n",
    "        items_saved=(\"Items wasted\", \"sum\"),\n",
    "        value_saved=(\"Value wasted\", \"sum\")\n",
    "    )\n",
    "    .reset_index()\n",
    ")\n",
    "\n",
    "print(\"Simulated saved rows:\", df_savings.shape)\n",
    "display(df_savings.head())\n"
   ]
  },
  {
   "cell_type": "code",
   "execution_count": 7,
   "id": "2e94e199",
   "metadata": {},
   "outputs": [
    {
     "name": "stdout",
     "output_type": "stream",
     "text": [
      "Store-level savings summary:\n"
     ]
    },
    {
     "data": {
      "text/html": [
       "<div>\n",
       "<style scoped>\n",
       "    .dataframe tbody tr th:only-of-type {\n",
       "        vertical-align: middle;\n",
       "    }\n",
       "\n",
       "    .dataframe tbody tr th {\n",
       "        vertical-align: top;\n",
       "    }\n",
       "\n",
       "    .dataframe thead th {\n",
       "        text-align: right;\n",
       "    }\n",
       "</style>\n",
       "<table border=\"1\" class=\"dataframe\">\n",
       "  <thead>\n",
       "    <tr style=\"text-align: right;\">\n",
       "      <th></th>\n",
       "      <th>store</th>\n",
       "      <th>total_items_saved</th>\n",
       "      <th>total_value_saved</th>\n",
       "    </tr>\n",
       "  </thead>\n",
       "  <tbody>\n",
       "  </tbody>\n",
       "</table>\n",
       "</div>"
      ],
      "text/plain": [
       "Empty DataFrame\n",
       "Columns: [store, total_items_saved, total_value_saved]\n",
       "Index: []"
      ]
     },
     "metadata": {},
     "output_type": "display_data"
    }
   ],
   "source": [
    "# Compute total savings per store\n",
    "df_totals = (\n",
    "    df_savings.groupby(\"store\")\n",
    "    .agg(\n",
    "        total_items_saved=(\"items_saved\", \"sum\"),\n",
    "        total_value_saved=(\"value_saved\", \"sum\")\n",
    "    )\n",
    "    .reset_index()\n",
    ")\n",
    "\n",
    "# Preview\n",
    "print(\"Store-level savings summary:\")\n",
    "display(df_totals.sort_values(\"total_value_saved\", ascending=False).head())\n"
   ]
  },
  {
   "cell_type": "code",
   "execution_count": 11,
   "id": "ac612437",
   "metadata": {},
   "outputs": [],
   "source": [
    "# Reference concepts from waste and markdown tags\n",
    "waste_concepts = set(df_products[df_products[\"waste_flag\"] == 1][\"product_concept\"].dropna())\n",
    "markdown_concepts = set(df_products[df_products[\"markdown_flag\"] == 1][\"product_concept\"].dropna())\n",
    "\n",
    "# Unique deployed ingredient concepts\n",
    "deployed_concepts = set(df_ranked_exploded[\"ingredient_concept\"])"
   ]
  },
  {
   "cell_type": "code",
   "execution_count": 12,
   "id": "b2b75c7b",
   "metadata": {
    "scrolled": true
   },
   "outputs": [
    {
     "name": "stdout",
     "output_type": "stream",
     "text": [
      "Missed waste concepts: {'strawberries', 'honey', 'yogurt', 'banana'}\n"
     ]
    }
   ],
   "source": [
    "missed_concepts = waste_concepts.difference(deployed_concepts)\n",
    "print(\"Missed waste concepts:\", missed_concepts)\n"
   ]
  },
  {
   "cell_type": "code",
   "execution_count": 8,
   "id": "55ced0ac",
   "metadata": {},
   "outputs": [
    {
     "data": {
      "image/png": "[encoded data removed]",
      "text/plain": [
       "<Figure size 720x360 with 1 Axes>"
      ]
     },
     "metadata": {
      "needs_background": "light"
     },
     "output_type": "display_data"
    }
   ],
   "source": [
    "plt.figure(figsize=(10, 5))\n",
    "top_stores = df_totals.sort_values(\"total_value_saved\", ascending=False).head(15)\n",
    "plt.bar(top_stores[\"store\"].astype(str), top_stores[\"total_value_saved\"])\n",
    "plt.title(\"Top 15 Stores by Estimated Waste Value Saved\")\n",
    "plt.ylabel(\"Value Saved (€)\")\n",
    "plt.xticks(rotation=45, ha=\"right\")\n",
    "plt.tight_layout()\n",
    "plt.show()\n"
   ]
  },
  {
   "cell_type": "code",
   "execution_count": 9,
   "id": "b0f7bebd",
   "metadata": {},
   "outputs": [
    {
     "name": "stdout",
     "output_type": "stream",
     "text": [
      "Saved simulated savings to: cleaned_data\\simulated_waste_savings.csv\n"
     ]
    }
   ],
   "source": [
    "# Save detailed savings per concept per store\n",
    "df_savings.to_csv(output_file, index=False)\n",
    "print(\"Saved simulated savings to:\", output_file)\n"
   ]
  },
  {
   "cell_type": "markdown",
   "id": "31838542",
   "metadata": {},
   "source": [
    "### Summary\n",
    "\n",
    "This notebook simulated how effective the deployed meal boxes would be in reducing food waste by:\n",
    "\n",
    "- Comparing deployed recipe ingredient concepts against real waste on the snapshot date.\n",
    "- Quantifying how many items and how much value would have been saved.\n",
    "- Visualizing store-level impact in terms of euros recovered.\n",
    "\n",
    "The results allow Dirk to:\n",
    "\n",
    "- Prioritize rollout to stores with higher simulated savings.\n",
    "- Refine future meal box planning to align with high-waste concepts.\n",
    "- Provide quantitative evidence of potential waste reduction for stakeholders.\n",
    "\n",
    "Next: Notebook 15 will continue with exporting ingredient-level inventory instructions for store operations, or Notebook 16 will analyze strategy-level optimizations for future rollout.\n"
   ]
  },
  {
   "cell_type": "code",
   "execution_count": null,
   "id": "13631b32",
   "metadata": {},
   "outputs": [],
   "source": []
  }
 ],
 "metadata": {
  "kernelspec": {
   "display_name": "Python 3",
   "language": "python",
   "name": "python3"
  },
  "language_info": {
   "codemirror_mode": {
    "name": "ipython",
    "version": 3
   },
   "file_extension": ".py",
   "mimetype": "text/x-python",
   "name": "python",
   "nbconvert_exporter": "python",
   "pygments_lexer": "ipython3",
   "version": "3.8.8"
  }
 },
 "nbformat": 4,
 "nbformat_minor": 5
}
