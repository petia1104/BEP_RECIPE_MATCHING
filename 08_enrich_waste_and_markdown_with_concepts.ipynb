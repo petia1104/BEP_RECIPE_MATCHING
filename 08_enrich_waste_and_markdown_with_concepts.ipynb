{
 "cells": [
  {
   "cell_type": "markdown",
   "id": "f2662087",
   "metadata": {},
   "source": [
    "# Notebook 08 - Enrich Waste and Markdown with Concepts\n",
    "\n",
    "This notebook prepares markdown and waste snapshot data by aligning them with the ontology used in the main recipe-product pipeline. We normalize product names and map them to standardized food concepts for concept-level reasoning and planning.\n",
    "\n",
    "Inputs:\n",
    "- `Dirk data/2025-01-24T07_03_00+00_00zero waste lab Mark Down 2025-01-24.xlsx`\n",
    "- `Dirk data/2025-01-24T07_01_23+00_00zero waste lab Mark Down_Waste 2025-01-24.xlsx`\n",
    "\n",
    "Output:\n",
    "- `cleaned_data/markdown_with_concept.csv`\n",
    "- `cleaned_data/waste_with_concept.csv`\n"
   ]
  },
  {
   "cell_type": "code",
   "execution_count": 2,
   "id": "2d7f011f",
   "metadata": {},
   "outputs": [
    {
     "name": "stdout",
     "output_type": "stream",
     "text": [
      "Waste: (18382, 14)\n",
      "Markdown: (5605, 9)\n",
      "Waste columns: ['Store', 'Date', 'Article', 'Unnamed: 3', 'Product name', 'Brand', 'Content', 'Eenheid CE', 'Supplier', 'Unnamed: 9', 'Content category', 'Waste reason', 'Items wasted', 'Value wasted']\n",
      "Markdown columns: ['Filiaal', 'Date', 'Time', 'Article', 'Unnamed: 4', 'Discount percentage', 'Regular price', 'Pakking price', 'total amount discounted']\n"
     ]
    }
   ],
   "source": [
    "import pandas as pd\n",
    "import os\n",
    "\n",
    "# Set folders\n",
    "raw_data_folder = r\"C:\\Users\\User\\Desktop\\University\\BEP\\Data\\Dirk data\"\n",
    "output_folder = \"cleaned_data\"\n",
    "\n",
    "# File paths\n",
    "waste_file = os.path.join(raw_data_folder, \"2025-01-24T07_01_23+00_00zero waste lab Mark Down_Waste 2025-01-24.xlsx\")\n",
    "markdown_file = os.path.join(raw_data_folder, \"2025-01-24T07_03_00+00_00zero waste lab Mark Down 2025-01-24.xlsx\")\n",
    "\n",
    "# Attempt to load Excel files (we will adjust skiprows as needed)\n",
    "df_waste = pd.read_excel(waste_file, skiprows=2)\n",
    "df_markdown = pd.read_excel(markdown_file, skiprows=2)\n",
    "\n",
    "# Preview dimensions\n",
    "print(\"Waste:\", df_waste.shape)\n",
    "print(\"Markdown:\", df_markdown.shape)\n",
    "\n",
    "# Show column names to confirm correct header parsing\n",
    "print(\"Waste columns:\", df_waste.columns.tolist())\n",
    "print(\"Markdown columns:\", df_markdown.columns.tolist())\n"
   ]
  },
  {
   "cell_type": "code",
   "execution_count": 3,
   "id": "fb3818c3",
   "metadata": {},
   "outputs": [
    {
     "data": {
      "text/html": [
       "<div>\n",
       "<style scoped>\n",
       "    .dataframe tbody tr th:only-of-type {\n",
       "        vertical-align: middle;\n",
       "    }\n",
       "\n",
       "    .dataframe tbody tr th {\n",
       "        vertical-align: top;\n",
       "    }\n",
       "\n",
       "    .dataframe thead th {\n",
       "        text-align: right;\n",
       "    }\n",
       "</style>\n",
       "<table border=\"1\" class=\"dataframe\">\n",
       "  <thead>\n",
       "    <tr style=\"text-align: right;\">\n",
       "      <th></th>\n",
       "      <th>Product name</th>\n",
       "      <th>product_name_clean</th>\n",
       "    </tr>\n",
       "  </thead>\n",
       "  <tbody>\n",
       "    <tr>\n",
       "      <th>0</th>\n",
       "      <td>Salade Surinaamse ei</td>\n",
       "      <td>salade surinaamse ei</td>\n",
       "    </tr>\n",
       "    <tr>\n",
       "      <th>1</th>\n",
       "      <td>Roomyoghurt Spaanse sinaasappel</td>\n",
       "      <td>roomyoghurt spaanse sinaasappel</td>\n",
       "    </tr>\n",
       "    <tr>\n",
       "      <th>2</th>\n",
       "      <td>Rundvleesslaatje</td>\n",
       "      <td>rundvleesslaatje</td>\n",
       "    </tr>\n",
       "    <tr>\n",
       "      <th>3</th>\n",
       "      <td>Grillworst kip</td>\n",
       "      <td>grillworst kip</td>\n",
       "    </tr>\n",
       "    <tr>\n",
       "      <th>4</th>\n",
       "      <td>Grillworst</td>\n",
       "      <td>grillworst</td>\n",
       "    </tr>\n",
       "  </tbody>\n",
       "</table>\n",
       "</div>"
      ],
      "text/plain": [
       "                      Product name               product_name_clean\n",
       "0             Salade Surinaamse ei             salade surinaamse ei\n",
       "1  Roomyoghurt Spaanse sinaasappel  roomyoghurt spaanse sinaasappel\n",
       "2                 Rundvleesslaatje                 rundvleesslaatje\n",
       "3                   Grillworst kip                   grillworst kip\n",
       "4                       Grillworst                       grillworst"
      ]
     },
     "metadata": {},
     "output_type": "display_data"
    }
   ],
   "source": [
    "# Normalize product names from waste (markdown doesn't contain names)\n",
    "df_waste[\"product_name_clean\"] = df_waste[\"Product name\"].astype(str).str.strip().str.lower()\n",
    "\n",
    "# Preview cleaned names\n",
    "display(df_waste[[\"Product name\", \"product_name_clean\"]].head(5))\n"
   ]
  },
  {
   "cell_type": "markdown",
   "id": "122e02a4",
   "metadata": {},
   "source": [
    "### Align Waste Items to Canonical Food Concepts\n",
    "\n",
    "We now map the cleaned `product_name_clean` column in the waste dataset to our food ontology. This enables concept-level reasoning across recipes, products, and waste.\n"
   ]
  },
  {
   "cell_type": "code",
   "execution_count": 7,
   "id": "03d3b623",
   "metadata": {},
   "outputs": [
    {
     "data": {
      "text/html": [
       "<div>\n",
       "<style scoped>\n",
       "    .dataframe tbody tr th:only-of-type {\n",
       "        vertical-align: middle;\n",
       "    }\n",
       "\n",
       "    .dataframe tbody tr th {\n",
       "        vertical-align: top;\n",
       "    }\n",
       "\n",
       "    .dataframe thead th {\n",
       "        text-align: right;\n",
       "    }\n",
       "</style>\n",
       "<table border=\"1\" class=\"dataframe\">\n",
       "  <thead>\n",
       "    <tr style=\"text-align: right;\">\n",
       "      <th></th>\n",
       "      <th>product_name_clean</th>\n",
       "      <th>product_concept</th>\n",
       "    </tr>\n",
       "  </thead>\n",
       "  <tbody>\n",
       "    <tr>\n",
       "      <th>932</th>\n",
       "      <td>kwark aardbei</td>\n",
       "      <td>yogurt</td>\n",
       "    </tr>\n",
       "    <tr>\n",
       "      <th>1390</th>\n",
       "      <td>volle yoghurt</td>\n",
       "      <td>yogurt</td>\n",
       "    </tr>\n",
       "    <tr>\n",
       "      <th>9437</th>\n",
       "      <td>mosterd honing</td>\n",
       "      <td>honey</td>\n",
       "    </tr>\n",
       "    <tr>\n",
       "      <th>12067</th>\n",
       "      <td>roeryoghurt</td>\n",
       "      <td>yogurt</td>\n",
       "    </tr>\n",
       "    <tr>\n",
       "      <th>14437</th>\n",
       "      <td>aardbeien</td>\n",
       "      <td>strawberries</td>\n",
       "    </tr>\n",
       "    <tr>\n",
       "      <th>16137</th>\n",
       "      <td>magere yoghurt</td>\n",
       "      <td>yogurt</td>\n",
       "    </tr>\n",
       "    <tr>\n",
       "      <th>17517</th>\n",
       "      <td>wolkentoetje banaan</td>\n",
       "      <td>banana</td>\n",
       "    </tr>\n",
       "  </tbody>\n",
       "</table>\n",
       "</div>"
      ],
      "text/plain": [
       "        product_name_clean product_concept\n",
       "932          kwark aardbei          yogurt\n",
       "1390         volle yoghurt          yogurt\n",
       "9437        mosterd honing           honey\n",
       "12067          roeryoghurt          yogurt\n",
       "14437            aardbeien    strawberries\n",
       "16137       magere yoghurt          yogurt\n",
       "17517  wolkentoetje banaan          banana"
      ]
     },
     "metadata": {},
     "output_type": "display_data"
    }
   ],
   "source": [
    "# Canonical ontology mapping used throughout the project\n",
    "ontology = {\n",
    "    # Fruits\n",
    "    \"aardbeien\": \"strawberries\",\n",
    "    \"strawberries\": \"strawberries\",\n",
    "    \"bananen\": \"banana\",\n",
    "    \"banana\": \"banana\",\n",
    "\n",
    "    # Dairy\n",
    "    \"volle yoghurt\": \"yogurt\",\n",
    "    \"magere yoghurt\": \"yogurt\",\n",
    "    \"roeryoghurt\": \"yogurt\",\n",
    "    \"kwark aardbei\": \"yogurt\",\n",
    "    \"yogurt\": \"yogurt\",\n",
    "\n",
    "    # Sweeteners\n",
    "    \"bloemenhoning\": \"honey\",\n",
    "    \"mosterd honing\": \"honey\",\n",
    "    \"honey\": \"honey\",\n",
    "\n",
    "    # Vegetables\n",
    "    \"tomaten\": \"tomato\",\n",
    "    \"tomatengroentesoep\": \"tomato\",\n",
    "    \"tomato\": \"tomato\",\n",
    "\n",
    "    # Fish\n",
    "    \"tonijn\": \"tuna\",\n",
    "    \"tuna\": \"tuna\",\n",
    "\n",
    "    # Fallbacks\n",
    "    \"wolkentoetje banaan\": \"banana\"\n",
    "}\n",
    "\n",
    "# Ontology mapping function\n",
    "def map_to_ontology(text, mapping):\n",
    "    if isinstance(text, str):\n",
    "        return mapping.get(text.lower().strip(), None)\n",
    "    return None\n",
    "\n",
    "# Apply to waste data\n",
    "df_waste[\"product_concept\"] = df_waste[\"product_name_clean\"].apply(lambda x: map_to_ontology(x, ontology))\n",
    "\n",
    "# Preview result\n",
    "display(df_waste[[\"product_name_clean\", \"product_concept\"]].dropna().drop_duplicates().head(10))\n"
   ]
  },
  {
   "cell_type": "code",
   "execution_count": 6,
   "id": "86554a6d",
   "metadata": {},
   "outputs": [
    {
     "name": "stdout",
     "output_type": "stream",
     "text": [
      "Saved waste to: cleaned_data\\waste_with_concept.csv\n",
      "Saved markdown to: cleaned_data\\markdown_with_concept.csv\n"
     ]
    }
   ],
   "source": [
    "# Save processed versions\n",
    "waste_out = os.path.join(output_folder, \"waste_with_concept.csv\")\n",
    "markdown_out = os.path.join(output_folder, \"markdown_with_concept.csv\")\n",
    "\n",
    "df_waste.to_csv(waste_out, index=False)\n",
    "df_markdown.to_csv(markdown_out, index=False)\n",
    "\n",
    "print(\"Saved waste to:\", waste_out)\n",
    "print(\"Saved markdown to:\", markdown_out)\n"
   ]
  },
  {
   "cell_type": "markdown",
   "id": "307d3566",
   "metadata": {},
   "source": [
    "### Summary\n",
    "\n",
    "This notebook enriched markdown and waste snapshot files by aligning product names to standardized food concepts from the central ontology used throughout the matching pipeline.\n",
    "\n",
    "Key tasks completed:\n",
    "- Cleaned raw product names from the waste dataset\n",
    "- Mapped noisy entries (e.g. \"kwark aardbei\") to canonical concepts (e.g. \"yogurt\")\n",
    "- Enabled concept-level linking across waste, markdown, products, and recipes\n",
    "- Exported enriched data to `cleaned_data/` for downstream prioritization\n",
    "\n",
    "This prepares the foundation for Notebook 09, where we integrate concept-level waste and markdown signals into store-specific meal box planning.\n"
   ]
  },
  {
   "cell_type": "code",
   "execution_count": null,
   "id": "fa2dbe1a",
   "metadata": {},
   "outputs": [],
   "source": []
  }
 ],
 "metadata": {
  "kernelspec": {
   "display_name": "Python 3",
   "language": "python",
   "name": "python3"
  },
  "language_info": {
   "codemirror_mode": {
    "name": "ipython",
    "version": 3
   },
   "file_extension": ".py",
   "mimetype": "text/x-python",
   "name": "python",
   "nbconvert_exporter": "python",
   "pygments_lexer": "ipython3",
   "version": "3.8.8"
  }
 },
 "nbformat": 4,
 "nbformat_minor": 5
}
